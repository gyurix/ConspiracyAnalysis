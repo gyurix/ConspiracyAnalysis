{
 "cells": [
  {
   "cell_type": "markdown",
   "id": "6746f112",
   "metadata": {},
   "source": [
    "# === Assignment ===\n",
    "## Zadanie 1 – analýza tweetov  \n",
    "Odovzdanie do 10.10.2021 23:59 – máte na to presne 2 týždne – dostanete za to 7,5 boda. \n",
    " \n",
    "Prvé zadanie je zamerané na roztriedenie tweetov medzi rôzne konšpiračné teórie uvedené \n",
    "pod zadaním. Programovať môžete v hocijakom jazyku a váš zdroják sa odovzdáva to IS, no \n",
    "rovnako MUSÍ byť zavesený na vašom githube – v dokumente na začiatku uveďte vždy linku \n",
    "na projekt. Ak nebude GitHub, nebudú body. Okrem zdrojáku odovzdávate aj dokument kde \n",
    "budú screenshoty vašich výsledkov, výsledky ako text a grafy. Môžete napísať aj nejaké teplé \n",
    "slovko k tomu, nech sa pobavíme. \n",
    " \n",
    "Vašou úlohou je teda: \n",
    " \n",
    "1. Importovať dataset do PostgreSQL 13+: \n",
    "https://drive.google.com/drive/folders/1_crPerzWU2Nzc4mR5k6xuGqbp0fJDvsY?usp=sharing \n",
    " \n",
    "2. Vypočítať sentiment pomocou VADER lexikónu \n",
    "https://towardsdatascience.com/sentimental-analysis-using-vader-a3415fef7664 pre \n",
    "tweety, ktoré obsahujú nasledovné hashtagy: #DeepstateVirus #DeepStateVaccine \n",
    "#DeepStateFauci #QAnon #Agenda21 #CCPVirus #ClimateChangeHoax \n",
    "#GlobalWarmingHoax #ChinaLiedPeopleDied #SorosVirus #5GCoronavirus #MAGA \n",
    "#WWG1WGA #Chemtrails #flatEarth #MoonLandingHoax #moonhoax #illuminati \n",
    "#pizzaGateIsReal #PedoGateIsReal #911truth #911insidejob #reptilians \n",
    "Pri výpočte nezohľadňujte (ignorujte) emotikony ani hashtagy ani mentiony v texte. \n",
    " \n",
    "3. Roztriediť vyfiltrované tweety z predošlého zadania medzi konšpiračné teórie – \n",
    "spravte si na to novú tabuľku a mapovanie – nech je jasné ktorý tweet patrí ktorej \n",
    "konšpiračnej teórii.  \n",
    " \n",
    "4. Vypočítajte pomer extrémnych a neutrálnych sentimentov tweetov pre konšpiračné \n",
    "teórie po týždňoch a zistite, či daná konšpiračná teória rastie alebo upadá v čase. \n",
    "Výstup vizualizujte v grafe. Rovnako uveďte aj absolútne čísla: tweet_count, \n",
    "tweet_extreme_count, tweet_neutral_count v tabuľke pre každý týždeň. Za extrém \n",
    "považujeme keď je compound väčší ako 0,5 alebo menší ako -0,5. \n",
    " \n",
    "5. Nájdite TOP10 account-ov ktoré sú najaktívnejšie v každej konšpiračnej teórii \n",
    "s extrémnym sentimentom a ukážte ich v tabuľke: id, name, screen_name a \n",
    "tweet_count. \n",
    " \n",
    "6. Nájdite TOP10 najčastejšie používaných hashtagov pre každú konšpiračnú teóriu \n",
    "z tweetov s extrémnym sentimentom, vypíšte aj počet. \n",
    " \n",
    "V úvahu berte nasledovné konšpiračné teórie a ich hashtagy."
   ]
  },
  {
   "cell_type": "markdown",
   "id": "1edb323b",
   "metadata": {},
   "source": [
    "# === Conspiracy Theories ==="
   ]
  },
  {
   "cell_type": "markdown",
   "id": "b850640d",
   "metadata": {},
   "source": [
    "## Deep State  \n",
    " \n",
    "https://en.wikipedia.org/wiki/Deep_state \n",
    " \n",
    "A deep state is a type of governance made up of potentially secret and unauthorised \n",
    "networks of power operating independently of a state's political leadership in pursuit of \n",
    "their own agenda and goals. In popular usage, the term carries overwhelmingly negative \n",
    "connotations. The range of possible uses of the term is similar to that for shadow \n",
    "government. The expression state within a state is an older and similar concept. Historically, \n",
    "it designated a well-defined organization which seeks to function independently, whereas \n",
    "the deep state refers more to a hidden organization seeking to manipulate the public state. \n",
    " \n",
    "`#DeepstateVirus #DeepStateVaccine #DeepStateFauci`"
   ]
  },
  {
   "cell_type": "markdown",
   "id": "0fc18ef1",
   "metadata": {},
   "source": [
    "## Qanon  \n",
    " \n",
    "https://dennikn.sk/2474994/pripraveni-na-velke-prebudenie-zo-zakulisia-hnutia-qanon/ \n",
    " \n",
    "“The [QAnon] conspiracy involves a range of batshit theories but very basically, many \n",
    "QAnon supporters believe in a global conspiracy involving a ring of Satan-worshipping, child-\n",
    "molesting criminals led by prominent Democrats that includes everyone from Hillary Clinton \n",
    "to Tom Hanks to a Mexican cement company [Cemex]. They also believe information about \n",
    "it is being leaked via cryptic posts on the internet by someone with very high Q-level \n",
    "security clearance—which sounds just as made-up as it definitely is.” \n",
    " \n",
    "`#QAnon #MAGA #WWG1WGA`"
   ]
  },
  {
   "cell_type": "markdown",
   "id": "faa050b1",
   "metadata": {},
   "source": [
    "## New world order  \n",
    " \n",
    "https://www.buzzfeed.com/joeydurso/coronavirus-agenda-21-5g\n",
    "\n",
    "An Old Conspiracy Theory Known As \"Agenda 21\" Has Been Rebooted By The Coronavirus \n",
    "Pandemic. New World Order is here again. \n",
    " \n",
    "`#Agenda21`"
   ]
  },
  {
   "cell_type": "markdown",
   "id": "2d663ad6",
   "metadata": {},
   "source": [
    "## The virus escaped from a Chinese lab  \n",
    " \n",
    "https://www.vox.com/22453571/lab-leak-covid-19-coronavirus-hypothesis-wuhan-virology-china \n",
    " \n",
    "Where did the virus that causes Covid-19 come from? It’s one of the most persistent \n",
    "mysteries of the pandemic. The debate about it among scientists, policymakers, journalists, \n",
    "amateur internet sleuths, and the general public has reignited with new revelations and \n",
    "new voices in the mix. We may never know for sure if the virus that causes Covid-19 leaked \n",
    "from a lab. But that won’t stop the debate. \n",
    " \n",
    "`#CCPVirus #ChinaLiedPeopleDied`"
   ]
  },
  {
   "cell_type": "markdown",
   "id": "ea0d30d0",
   "metadata": {},
   "source": [
    "## Global Warming is HOAX  \n",
    " \n",
    "https://www.hull.ac.uk/special/blog/why-people-still-believe-climate-change-is-fake-and-\n",
    "why-we-know-theyre-wrong \n",
    " \n",
    "Why people still believe climate change is fake...\n",
    "\n",
    "`#ClimateChangeHoax #GlobalWarmingHoax`"
   ]
  },
  {
   "cell_type": "markdown",
   "id": "15b49d3c",
   "metadata": {},
   "source": [
    "## COVID19 and microchipping  \n",
    " \n",
    "https://www.politifact.com/factchecks/2020/may/28/facebook-posts/theres-no-plot-\n",
    "microchip-people-during-covid-19-te/ \n",
    " \n",
    "There’s no evidence that Bill Gates and George Soros plan to microchip people being tested \n",
    "for coronavirus. \n",
    " \n",
    "`#SorosVirus #BillGAtes`"
   ]
  },
  {
   "cell_type": "markdown",
   "id": "deb07df2",
   "metadata": {},
   "source": [
    "## COVID19 is preaded by 5G  \n",
    " \n",
    "https://www.vox.com/recode/2020/4/24/21231085/coronavirus-5g-conspiracy-theory-\n",
    "covid-facebook-youtube \n",
    " \n",
    "The first link John Gregory saw pushing a connection between 5G and the coronavirus \n",
    "pandemic was on a French conspiracy website called Les moutons enragés, which loosely \n",
    "translates as “The rabid sheep.” A January 20 post floated that the millimeter wave \n",
    "spectrum used by 5G technology and Covid-19, the disease caused by the novel coronavirus, \n",
    "could be related, pointing to reports about Wuhan installing 5G towers before the outbreak. \n",
    "Three months later, conspiracy theorists making similar claims were setting cellphone \n",
    "towers on fire in Europe. \n",
    " \n",
    "`#5GCoronavirus`"
   ]
  },
  {
   "cell_type": "markdown",
   "id": "35577c0e",
   "metadata": {},
   "source": [
    "## Moon landing is fake  \n",
    " \n",
    "https://www.space.com/apollo-11-moon-landing-hoax-believers.html \n",
    " \n",
    "Moon-Landing Hoax Still Lives On, 50 Years After Apollo 11. \n",
    " \n",
    "`#MoonLandingHoax #moonhoax`"
   ]
  },
  {
   "cell_type": "markdown",
   "id": "394fb981",
   "metadata": {},
   "source": [
    "## 9/11 was inside job  \n",
    " \n",
    "https://www.bbc.com/news/58469600 \n",
    " \n",
    "11 September 2001: The conspiracy theories still spreading after 20 years \n",
    " \n",
    "`#911truth #911insidejob`"
   ]
  },
  {
   "cell_type": "markdown",
   "id": "037078fc",
   "metadata": {},
   "source": [
    "## Pizzagate conspiracy theory \n",
    " \n",
    "(https://en.wikipedia.org/wiki/Pizzagate_conspiracy_theory \n",
    " \n",
    "In March 2016, the personal email account of John Podesta, Hillary Clinton's campaign chair, \n",
    "was hacked in a spear-phishing attack. WikiLeaks published his emails in November 2016. \n",
    "Proponents of the Pizzagate conspiracy theory falsely claimed the emails contained coded \n",
    "messages that connected several high-ranking Democratic Party officials and U.S. \n",
    "restaurants with an alleged human trafficking and child sex ring. One of the establishments \n",
    "allegedly involved was the Comet Ping Pong pizzeria in Washington, D.C.[6][7] \n",
    " \n",
    "`#pizzaGateIsReal #PedoGateIsReal`"
   ]
  },
  {
   "cell_type": "markdown",
   "id": "74cb72b0",
   "metadata": {},
   "source": [
    "## Chemtrails  \n",
    " \n",
    "https://keith.seas.harvard.edu/chemtrails-conspiracy-theory \n",
    " \n",
    "Chemtrails refers to the theory that governments or other parties are engaged in a secret \n",
    "program to add toxic chemicals to the atmosphere from aircraft in a way that forms visible \n",
    "plumes in the sky, somewhat similar to contrails. Various different motivations for this \n",
    "alleged spraying are speculated, including sterilization, reduction of life expectancy, mind \n",
    "control or weather control. \n",
    " \n",
    "`#Chemtrails`"
   ]
  },
  {
   "cell_type": "markdown",
   "id": "ec041e36",
   "metadata": {},
   "source": [
    "## Flat Earth  \n",
    " \n",
    "https://edition.cnn.com/2019/11/16/us/flat-earth-conference-conspiracy-theories-scli-intl/index.html \n",
    " \n",
    "(CNN)\"I don't want to be a flat Earther,\" David Weiss says, his voice weary as he reflects on \n",
    "his personal awakening. \"Would you wake up in the morning and want everyone to think \n",
    "you're an idiot?\" But Weiss is a flat Earther. Ever since he tried and failed to find proof of the \n",
    "Earth's curve four years ago, he's believed with an evident passion that our planet is both \n",
    "flat and stationary -- and it's turned his world upside down. \n",
    " \n",
    "`#flatEarth`"
   ]
  },
  {
   "cell_type": "markdown",
   "id": "94f72744",
   "metadata": {},
   "source": [
    "## Illuminati  \n",
    " \n",
    "https://www.bbc.com/future/article/20170809-the-accidental-invention-of-the-illuminati-\n",
    "conspiracy \n",
    "It’s the conspiracy theory to dwarf all conspiracy theories. A smorgasbord of every other \n",
    "intrigue under the sun, the Illuminati are the supposed overlords controlling the world’s \n",
    "affairs, operating secretly as they seek to establish a New World Order. \n",
    " \n",
    "`#illuminati`"
   ]
  },
  {
   "cell_type": "markdown",
   "id": "74e3abd5",
   "metadata": {},
   "source": [
    "## Reptilian conspiracy theory  \n",
    " \n",
    "https://en.wikipedia.org/wiki/Reptilian_conspiracy_theory \n",
    " \n",
    "Reptilians – also called reptoids, lizard people, reptiloids, saurians, or draconians – are \n",
    "supposed reptilian humanoids, which play a prominent role in fantasy, science fiction, \n",
    "ufology, and conspiracy theories. The idea of reptilians was popularised by David Icke, a \n",
    "conspiracy theorist who claims shapeshifting reptilian aliens control Earth by taking on \n",
    "human form and gaining political power to manipulate human societies. Icke has stated on \n",
    "multiple occasions that many world leaders are, or are possessed by, so-called reptilians. \n",
    " \n",
    "`#reptilians`"
   ]
  },
  {
   "cell_type": "markdown",
   "id": "1a2f3b0e",
   "metadata": {},
   "source": [
    "# === Database structure ===\n",
    "\n",
    "![DB structure](Zadanie1-TweetsDB.jpeg)"
   ]
  },
  {
   "cell_type": "markdown",
   "id": "34232286",
   "metadata": {},
   "source": [
    "# === Solution ===\n",
    "## by Bc. Juraj Baráth"
   ]
  },
  {
   "cell_type": "markdown",
   "id": "705a8ccc",
   "metadata": {},
   "source": [
    "## Task 1 - Import dataset to PostgreSQL\n",
    "\n",
    "#### Step 1: Install postgis extension\n",
    "`apt install -y postgis postgresql-postgis`\n",
    "\n",
    "#### Step 2: Create new empty database\n",
    "`su postgres`\n",
    "\n",
    "`psql`\n",
    "```\n",
    "CREATE DATABASE tweets;\n",
    "quit;\n",
    "```\n",
    "`logout`\n",
    "\n",
    "#### Step 3: Import the database \n",
    "`screen -dmS pdt pg_restore -v -d tweets tweets.backup`\n",
    "\n",
    "#### Step 4: Optimize postgresql settings\n",
    "Applying the generated optimized postgresql settings from https://pgtune.leopard.in.ua/ can improve the database performance significantly.\n",
    "\n",
    "The primary goal of these optimizations are making postgresql cache much more data into RAM and use significantly less disk I/O operations.\n",
    "\n",
    "`su postgres`\n",
    "\n",
    "`psql`\n",
    "```\n",
    "ALTER SYSTEM SET max_connections = '100';\n",
    "ALTER SYSTEM SET shared_buffers = '8GB';\n",
    "ALTER SYSTEM SET effective_cache_size = '24GB';\n",
    "ALTER SYSTEM SET maintenance_work_mem = '2GB';\n",
    "ALTER SYSTEM SET checkpoint_completion_target = '0.9';\n",
    "ALTER SYSTEM SET wal_buffers = '16MB';\n",
    "ALTER SYSTEM SET default_statistics_target = '100';\n",
    "ALTER SYSTEM SET random_page_cost = '4';\n",
    "ALTER SYSTEM SET effective_io_concurrency = '2';\n",
    "ALTER SYSTEM SET work_mem = '20971kB';\n",
    "ALTER SYSTEM SET min_wal_size = '1GB';\n",
    "ALTER SYSTEM SET max_wal_size = '4GB';\n",
    "ALTER SYSTEM SET max_worker_processes = '8';\n",
    "ALTER SYSTEM SET max_parallel_workers_per_gather = '4';\n",
    "ALTER SYSTEM SET max_parallel_workers = '8';\n",
    "ALTER SYSTEM SET max_parallel_maintenance_workers = '4';\n",
    "quit;\n",
    "```\n",
    "\n",
    "`logout`\n",
    "\n",
    "`service postgresql restart`"
   ]
  },
  {
   "cell_type": "markdown",
   "id": "ab4dcceb",
   "metadata": {},
   "source": [
    "## Task 2 - Sentiment Calculation using VADER"
   ]
  },
  {
   "cell_type": "markdown",
   "id": "f62f786f",
   "metadata": {},
   "source": [
    "#### Step 1: Grant read only access to a new database user, grant full access to table tweets & on schema conspiracy\n",
    "`su postgres`\n",
    "\n",
    "`psql -d tweets`\n",
    "\n",
    "```\n",
    "CREATE USER pdt with password '9kRoaGZN5EcgTeDM';\n",
    "GRANT CONNECT ON DATABASE tweets TO pdt;\n",
    "\n",
    "GRANT USAGE ON SCHEMA public TO pdt;\n",
    "GRANT SELECT ON ALL TABLES IN SCHEMA public TO pdt;\n",
    "\n",
    "GRANT ALL PRIVILEGES ON TABLE tweets TO pdt;\n",
    "ALTER TABLE tweets OWNER TO pdt;\n",
    "\n",
    "CREATE SCHEMA conspiracy;\n",
    "GRANT ALL PRIVILIGES ON SCHEMA conspiracy to pdt;\n",
    "\n",
    "quit;\n",
    "```\n",
    "\n",
    "`logout`"
   ]
  },
  {
   "cell_type": "markdown",
   "id": "1b407c88",
   "metadata": {},
   "source": [
    "#### Step 2: Install pip & the dependencies used in this project with it\n",
    "`apt install -y python3-pip libpq-dev`\n",
    "\n",
    "`pip install psycopg2 nb_black`"
   ]
  },
  {
   "cell_type": "markdown",
   "id": "250bf26e",
   "metadata": {},
   "source": [
    "#### Step 3: Setup dependencies & application settings"
   ]
  },
  {
   "cell_type": "code",
   "execution_count": 1,
   "id": "e8ac3588",
   "metadata": {},
   "outputs": [],
   "source": [
    "# Uncomment the following line to automatically reformat python code\n",
    "# %load_ext lab_black"
   ]
  },
  {
   "cell_type": "code",
   "execution_count": 2,
   "id": "22d06d3a",
   "metadata": {},
   "outputs": [],
   "source": [
    "# Application Settings\n",
    "THREADS = 8\n",
    "\n",
    "DB_HOST = \"localhost\"\n",
    "DB_DATABASE = \"tweets\"\n",
    "DB_USER = \"pdt\"\n",
    "DB_PASSWORD = \"9kRoaGZN5EcgTeDM\""
   ]
  },
  {
   "cell_type": "code",
   "execution_count": 3,
   "id": "a5fe2d56",
   "metadata": {},
   "outputs": [
    {
     "name": "stderr",
     "output_type": "stream",
     "text": [
      "[nltk_data] Downloading package vader_lexicon to /root/nltk_data...\n",
      "[nltk_data]   Package vader_lexicon is already up-to-date!\n"
     ]
    }
   ],
   "source": [
    "# Setup Vader Sentiment Intensity Analyzer\n",
    "import nltk\n",
    "\n",
    "nltk.download(\"vader_lexicon\")\n",
    "\n",
    "from nltk.sentiment.vader import SentimentIntensityAnalyzer"
   ]
  },
  {
   "cell_type": "code",
   "execution_count": 4,
   "id": "07acb1d1",
   "metadata": {},
   "outputs": [],
   "source": [
    "# Postgresql connector\n",
    "from psycopg2 import connect\n",
    "\n",
    "# Thread management\n",
    "from threading import Lock, get_ident\n",
    "from multiprocessing.pool import Pool\n",
    "\n",
    "# Error reporting\n",
    "import traceback"
   ]
  },
  {
   "cell_type": "code",
   "execution_count": 5,
   "id": "245e235c",
   "metadata": {},
   "outputs": [],
   "source": [
    "# 2D array pretty printer utility\n",
    "def print_2d(data):\n",
    "    # Ignore empty data\n",
    "    if len(data) == 0:\n",
    "        return\n",
    "\n",
    "    # Do not pretty print if first row is too long\n",
    "    if sum(len(str(s)) for s in data[0]) > 70:\n",
    "        for r in data:\n",
    "            print(r, end=\"\\n\\n\")\n",
    "        return\n",
    "\n",
    "    # Calculate string length for all elements\n",
    "    data_len = []\n",
    "    for row in data:\n",
    "        data_len.append(list([len(str(i)) for i in row]))\n",
    "\n",
    "    # Calculate max length of each column\n",
    "    col_len = []\n",
    "    for col in range(len(data_len[0])):\n",
    "        l = []\n",
    "        for row in data_len:\n",
    "            l.append(row[col])\n",
    "        col_len.append(max(l))\n",
    "\n",
    "    # Generate row separator & use it for the first line\n",
    "    sep = \"\\n+\"\n",
    "    for cl in col_len:\n",
    "        sep += \"-\" * (cl + 2) + \"+\"\n",
    "    sep += \"\\n\"\n",
    "    output = sep\n",
    "\n",
    "    for row in data:\n",
    "        # Generate line with the row's contents\n",
    "        i = 0\n",
    "        for column in row:\n",
    "            output += \"|\" + \" {:^{width}s} \".format(str(column), width=col_len[i])\n",
    "            i += 1\n",
    "\n",
    "        # Append column closer character & row separator\n",
    "        output += \"|\" + sep\n",
    "\n",
    "    # Print the generated output\n",
    "    print(output)\n",
    "\n",
    "\n",
    "# Error printer\n",
    "def print_err(e):\n",
    "    print(e.__cause__)"
   ]
  },
  {
   "cell_type": "markdown",
   "id": "a700ceac",
   "metadata": {},
   "source": [
    "#### Step 4: Connect to the database"
   ]
  },
  {
   "cell_type": "code",
   "execution_count": 6,
   "id": "1ebb23d6",
   "metadata": {},
   "outputs": [
    {
     "name": "stdout",
     "output_type": "stream",
     "text": [
      "Connected to database\n"
     ]
    }
   ],
   "source": [
    "def db():\n",
    "    con = connect(\n",
    "        host=DB_HOST, database=DB_DATABASE, user=DB_USER, password=DB_PASSWORD\n",
    "    )\n",
    "    con.autocommit = True\n",
    "    return con.cursor()\n",
    "\n",
    "\n",
    "cur = db()\n",
    "print(\"Connected to database\")"
   ]
  },
  {
   "cell_type": "markdown",
   "id": "2e390795",
   "metadata": {},
   "source": [
    "#### Step 5: Create conspiracy.names (id, name) table"
   ]
  },
  {
   "cell_type": "code",
   "execution_count": 7,
   "id": "f231d40d",
   "metadata": {},
   "outputs": [],
   "source": [
    "cur.execute(\"DROP TABLE IF EXISTS conspiracy.names\")\n",
    "cur.execute(\"CREATE TABLE conspiracy.names (id SMALLSERIAL PRIMARY KEY NOT NULL, name VARCHAR(40) NOT NULL)\")\n",
    "cur.execute(\"\"\"INSERT INTO conspiracy.names (name) VALUES\n",
    "               ('Deep State'),('Qanon'),('New world order'),('The virus escaped from a Chinese lab'),\n",
    "               ('Global Warming is HOAX'),('COVID19 and microchipping'),('COVID19 is preaded by 5G'),\n",
    "               ('Moon landing is fake'),('9/11 was inside job'),('Pizzagate conspiracy theory'),\n",
    "               ('Chemtrails'),('Flat Earth'),('Illuminati'),('Reptilian conspiracy theory')\n",
    "            \"\"\")"
   ]
  },
  {
   "cell_type": "markdown",
   "id": "be518d04",
   "metadata": {},
   "source": [
    "#### Step 6: Create conspiracy.hashtags (id, conspiracy_id, hashtag_id) table"
   ]
  },
  {
   "cell_type": "code",
   "execution_count": 8,
   "id": "23cac993",
   "metadata": {
    "scrolled": true
   },
   "outputs": [
    {
     "name": "stdout",
     "output_type": "stream",
     "text": [
      "Creating conspiracy.hashtags table, please wait...\n",
      "INSERT INTO conspiracy.hashtags (conspiracy_id, hashtag_id)\n",
      "SELECT 1, id FROM hashtags WHERE\n",
      "     value ILIKE '%DeepstateVirus%'\n",
      "  OR value ILIKE '%DeepStateVaccine%'\n",
      "  OR value ILIKE '%DeepStateFauci%'\n",
      "UNION ALL\n",
      "SELECT 2, id FROM hashtags WHERE\n",
      "     value ILIKE '%QAnon%'\n",
      "  OR value ILIKE '%MAGA%'\n",
      "  OR value ILIKE '%WWG1WGA%'\n",
      "UNION ALL\n",
      "SELECT 3, id FROM hashtags WHERE\n",
      "     value ILIKE '%Agenda21%'\n",
      "UNION ALL\n",
      "SELECT 4, id FROM hashtags WHERE\n",
      "     value ILIKE '%ChinaLiedPeopleDied%'\n",
      "  OR value ILIKE '%CCPVirus%'\n",
      "UNION ALL\n",
      "SELECT 5, id FROM hashtags WHERE\n",
      "     value ILIKE '%ClimateChangeHoax%'\n",
      "  OR value ILIKE '%GlobalWarmingHoax%'\n",
      "UNION ALL\n",
      "SELECT 6, id FROM hashtags WHERE\n",
      "     value ILIKE '%SorosVirus%'\n",
      "UNION ALL\n",
      "SELECT 7, id FROM hashtags WHERE\n",
      "     value ILIKE '%5GCoronavirus%'\n",
      "UNION ALL\n",
      "SELECT 8, id FROM hashtags WHERE\n",
      "     value ILIKE '%MoonLandingHoax%'\n",
      "  OR value ILIKE '%moonhoax%'\n",
      "UNION ALL\n",
      "SELECT 9, id FROM hashtags WHERE\n",
      "     value ILIKE '%911truth%'\n",
      "  OR value ILIKE '%911insidejob%'\n",
      "UNION ALL\n",
      "SELECT 10, id FROM hashtags WHERE\n",
      "     value ILIKE '%pizzaGateIsReal%'\n",
      "  OR value ILIKE '%PedoGateIsReal%'\n",
      "UNION ALL\n",
      "SELECT 11, id FROM hashtags WHERE\n",
      "     value ILIKE '%Chemtrails%'\n",
      "UNION ALL\n",
      "SELECT 12, id FROM hashtags WHERE\n",
      "     value ILIKE '%flatEarth%'\n",
      "UNION ALL\n",
      "SELECT 13, id FROM hashtags WHERE\n",
      "     value ILIKE '%illuminati%'\n",
      "UNION ALL\n",
      "SELECT 14, id FROM hashtags WHERE\n",
      "     value ILIKE '%reptilians%'\n"
     ]
    }
   ],
   "source": [
    "cur.execute(\"DROP TABLE IF EXISTS conspiracy.hashtags\")\n",
    "cur.execute(\"CREATE TABLE conspiracy.hashtags\"+\n",
    "            \"(id SMALLSERIAL PRIMARY KEY NOT NULL, conspiracy_id SMALLINT NOT NULL, hashtag_id INTEGER NOT NULL)\")\n",
    "\n",
    "def get_analysable_hashtags():\n",
    "    return ((\"DeepstateVirus\", \"DeepStateVaccine\", \"DeepStateFauci\"),\n",
    "            (\"QAnon\",\"MAGA\",\"WWG1WGA\"),\n",
    "            \"Agenda21\",\n",
    "            (\"ChinaLiedPeopleDied\",\"CCPVirus\"),\n",
    "            (\"ClimateChangeHoax\",\"GlobalWarmingHoax\"),\n",
    "            \"SorosVirus\",\n",
    "            \"5GCoronavirus\",\n",
    "            (\"MoonLandingHoax\",\"moonhoax\"),\n",
    "            (\"911truth\",\"911insidejob\"),\n",
    "            (\"pizzaGateIsReal\",\"PedoGateIsReal\"),\n",
    "            \"Chemtrails\",\n",
    "            \"flatEarth\",\n",
    "            \"illuminati\",\n",
    "            \"reptilians\"\n",
    "           )\n",
    "\n",
    "querry=\"INSERT INTO conspiracy.hashtags (conspiracy_id, hashtag_id)\"\n",
    "i=0\n",
    "for htlist in get_analysable_hashtags():\n",
    "    i+=1\n",
    "    querry+=\"\\nSELECT \"+str(i)+\", id FROM hashtags WHERE\\n     value ILIKE '%\"\n",
    "    if type(htlist) == tuple:\n",
    "        querry+=htlist[0]+\"%'\"\n",
    "        for ht in htlist[1:]:\n",
    "            querry+=\"\\n  OR value ILIKE '%\"+ht+\"%'\"\n",
    "    else:\n",
    "        querry+=htlist+\"%'\"\n",
    "    querry+='\\nUNION ALL'\n",
    "querry=querry[:-10]\n",
    "print('Creating conspiracy.hashtags table, please wait...')\n",
    "print(querry)\n",
    "cur.execute(querry)"
   ]
  },
  {
   "cell_type": "markdown",
   "id": "1fa9ede4",
   "metadata": {},
   "source": [
    "#### Step 7: Calculate the sentiment of tweets"
   ]
  },
  {
   "cell_type": "code",
   "execution_count": 13,
   "id": "123ac580",
   "metadata": {},
   "outputs": [
    {
     "name": "stdout",
     "output_type": "stream",
     "text": [
      "Fetching tweets, please wait around 15-20 seconds...\n",
      "Processing tweets using 8 threads...\n",
      "2152424 of 2152424 (100.0%) done     \n",
      "Done\n"
     ]
    }
   ],
   "source": [
    "import re\n",
    "\n",
    "cur.execute('ALTER TABLE tweets '+\n",
    "           'ADD COLUMN IF NOT EXISTS neg NUMERIC(6,4),'+\n",
    "           'ADD COLUMN IF NOT EXISTS neu NUMERIC(6,4),'+\n",
    "           'ADD COLUMN IF NOT EXISTS pos NUMERIC(6,4),'+\n",
    "           'ADD COLUMN IF NOT EXISTS compound NUMERIC(6,4)')\n",
    "\n",
    "emoji_pattern = re.compile(\n",
    "    \"[\"\n",
    "    u\"\\U0001F600-\\U0001F64F\"\n",
    "    u\"\\U0001F300-\\U0001F5FF\"\n",
    "    u\"\\U0001F680-\\U0001F6FF\"\n",
    "    u\"\\U0001F1E0-\\U0001F1FF\"\n",
    "    u\"\\U00002702-\\U000027B0\"\n",
    "    u\"\\U000024C2-\\U0001F251\"\n",
    "    u\"\\U0001f926-\\U0001f937\"\n",
    "    u\"\\U00010000-\\U0010ffff\"\n",
    "    u\"\\u200d\"\n",
    "    u\"\\u2640-\\u2642\"\n",
    "    u\"\\u2600-\\u2B55\"\n",
    "    u\"\\u23cf\"\n",
    "    u\"\\u23e9\"\n",
    "    u\"\\u231a\"\n",
    "    u\"\\u3030\"\n",
    "    u\"\\ufe0f\"\n",
    "    \"]+\",\n",
    "    flags=re.UNICODE,\n",
    ")\n",
    "\n",
    "mention_hashtag_pattern = re.compile(\"[#@][A-Za-z0-9_]+\")\n",
    "\n",
    "sid = SentimentIntensityAnalyzer()\n",
    "\n",
    "def process_tweets(tweets):\n",
    "    rows=[]\n",
    "    for tid in tweets:\n",
    "        t = tweets[tid]\n",
    "        t = emoji_pattern.sub(r\"\", t)\n",
    "        t = mention_hashtag_pattern.sub(r\"\", t)\n",
    "        s = sid.polarity_scores(t)\n",
    "        rows.append((tid,s['neg'],s['neu'],s['pos'],s['compound']))\n",
    "\n",
    "    with db() as cur:\n",
    "        cur.execute('CREATE TEMP TABLE upd_tweets (id VARCHAR(20) PRIMARY KEY NOT NULL, neg NUMERIC(6,4), '+\n",
    "                    'neu NUMERIC(6,4), pos NUMERIC(6,4), compound NUMERIC(6,4))')\n",
    "        cur.execute('INSERT INTO upd_tweets VALUES '+str(rows)[1:-1])\n",
    "        cur.execute('UPDATE tweets AS t SET neg=ut.neg, neu=ut.neu, pos=ut.pos, compound=ut.compound '+\n",
    "                    'FROM upd_tweets as ut WHERE t.id=ut.id')\n",
    "        cur.execute('DROP TABLE upd_tweets')\n",
    "\n",
    "    return len(rows)\n",
    "\n",
    "done=0\n",
    "total=0\n",
    "def progress_report(cnt):\n",
    "    global done, total\n",
    "    done += cnt\n",
    "    pct = (done * 10000 // total) / 100.0\n",
    "    print(str(done) + \" of \" + str(total) + \" (\" + str(pct) + \"%) done     \\r\", end=\"\")\n",
    "\n",
    "print('Fetching tweets, please wait around 20 seconds...')\n",
    "cur.execute(\"\"\"SELECT DISTINCT ON (t.id) t.id, t.content FROM conspiracy.hashtags AS ch\n",
    "               INNER JOIN tweet_hashtags AS th ON ch.hashtag_id = th.hashtag_id\n",
    "               INNER JOIN tweets AS t ON t.id=th.tweet_id\n",
    "            \"\"\")\n",
    "print('Processing tweets using '+str(THREADS)+' threads, please wait around 2 minutes...')\n",
    "tweets={}\n",
    "with Pool(THREADS) as p:\n",
    "    for r in cur:\n",
    "        total+=1\n",
    "        tweets[r[0]]=r[1]\n",
    "        if total%10000==0:\n",
    "            p.apply_async(process_tweets, [tweets], callback=progress_report,error_callback=print_err)\n",
    "            tweets={}\n",
    "    p.apply_async(process_tweets, [tweets], callback=progress_report,error_callback=print_err)\n",
    "    p.close()\n",
    "    p.join()\n",
    "print('\\nDone')"
   ]
  },
  {
   "cell_type": "markdown",
   "id": "5b596b99",
   "metadata": {},
   "source": [
    "## Task 3 - Sort tweets by conspiracy theories"
   ]
  },
  {
   "cell_type": "markdown",
   "id": "eb8db876",
   "metadata": {},
   "source": [
    "#### Step 1: Create conspiracy.tweets (id, conspiracy_id, tweet_id) table"
   ]
  },
  {
   "cell_type": "code",
   "execution_count": 22,
   "id": "c0671bd8",
   "metadata": {},
   "outputs": [
    {
     "name": "stdout",
     "output_type": "stream",
     "text": [
      "Sorting, please wait around 40 seconds...\n",
      "Done\n"
     ]
    }
   ],
   "source": [
    "cur.execute(\"DROP TABLE IF EXISTS conspiracy.tweets\")\n",
    "cur.execute(\"\"\"CREATE TABLE conspiracy.tweets (id SERIAL PRIMARY KEY NOT NULL,\n",
    "                                               conspiracy_id SMALLINT NOT NULL,\n",
    "                                               tweet_id VARCHAR(20) NOT NULL)\"\"\")\n",
    "print('Sorting, please wait around 40 seconds...')\n",
    "cur.execute(\"\"\"INSERT INTO conspiracy.tweets (tweet_id,conspiracy_id)\n",
    "               SELECT DISTINCT t.id, ch.conspiracy_id FROM conspiracy.hashtags AS ch\n",
    "               INNER JOIN tweet_hashtags AS th ON ch.hashtag_id = th.hashtag_id\n",
    "               INNER JOIN tweets AS t ON t.id=th.tweet_id\n",
    "            \"\"\")\n",
    "print('Done')"
   ]
  },
  {
   "cell_type": "markdown",
   "id": "8388dfb8",
   "metadata": {},
   "source": [
    "#### Step 2: Display the number of tweets for each conspiracy theory"
   ]
  },
  {
   "cell_type": "code",
   "execution_count": 28,
   "id": "fff924c3",
   "metadata": {},
   "outputs": [
    {
     "name": "stdout",
     "output_type": "stream",
     "text": [
      "\n",
      "+--------------------------------------+---------+\n",
      "|              Conspiracy              | Tweets  |\n",
      "+--------------------------------------+---------+\n",
      "|                Qanon                 | 2143962 |\n",
      "+--------------------------------------+---------+\n",
      "| The virus escaped from a Chinese lab |  8034   |\n",
      "+--------------------------------------+---------+\n",
      "|     Pizzagate conspiracy theory      |  3543   |\n",
      "+--------------------------------------+---------+\n",
      "|              Illuminati              |  2405   |\n",
      "+--------------------------------------+---------+\n",
      "|           New world order            |  2381   |\n",
      "+--------------------------------------+---------+\n",
      "|              Chemtrails              |  1063   |\n",
      "+--------------------------------------+---------+\n",
      "|              Deep State              |   704   |\n",
      "+--------------------------------------+---------+\n",
      "|       COVID19 is preaded by 5G       |   407   |\n",
      "+--------------------------------------+---------+\n",
      "|              Flat Earth              |   375   |\n",
      "+--------------------------------------+---------+\n",
      "|         9/11 was inside job          |   148   |\n",
      "+--------------------------------------+---------+\n",
      "|     Reptilian conspiracy theory      |   68    |\n",
      "+--------------------------------------+---------+\n",
      "|        Global Warming is HOAX        |   57    |\n",
      "+--------------------------------------+---------+\n",
      "|         Moon landing is fake         |   17    |\n",
      "+--------------------------------------+---------+\n",
      "|      COVID19 and microchipping       |   11    |\n",
      "+--------------------------------------+---------+\n",
      "\n"
     ]
    }
   ],
   "source": [
    "rows=[['Conspiracy','Tweets']]\n",
    "cur.execute(\"\"\"\n",
    "            SELECT n.name,count(*) AS cnt FROM conspiracy.tweets\n",
    "            INNER JOIN conspiracy.names AS n ON n.id = conspiracy_id\n",
    "            GROUP BY conspiracy_id, n.name ORDER BY cnt DESC\n",
    "            \"\"\")\n",
    "print_2d(rows+cur.fetchall())"
   ]
  },
  {
   "cell_type": "markdown",
   "id": "96375f9d",
   "metadata": {},
   "source": [
    "## Task 4 - Calculate the ratio of tweets with extreme / neutral sentiment"
   ]
  },
  {
   "cell_type": "code",
   "execution_count": null,
   "id": "70042bc2",
   "metadata": {},
   "outputs": [],
   "source": []
  },
  {
   "cell_type": "markdown",
   "id": "9e4cfda5",
   "metadata": {},
   "source": [
    "## Task 5 - Find Top 10 most active extreme sentiment tweet posters (per conspiracy theory)"
   ]
  },
  {
   "cell_type": "code",
   "execution_count": null,
   "id": "89d30564",
   "metadata": {},
   "outputs": [],
   "source": []
  },
  {
   "cell_type": "markdown",
   "id": "5111277a",
   "metadata": {},
   "source": [
    "## Task 6 - Find Top 10 most used hashtags for each extreme sentiment conspiracy theories "
   ]
  },
  {
   "cell_type": "code",
   "execution_count": null,
   "id": "e3bc8d30",
   "metadata": {},
   "outputs": [],
   "source": []
  }
 ],
 "metadata": {
  "kernelspec": {
   "display_name": "Python 3",
   "language": "python",
   "name": "python3"
  },
  "language_info": {
   "codemirror_mode": {
    "name": "ipython",
    "version": 3
   },
   "file_extension": ".py",
   "mimetype": "text/x-python",
   "name": "python",
   "nbconvert_exporter": "python",
   "pygments_lexer": "ipython3",
   "version": "3.8.8"
  }
 },
 "nbformat": 4,
 "nbformat_minor": 5
}
