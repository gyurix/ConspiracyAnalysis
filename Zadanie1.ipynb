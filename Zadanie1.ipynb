{
 "cells": [
  {
   "cell_type": "markdown",
   "id": "6746f112",
   "metadata": {},
   "source": [
    "# Zadanie 1 – analýza tweetov  \n",
    "Odovzdanie do 10.10.2021 23:59 – máte na to presne 2 týždne – dostanete za to 7,5 boda. \n",
    " \n",
    "Prvé zadanie je zamerané na roztriedenie tweetov medzi rôzne konšpiračné teórie uvedené \n",
    "pod zadaním. Programovať môžete v hocijakom jazyku a váš zdroják sa odovzdáva to IS, no \n",
    "rovnako MUSÍ byť zavesený na vašom githube – v dokumente na začiatku uveďte vždy linku \n",
    "na projekt. Ak nebude GitHub, nebudú body. Okrem zdrojáku odovzdávate aj dokument kde \n",
    "budú screenshoty vašich výsledkov, výsledky ako text a grafy. Môžete napísať aj nejaké teplé \n",
    "slovko k tomu, nech sa pobavíme. \n",
    " \n",
    "Vašou úlohou je teda: \n",
    " \n",
    "1. Importovať dataset do PostgreSQL 13+: \n",
    "https://drive.google.com/drive/folders/1_crPerzWU2Nzc4mR5k6xuGqbp0fJDvsY?usp=sharing \n",
    " \n",
    "2. Vypočítať sentiment pomocou VADER lexikónu \n",
    "https://towardsdatascience.com/sentimental-analysis-using-vader-a3415fef7664 pre \n",
    "tweety, ktoré obsahujú nasledovné hashtagy: #DeepstateVirus #DeepStateVaccine \n",
    "#DeepStateFauci #QAnon #Agenda21 #CCPVirus #ClimateChangeHoax \n",
    "#GlobalWarmingHoax #ChinaLiedPeopleDied #SorosVirus #5GCoronavirus #MAGA \n",
    "#WWG1WGA #Chemtrails #flatEarth #MoonLandingHoax #moonhoax #illuminati \n",
    "#pizzaGateIsReal #PedoGateIsReal #911truth #911insidejob #reptilians \n",
    "Pri výpočte nezohľadňujte (ignorujte) emotikony ani hashtagy ani mentiony v texte. \n",
    " \n",
    "3. Roztriediť vyfiltrované tweety z predošlého zadania medzi konšpiračné teórie – \n",
    "spravte si na to novú tabuľku a mapovanie – nech je jasné ktorý tweet patrí ktorej \n",
    "konšpiračnej teórii.  \n",
    " \n",
    "4. Vypočítajte pomer extrémnych a neutrálnych sentimentov tweetov pre konšpiračné \n",
    "teórie po týždňoch a zistite, či daná konšpiračná teória rastie alebo upadá v čase. \n",
    "Výstup vizualizujte v grafe. Rovnako uveďte aj absolútne čísla: tweet_count, \n",
    "tweet_extreme_count, tweet_neutral_count v tabuľke pre každý týždeň. Za extrém \n",
    "považujeme keď je compound väčší ako 0,5 alebo menší ako -0,5. \n",
    " \n",
    "5. Nájdite TOP10 account-ov ktoré sú najaktívnejšie v každej konšpiračnej teórii \n",
    "s extrémnym sentimentom a ukážte ich v tabuľke: id, name, screen_name a \n",
    "tweet_count. \n",
    " \n",
    "6. Nájdite TOP10 najčastejšie používaných hashtagov pre každú konšpiračnú teóriu \n",
    "z tweetov s extrémnym sentimentom, vypíšte aj počet. \n",
    " \n",
    "V úvahu berte nasledovné konšpiračné teórie a ich hashtagy."
   ]
  },
  {
   "cell_type": "markdown",
   "id": "1a2f3b0e",
   "metadata": {},
   "source": [
    "## Database structure\n",
    "\n",
    "![DB structure](Zadanie1-TweetsDB.jpeg)"
   ]
  },
  {
   "cell_type": "markdown",
   "id": "fe7bd151",
   "metadata": {},
   "source": [
    "# === Conspiracy Theories ==="
   ]
  },
  {
   "cell_type": "markdown",
   "id": "c93f4f13",
   "metadata": {},
   "source": [
    "## Deep State  \n",
    " \n",
    "https://en.wikipedia.org/wiki/Deep_state \n",
    " \n",
    "A deep state is a type of governance made up of potentially secret and unauthorised \n",
    "networks of power operating independently of a state's political leadership in pursuit of \n",
    "their own agenda and goals. In popular usage, the term carries overwhelmingly negative \n",
    "connotations. The range of possible uses of the term is similar to that for shadow \n",
    "government. The expression state within a state is an older and similar concept. Historically, \n",
    "it designated a well-defined organization which seeks to function independently, whereas \n",
    "the deep state refers more to a hidden organization seeking to manipulate the public state. \n",
    " \n",
    "`#DeepstateVirus #DeepStateVaccine #DeepStateFauci`"
   ]
  },
  {
   "cell_type": "markdown",
   "id": "73190932",
   "metadata": {},
   "source": [
    "## Qanon  \n",
    " \n",
    "https://dennikn.sk/2474994/pripraveni-na-velke-prebudenie-zo-zakulisia-hnutia-qanon/ \n",
    " \n",
    "“The [QAnon] conspiracy involves a range of batshit theories but very basically, many \n",
    "QAnon supporters believe in a global conspiracy involving a ring of Satan-worshipping, child-\n",
    "molesting criminals led by prominent Democrats that includes everyone from Hillary Clinton \n",
    "to Tom Hanks to a Mexican cement company [Cemex]. They also believe information about \n",
    "it is being leaked via cryptic posts on the internet by someone with very high Q-level \n",
    "security clearance—which sounds just as made-up as it definitely is.” \n",
    " \n",
    "`#QAnon #MAGA #WWG1WGA`"
   ]
  },
  {
   "cell_type": "markdown",
   "id": "548d479d",
   "metadata": {},
   "source": [
    "## New world order  \n",
    " \n",
    "https://www.buzzfeed.com/joeydurso/coronavirus-agenda-21-5g\n",
    "\n",
    "An Old Conspiracy Theory Known As \"Agenda 21\" Has Been Rebooted By The Coronavirus \n",
    "Pandemic. New World Order is here again. \n",
    " \n",
    "`#Agenda21`"
   ]
  },
  {
   "cell_type": "markdown",
   "id": "d642526d",
   "metadata": {},
   "source": [
    "## The virus escaped from a Chinese lab  \n",
    " \n",
    "https://www.vox.com/22453571/lab-leak-covid-19-coronavirus-hypothesis-wuhan-virology-china \n",
    " \n",
    "Where did the virus that causes Covid-19 come from? It’s one of the most persistent \n",
    "mysteries of the pandemic. The debate about it among scientists, policymakers, journalists, \n",
    "amateur internet sleuths, and the general public has reignited with new revelations and \n",
    "new voices in the mix. We may never know for sure if the virus that causes Covid-19 leaked \n",
    "from a lab. But that won’t stop the debate. \n",
    " \n",
    "`#CCPVirus #ChinaLiedPeopleDied`"
   ]
  },
  {
   "cell_type": "markdown",
   "id": "1a24aa06",
   "metadata": {},
   "source": [
    "## Global Warming is HOAX  \n",
    " \n",
    "https://www.hull.ac.uk/special/blog/why-people-still-believe-climate-change-is-fake-and-\n",
    "why-we-know-theyre-wrong \n",
    " \n",
    "Why people still believe climate change is fake...\n",
    "\n",
    "`#ClimateChangeHoax #GlobalWarmingHoax`"
   ]
  },
  {
   "cell_type": "markdown",
   "id": "2cdfe159",
   "metadata": {},
   "source": [
    "## COVID19 and microchipping  \n",
    " \n",
    "https://www.politifact.com/factchecks/2020/may/28/facebook-posts/theres-no-plot-\n",
    "microchip-people-during-covid-19-te/ \n",
    " \n",
    "There’s no evidence that Bill Gates and George Soros plan to microchip people being tested \n",
    "for coronavirus. \n",
    " \n",
    "`#SorosVirus #BillGAtes`"
   ]
  },
  {
   "cell_type": "markdown",
   "id": "ec4ef1d7",
   "metadata": {},
   "source": [
    "## COVID19 is preaded by 5G  \n",
    " \n",
    "https://www.vox.com/recode/2020/4/24/21231085/coronavirus-5g-conspiracy-theory-\n",
    "covid-facebook-youtube \n",
    " \n",
    "The first link John Gregory saw pushing a connection between 5G and the coronavirus \n",
    "pandemic was on a French conspiracy website called Les moutons enragés, which loosely \n",
    "translates as “The rabid sheep.” A January 20 post floated that the millimeter wave \n",
    "spectrum used by 5G technology and Covid-19, the disease caused by the novel coronavirus, \n",
    "could be related, pointing to reports about Wuhan installing 5G towers before the outbreak. \n",
    "Three months later, conspiracy theorists making similar claims were setting cellphone \n",
    "towers on fire in Europe. \n",
    " \n",
    "`#5GCoronavirus`"
   ]
  },
  {
   "cell_type": "markdown",
   "id": "51c87453",
   "metadata": {},
   "source": [
    "## Moon landing is fake  \n",
    " \n",
    "https://www.space.com/apollo-11-moon-landing-hoax-believers.html \n",
    " \n",
    "Moon-Landing Hoax Still Lives On, 50 Years After Apollo 11. \n",
    " \n",
    "`#MoonLandingHoax #moonhoax`"
   ]
  },
  {
   "cell_type": "markdown",
   "id": "5500e136",
   "metadata": {},
   "source": [
    "## 9/11 was inside job  \n",
    " \n",
    "https://www.bbc.com/news/58469600 \n",
    " \n",
    "11 September 2001: The conspiracy theories still spreading after 20 years \n",
    " \n",
    "`#911truth #911insidejob`"
   ]
  },
  {
   "cell_type": "markdown",
   "id": "794c681e",
   "metadata": {},
   "source": [
    "## Pizzagate conspiracy theory \n",
    " \n",
    "(https://en.wikipedia.org/wiki/Pizzagate_conspiracy_theory \n",
    " \n",
    "In March 2016, the personal email account of John Podesta, Hillary Clinton's campaign chair, \n",
    "was hacked in a spear-phishing attack. WikiLeaks published his emails in November 2016. \n",
    "Proponents of the Pizzagate conspiracy theory falsely claimed the emails contained coded \n",
    "messages that connected several high-ranking Democratic Party officials and U.S. \n",
    "restaurants with an alleged human trafficking and child sex ring. One of the establishments \n",
    "allegedly involved was the Comet Ping Pong pizzeria in Washington, D.C.[6][7] \n",
    " \n",
    "`#pizzaGateIsReal #PedoGateIsReal`"
   ]
  },
  {
   "cell_type": "markdown",
   "id": "0391abe1",
   "metadata": {},
   "source": [
    "## Chemtrails  \n",
    " \n",
    "https://keith.seas.harvard.edu/chemtrails-conspiracy-theory \n",
    " \n",
    "Chemtrails refers to the theory that governments or other parties are engaged in a secret \n",
    "program to add toxic chemicals to the atmosphere from aircraft in a way that forms visible \n",
    "plumes in the sky, somewhat similar to contrails. Various different motivations for this \n",
    "alleged spraying are speculated, including sterilization, reduction of life expectancy, mind \n",
    "control or weather control. \n",
    " \n",
    "`#Chemtrails`"
   ]
  },
  {
   "cell_type": "markdown",
   "id": "7fe2ce36",
   "metadata": {},
   "source": [
    "## Flat Earth  \n",
    " \n",
    "https://edition.cnn.com/2019/11/16/us/flat-earth-conference-conspiracy-theories-scli-intl/index.html \n",
    " \n",
    "(CNN)\"I don't want to be a flat Earther,\" David Weiss says, his voice weary as he reflects on \n",
    "his personal awakening. \"Would you wake up in the morning and want everyone to think \n",
    "you're an idiot?\" But Weiss is a flat Earther. Ever since he tried and failed to find proof of the \n",
    "Earth's curve four years ago, he's believed with an evident passion that our planet is both \n",
    "flat and stationary -- and it's turned his world upside down. \n",
    " \n",
    "`#flatEarth`"
   ]
  },
  {
   "cell_type": "markdown",
   "id": "5aff1cde",
   "metadata": {},
   "source": [
    "## Illuminati  \n",
    " \n",
    "https://www.bbc.com/future/article/20170809-the-accidental-invention-of-the-illuminati-\n",
    "conspiracy \n",
    "It’s the conspiracy theory to dwarf all conspiracy theories. A smorgasbord of every other \n",
    "intrigue under the sun, the Illuminati are the supposed overlords controlling the world’s \n",
    "affairs, operating secretly as they seek to establish a New World Order. \n",
    " \n",
    "`#illuminati`"
   ]
  },
  {
   "cell_type": "markdown",
   "id": "bdc68bf8",
   "metadata": {},
   "source": [
    "## Reptilian conspiracy theory  \n",
    " \n",
    "https://en.wikipedia.org/wiki/Reptilian_conspiracy_theory \n",
    " \n",
    "Reptilians – also called reptoids, lizard people, reptiloids, saurians, or draconians – are \n",
    "supposed reptilian humanoids, which play a prominent role in fantasy, science fiction, \n",
    "ufology, and conspiracy theories. The idea of reptilians was popularised by David Icke, a \n",
    "conspiracy theorist who claims shapeshifting reptilian aliens control Earth by taking on \n",
    "human form and gaining political power to manipulate human societies. Icke has stated on \n",
    "multiple occasions that many world leaders are, or are possessed by, so-called reptilians. \n",
    " \n",
    "`#reptilians`"
   ]
  },
  {
   "cell_type": "markdown",
   "id": "34232286",
   "metadata": {},
   "source": [
    "# === Solution ===\n",
    "## by Bc. Juraj Baráth"
   ]
  },
  {
   "cell_type": "markdown",
   "id": "705a8ccc",
   "metadata": {},
   "source": [
    "## Task 1 - Import dataset to PostgreSQL\n",
    "\n",
    "#### Step 1: Install postgis extension\n",
    "`apt install -y postgis postgresql-postgis`\n",
    "\n",
    "#### Step 2: Create new empty database\n",
    "`su postgres`\n",
    "\n",
    "`psql`\n",
    "```\n",
    "CREATE DATABASE tweets;\n",
    "quit;\n",
    "```\n",
    "`logout`\n",
    "\n",
    "#### Step 3: Import the database \n",
    "`screen -dmS pdt pg_restore -v -d tweets tweets.backup`"
   ]
  },
  {
   "cell_type": "markdown",
   "id": "ab4dcceb",
   "metadata": {},
   "source": [
    "## Task 2 - Sentiment Calculation using VADER"
   ]
  },
  {
   "cell_type": "markdown",
   "id": "ece73bc7",
   "metadata": {},
   "source": [
    "#### Step 1: Grant read only access to a new database user\n",
    "`su postgres`\n",
    "\n",
    "`psql -d tweets`\n",
    "\n",
    "```\n",
    "CREATE USER pdt with password '9kRoaGZN5EcgTeDM';\n",
    "GRANT CONNECT ON DATABASE tweets TO pdt;\n",
    "GRANT USAGE ON SCHEMA public TO pdt;\n",
    "GRANT SELECT ON ALL TABLES IN SCHEMA public TO pdt;\n",
    "quit;\n",
    "```\n",
    "\n",
    "`logout`"
   ]
  },
  {
   "cell_type": "markdown",
   "id": "5d463e95",
   "metadata": {},
   "source": [
    "#### Step 2: Install pip\n",
    "`apt install -y python3-pip`"
   ]
  },
  {
   "cell_type": "markdown",
   "id": "ce3a4126",
   "metadata": {},
   "source": [
    "#### Step 3: Install postgresql connector (psycopg2) dependencies\n",
    "`apt-get install -y libpq-dev`"
   ]
  },
  {
   "cell_type": "markdown",
   "id": "fd442489",
   "metadata": {},
   "source": [
    "#### Step 4: Install postgresql connector (psycopg2)\n",
    "`pip install psycopg2`"
   ]
  },
  {
   "cell_type": "markdown",
   "id": "142791a1",
   "metadata": {},
   "source": [
    "#### Step 5: Install nb_black for automatic code reformatting\n",
    "`pip install nb_black`"
   ]
  },
  {
   "cell_type": "markdown",
   "id": "250bf26e",
   "metadata": {},
   "source": [
    "#### Step 6: Setup dependencies & application settings"
   ]
  },
  {
   "cell_type": "code",
   "execution_count": 1,
   "id": "76f4415a",
   "metadata": {},
   "outputs": [],
   "source": [
    "# Uncomment the following line to automatically reformat python code\n",
    "# %load_ext lab_black"
   ]
  },
  {
   "cell_type": "code",
   "execution_count": 2,
   "id": "bba88d2a",
   "metadata": {},
   "outputs": [],
   "source": [
    "# Application Settings\n",
    "THREADS = 8\n",
    "DB_HOST = 'localhost'\n",
    "DB_DATABASE = 'tweets'\n",
    "DB_USER = 'pdt'\n",
    "DB_PASSWORD = '9kRoaGZN5EcgTeDM'"
   ]
  },
  {
   "cell_type": "code",
   "execution_count": 3,
   "id": "a5fe2d56",
   "metadata": {},
   "outputs": [
    {
     "name": "stderr",
     "output_type": "stream",
     "text": [
      "[nltk_data] Downloading package vader_lexicon to /root/nltk_data...\n",
      "[nltk_data]   Package vader_lexicon is already up-to-date!\n"
     ]
    }
   ],
   "source": [
    "# Setup Vader Sentiment Intensity Analyzer\n",
    "import nltk\n",
    "\n",
    "nltk.download(\"vader_lexicon\")\n",
    "\n",
    "from nltk.sentiment.vader import SentimentIntensityAnalyzer"
   ]
  },
  {
   "cell_type": "code",
   "execution_count": 4,
   "id": "07acb1d1",
   "metadata": {},
   "outputs": [],
   "source": [
    "# Postgresql connector\n",
    "from psycopg2 import pool,connect\n",
    "\n",
    "# Thread management\n",
    "from threading import Lock, get_ident\n",
    "from multiprocessing.pool import Pool\n",
    "\n",
    "# Error reporting\n",
    "import traceback"
   ]
  },
  {
   "cell_type": "markdown",
   "id": "a700ceac",
   "metadata": {},
   "source": [
    "#### Step 7: Create database connection utility class"
   ]
  },
  {
   "cell_type": "code",
   "execution_count": 5,
   "id": "1ebb23d6",
   "metadata": {},
   "outputs": [
    {
     "name": "stdout",
     "output_type": "stream",
     "text": [
      "Connected to database\n"
     ]
    }
   ],
   "source": [
    "# Connect to database using a pool of 8 connections\n",
    "class Conn(pool.ThreadedConnectionPool):\n",
    "    def __init__(self):\n",
    "        super(pool.ThreadedConnectionPool, self).__init__(\n",
    "            1,\n",
    "            THREADS,\n",
    "            host=DB_HOST,\n",
    "            database=DB_DATABASE,\n",
    "            user=DB_USER,\n",
    "            password=DB_PASSWORD,\n",
    "        )\n",
    "        self._lock = Lock()\n",
    "        self.con = {}\n",
    "\n",
    "    def __enter__(self):\n",
    "        con = conn.getconn()\n",
    "        self.con[get_ident()] = con\n",
    "        return con\n",
    "\n",
    "    def __exit__(self, exc_type, exc_val, exc_tb):\n",
    "        try:\n",
    "            print('exit('+str(get_ident())+')')\n",
    "            conn.putconn(self.con[get_ident()])\n",
    "            del self.con[get_ident()]\n",
    "        except:\n",
    "            print(traceback.format_exc())\n",
    "\n",
    "\n",
    "conn = Conn()\n",
    "print(\"Connected to database\")"
   ]
  },
  {
   "cell_type": "markdown",
   "id": "d831c235",
   "metadata": {},
   "source": [
    "The following line of code can be used for using the connection:\n",
    "\n",
    "`with conn as con, con.cursor() as cur:`"
   ]
  },
  {
   "cell_type": "code",
   "execution_count": null,
   "id": "85379d4e",
   "metadata": {},
   "outputs": [],
   "source": [
    "conn = connect(\"dbname='template1' user='dbuser' host='localhost' password='dbpass'\")"
   ]
  },
  {
   "cell_type": "markdown",
   "id": "ec90d9e5",
   "metadata": {},
   "source": [
    "#### Step 8: Describe available tables"
   ]
  },
  {
   "cell_type": "code",
   "execution_count": 6,
   "id": "752de0ea",
   "metadata": {},
   "outputs": [
    {
     "name": "stdout",
     "output_type": "stream",
     "text": [
      "exit(140147837728576)\n",
      "Available tables: ['accounts', 'countries', 'hashtags', 'spatial_ref_sys', 'tweet_hashtags', 'tweet_mentions', 'tweets']\n"
     ]
    }
   ],
   "source": [
    "# List available tables\n",
    "with conn as con, con.cursor() as cur:\n",
    "    cur.execute(\"select tablename from pg_tables where schemaname='public'\")\n",
    "    tables = [a[0] for a in cur.fetchall()]\n",
    "tables.sort()\n",
    "print(\"Available tables:\", tables)"
   ]
  },
  {
   "cell_type": "code",
   "execution_count": 7,
   "id": "a2aa3c7e",
   "metadata": {
    "scrolled": true
   },
   "outputs": [
    {
     "name": "stdout",
     "output_type": "stream",
     "text": [
      "Table accounts:\n",
      "('id', 'bigint', None, \"nextval('accounts_id_seq'::regclass)\", 'NO')\n",
      "('screen_name', 'character varying', 200, None, 'YES')\n",
      "('name', 'character varying', 200, None, 'YES')\n",
      "('description', 'text', None, None, 'YES')\n",
      "('followers_count', 'integer', None, None, 'YES')\n",
      "('friends_count', 'integer', None, None, 'YES')\n",
      "('statuses_count', 'integer', None, None, 'YES')\n",
      "\n",
      "Table countries:\n",
      "('id', 'integer', None, \"nextval('countries_id_seq'::regclass)\", 'NO')\n",
      "('code', 'character varying', 2, None, 'YES')\n",
      "('name', 'character varying', 200, None, 'YES')\n",
      "\n",
      "Table hashtags:\n",
      "('id', 'integer', None, \"nextval('hashtags_id_seq'::regclass)\", 'NO')\n",
      "('value', 'text', None, None, 'NO')\n",
      "\n",
      "Table spatial_ref_sys:\n",
      "('srid', 'integer', None, None, 'NO')\n",
      "('auth_name', 'character varying', 256, None, 'YES')\n",
      "('auth_srid', 'integer', None, None, 'YES')\n",
      "('srtext', 'character varying', 2048, None, 'YES')\n",
      "('proj4text', 'character varying', 2048, None, 'YES')\n",
      "\n",
      "Table tweet_hashtags:\n",
      "('id', 'integer', None, \"nextval('tweet_hashtags_id_seq'::regclass)\", 'NO')\n",
      "('hashtag_id', 'integer', None, None, 'NO')\n",
      "('tweet_id', 'character varying', 20, None, 'NO')\n",
      "\n",
      "Table tweet_mentions:\n",
      "('id', 'integer', None, \"nextval('tweet_mentions_id_seq'::regclass)\", 'NO')\n",
      "('account_id', 'bigint', None, None, 'NO')\n",
      "('tweet_id', 'character varying', 20, None, 'NO')\n",
      "\n",
      "Table tweets:\n",
      "('id', 'character varying', 20, None, 'NO')\n",
      "('content', 'text', None, None, 'YES')\n",
      "('location', 'USER-DEFINED', None, None, 'YES')\n",
      "('retweet_count', 'integer', None, None, 'YES')\n",
      "('favorite_count', 'integer', None, None, 'YES')\n",
      "('happened_at', 'timestamp with time zone', None, None, 'YES')\n",
      "('author_id', 'bigint', None, None, 'YES')\n",
      "('country_id', 'integer', None, None, 'YES')\n",
      "('parent_id', 'character varying', 20, None, 'YES')\n",
      "\n",
      "exit(140147837728576)\n"
     ]
    }
   ],
   "source": [
    "# Describe tables\n",
    "with conn as con, con.cursor() as cur:\n",
    "    for t in tables:\n",
    "        print(\"Table \" + t + \":\")\n",
    "        cur.execute(\n",
    "            \"select column_name, data_type, character_maximum_length, column_default, is_nullable \"\n",
    "            + \"from INFORMATION_SCHEMA.COLUMNS where table_name = '\"\n",
    "            + t\n",
    "            + \"'\"\n",
    "        )\n",
    "        for r in cur.fetchall():\n",
    "            print(r)\n",
    "        print(\"\")"
   ]
  },
  {
   "cell_type": "code",
   "execution_count": 8,
   "id": "5c21fea3",
   "metadata": {
    "scrolled": true
   },
   "outputs": [
    {
     "name": "stdout",
     "output_type": "stream",
     "text": [
      "Table accounts:\n",
      "(280887543, 'carol_cabural', 'Caroline Cabural ♔', \"Always look at things from the other person's perspective.\\n-Dale Carnegie \\nGarde Manger Chef| Hospitality Industry | Filipino\", 657, 1482, 4650)\n",
      "\n",
      "(519245371, 'strong_sue', 'Sue Strong 🇺🇸🇦🇺🇨🇦🇳🇿🇬🇧 #BidenHarris2020', '#HearHim, #ChurchOfJesusChrist, #StandUpRepublic, #TeamPatriot, #CountryOverParty, #ETTD, #Cats, #MS, TSB, GTT, #PAM, #PAMFAM #TeamJoe', 1469, 2636, 53614)\n",
      "\n",
      "(761224507, 'Chn_analysis', 'Paul Harding', '', 150, 357, 4993)\n",
      "\n",
      "(905154964829462528, 'thespybrief', 'The Spy Brief', None, None, None, None)\n",
      "\n",
      "(707774148072882176, 'hiemakene', 'GoneFishing', None, None, None, None)\n",
      "\n",
      "(1133475349285691393, 'KtyWise', 'Kty Wise', '', 161, 241, 21786)\n",
      "\n",
      "(532977876, 'Adrienne711', 'NeverGiveUp ⭐⭐⭐ 🐸', 'Trump2020 WWG1WGA  1A 2A AMERICA FIRST -  I ♥ God Country  & our President Donald J Trump   UnitedNotDivided WWG1WGA\\nShadilay!', 7335, 7033, 132331)\n",
      "\n",
      "(949056207448432640, 'MBJ8388', \"MBJ👩\\u200d💻NoFilters💥Q'Nited✨\", None, None, None, None)\n",
      "\n",
      "(479031878, 'FederalistNo78', 'Nova', None, None, None, None)\n",
      "\n",
      "(939182810417520640, 'Agortitz', 'Grumpy 😆 says Fauxciland is as cool as Disneyland', None, None, None, None)\n",
      "\n",
      "\n",
      "exit(140147837728576)\n",
      "Table countries:\n",
      "(3477, 'VU', 'Vanuatu')\n",
      "(229941, 'JE', 'Jersey')\n",
      "(460, 'EE', 'Estonia')\n",
      "(21055, 'AI', 'Anguilla')\n",
      "(106359, 'CX', 'Christmas Island')\n",
      "(41381, 'HU', 'Hungary')\n",
      "(11486, 'CI', 'Ivory Coast')\n",
      "(365, 'FJ', 'Fiji')\n",
      "(60661, 'VA', 'Vatican City')\n",
      "(196641, 'TG', 'Togo')\n",
      "\n",
      "exit(140147837728576)\n",
      "Table hashtags:\n",
      "(741143, 'Grammy')\n",
      "(15013698, 'AIRBUS')\n",
      "(14991429, 'My2Cents')\n",
      "(14995743, 'CarolinaFamily')\n",
      "(14982535, 'onbegrijpelijk')\n",
      "(15002445, 'onlineharms')\n",
      "(14980895, 'TravelWithUs')\n",
      "(15017121, 'Tuesdaymorning')\n",
      "(15012771, 'uaeu')\n",
      "(14982628, 'EastMeetsWest')\n",
      "\n",
      "exit(140147837728576)\n",
      "Table spatial_ref_sys:\n",
      "(3819, 'EPSG', 3819, 'GEOGCS[\"HD1909\",DATUM[\"Hungarian_Datum_1909\",SPHEROID[\"Bessel 1841\",6377397.155,299.1528128,AUTHORITY[\"EPSG\",\"7004\"]],TOWGS84[595.48,121.69,515.35,4.115,-2.9383,0.853,-3.408],AUTHORITY[\"EPSG\",\"1024\"]],PRIMEM[\"Greenwich\",0,AUTHORITY[\"EPSG\",\"8901\"]],UNIT[\"degree\",0.0174532925199433,AUTHORITY[\"EPSG\",\"9122\"]],AUTHORITY[\"EPSG\",\"3819\"]]', '+proj=longlat +ellps=bessel +towgs84=595.48,121.69,515.35,4.115,-2.9383,0.853,-3.408 +no_defs ')\n",
      "\n",
      "(3821, 'EPSG', 3821, 'GEOGCS[\"TWD67\",DATUM[\"Taiwan_Datum_1967\",SPHEROID[\"GRS 1967 Modified\",6378160,298.25,AUTHORITY[\"EPSG\",\"7050\"]],AUTHORITY[\"EPSG\",\"1025\"]],PRIMEM[\"Greenwich\",0,AUTHORITY[\"EPSG\",\"8901\"]],UNIT[\"degree\",0.0174532925199433,AUTHORITY[\"EPSG\",\"9122\"]],AUTHORITY[\"EPSG\",\"3821\"]]', '+proj=longlat +ellps=aust_SA +no_defs ')\n",
      "\n",
      "(3824, 'EPSG', 3824, 'GEOGCS[\"TWD97\",DATUM[\"Taiwan_Datum_1997\",SPHEROID[\"GRS 1980\",6378137,298.257222101,AUTHORITY[\"EPSG\",\"7019\"]],TOWGS84[0,0,0,0,0,0,0],AUTHORITY[\"EPSG\",\"1026\"]],PRIMEM[\"Greenwich\",0,AUTHORITY[\"EPSG\",\"8901\"]],UNIT[\"degree\",0.0174532925199433,AUTHORITY[\"EPSG\",\"9122\"]],AUTHORITY[\"EPSG\",\"3824\"]]', '+proj=longlat +ellps=GRS80 +towgs84=0,0,0,0,0,0,0 +no_defs ')\n",
      "\n",
      "(3889, 'EPSG', 3889, 'GEOGCS[\"IGRS\",DATUM[\"Iraqi_Geospatial_Reference_System\",SPHEROID[\"GRS 1980\",6378137,298.257222101,AUTHORITY[\"EPSG\",\"7019\"]],TOWGS84[0,0,0,0,0,0,0],AUTHORITY[\"EPSG\",\"1029\"]],PRIMEM[\"Greenwich\",0,AUTHORITY[\"EPSG\",\"8901\"]],UNIT[\"degree\",0.0174532925199433,AUTHORITY[\"EPSG\",\"9122\"]],AUTHORITY[\"EPSG\",\"3889\"]]', '+proj=longlat +ellps=GRS80 +towgs84=0,0,0,0,0,0,0 +no_defs ')\n",
      "\n",
      "(3906, 'EPSG', 3906, 'GEOGCS[\"MGI 1901\",DATUM[\"MGI_1901\",SPHEROID[\"Bessel 1841\",6377397.155,299.1528128,AUTHORITY[\"EPSG\",\"7004\"]],TOWGS84[682,-203,480,0,0,0,0],AUTHORITY[\"EPSG\",\"1031\"]],PRIMEM[\"Greenwich\",0,AUTHORITY[\"EPSG\",\"8901\"]],UNIT[\"degree\",0.0174532925199433,AUTHORITY[\"EPSG\",\"9122\"]],AUTHORITY[\"EPSG\",\"3906\"]]', '+proj=longlat +ellps=bessel +towgs84=682,-203,480,0,0,0,0 +no_defs ')\n",
      "\n",
      "(4001, 'EPSG', 4001, 'GEOGCS[\"Unknown datum based upon the Airy 1830 ellipsoid\",DATUM[\"Not_specified_based_on_Airy_1830_ellipsoid\",SPHEROID[\"Airy 1830\",6377563.396,299.3249646,AUTHORITY[\"EPSG\",\"7001\"]],AUTHORITY[\"EPSG\",\"6001\"]],PRIMEM[\"Greenwich\",0,AUTHORITY[\"EPSG\",\"8901\"]],UNIT[\"degree\",0.0174532925199433,AUTHORITY[\"EPSG\",\"9122\"]],AUTHORITY[\"EPSG\",\"4001\"]]', '+proj=longlat +ellps=airy +no_defs ')\n",
      "\n",
      "(4002, 'EPSG', 4002, 'GEOGCS[\"Unknown datum based upon the Airy Modified 1849 ellipsoid\",DATUM[\"Not_specified_based_on_Airy_Modified_1849_ellipsoid\",SPHEROID[\"Airy Modified 1849\",6377340.189,299.3249646,AUTHORITY[\"EPSG\",\"7002\"]],AUTHORITY[\"EPSG\",\"6002\"]],PRIMEM[\"Greenwich\",0,AUTHORITY[\"EPSG\",\"8901\"]],UNIT[\"degree\",0.0174532925199433,AUTHORITY[\"EPSG\",\"9122\"]],AUTHORITY[\"EPSG\",\"4002\"]]', '+proj=longlat +ellps=mod_airy +no_defs ')\n",
      "\n",
      "(4003, 'EPSG', 4003, 'GEOGCS[\"Unknown datum based upon the Australian National Spheroid\",DATUM[\"Not_specified_based_on_Australian_National_Spheroid\",SPHEROID[\"Australian National Spheroid\",6378160,298.25,AUTHORITY[\"EPSG\",\"7003\"]],AUTHORITY[\"EPSG\",\"6003\"]],PRIMEM[\"Greenwich\",0,AUTHORITY[\"EPSG\",\"8901\"]],UNIT[\"degree\",0.0174532925199433,AUTHORITY[\"EPSG\",\"9122\"]],AUTHORITY[\"EPSG\",\"4003\"]]', '+proj=longlat +ellps=aust_SA +no_defs ')\n",
      "\n",
      "(4004, 'EPSG', 4004, 'GEOGCS[\"Unknown datum based upon the Bessel 1841 ellipsoid\",DATUM[\"Not_specified_based_on_Bessel_1841_ellipsoid\",SPHEROID[\"Bessel 1841\",6377397.155,299.1528128,AUTHORITY[\"EPSG\",\"7004\"]],AUTHORITY[\"EPSG\",\"6004\"]],PRIMEM[\"Greenwich\",0,AUTHORITY[\"EPSG\",\"8901\"]],UNIT[\"degree\",0.0174532925199433,AUTHORITY[\"EPSG\",\"9122\"]],AUTHORITY[\"EPSG\",\"4004\"]]', '+proj=longlat +ellps=bessel +no_defs ')\n",
      "\n",
      "(4005, 'EPSG', 4005, 'GEOGCS[\"Unknown datum based upon the Bessel Modified ellipsoid\",DATUM[\"Not_specified_based_on_Bessel_Modified_ellipsoid\",SPHEROID[\"Bessel Modified\",6377492.018,299.1528128,AUTHORITY[\"EPSG\",\"7005\"]],AUTHORITY[\"EPSG\",\"6005\"]],PRIMEM[\"Greenwich\",0,AUTHORITY[\"EPSG\",\"8901\"]],UNIT[\"degree\",0.0174532925199433,AUTHORITY[\"EPSG\",\"9122\"]],AUTHORITY[\"EPSG\",\"4005\"]]', '+proj=longlat +a=6377492.018 +b=6356173.508712696 +no_defs ')\n",
      "\n",
      "\n",
      "exit(140147837728576)\n",
      "Table tweet_hashtags:\n",
      "(1, 1, '1220777199734792192')\n",
      "(2, 2, '1220777199734792192')\n",
      "(3, 3, '1220777199734792192')\n",
      "(4, 4, '1220777199734792192')\n",
      "(5, 5, '1220777199734792192')\n",
      "(6, 6, '1220777199734792192')\n",
      "(7, 7, '1220777199734792192')\n",
      "(8, 8, '1220777199734792192')\n",
      "(9, 9, '1220777199734792192')\n",
      "(10, 5, '1220729469461127168')\n",
      "\n",
      "exit(140147837728576)\n",
      "Table tweet_mentions:\n",
      "(1, 905154964829462528, '1220786987143192578')\n",
      "(2, 707774148072882176, '1220786987143192578')\n",
      "(3, 761224507, '1220798255098777601')\n",
      "(4, 905154964829462528, '1220798255098777601')\n",
      "(5, 707774148072882176, '1220798255098777601')\n",
      "(6, 949056207448432640, '1220796312565796865')\n",
      "(7, 479031878, '1220796312565796865')\n",
      "(8, 939182810417520640, '1220796312565796865')\n",
      "(9, 938321745882202113, '1220796312565796865')\n",
      "(10, 1149479951617253376, '1220796312565796865')\n",
      "\n",
      "exit(140147837728576)\n",
      "Table tweets:\n",
      "('1220798251919536128', 'Virologist Who Helped Fight SARS Says Wuhan Coronavirus Is 10x Worse https://t.co/3KD5dMYrsj', None, 0, 0, datetime.datetime(2020, 1, 24, 19, 59, 19, tzinfo=datetime.timezone.utc), 280887543, None, None)\n",
      "\n",
      "('1220798255098777601', 'RT @Chn_analysis: @thespybrief @hiemakene Daily Mail (yes I know!!) thickens a potential plot https://t.co/TNTF03RXz2', None, 15, 0, datetime.datetime(2020, 1, 24, 19, 59, 20, tzinfo=datetime.timezone.utc), 519245371, None, '1220786987143192578')\n",
      "\n",
      "('1220790544009519104', 'RT @badiucao: Another video showing medics from #wuhan completely burn out &amp; melt down.\\nreally sad and angry to see this happening\\nthey nee…', None, 6784, 0, datetime.datetime(2020, 1, 24, 19, 28, 41, tzinfo=datetime.timezone.utc), 1036627006962720768, None, '1220729514000633858')\n",
      "\n",
      "('1220798255992201217', 'RT @Adrienne711: @MBJ8388 @FederalistNo78 @jaimec729 @AnJillOfLight @Agortitz @Deepstate6969 @MissesJ3 @RockyShorz @1GigiSims @BabeReflex_8…', None, 4, 0, datetime.datetime(2020, 1, 24, 19, 59, 20, tzinfo=datetime.timezone.utc), 1133475349285691393, None, '1220796312565796865')\n",
      "\n",
      "('1220798256608878598', 'RT @Gadi3232: The Chinese government has blocked internet traffic to prevent and hide the dimensions of the spread, this video was sent usi…', None, 438, 0, datetime.datetime(2020, 1, 24, 19, 59, 20, tzinfo=datetime.timezone.utc), 3278713214, None, '1220777199734792192')\n",
      "\n",
      "('1220798259431645185', 'RT @ianbremmer: Scene from #Wuhan right before the lockdown. https://t.co/pkks4u6KrA', None, 113, 0, datetime.datetime(2020, 1, 24, 19, 59, 21, tzinfo=datetime.timezone.utc), 3231948358, None, '1220729469461127168')\n",
      "\n",
      "('1220798259599462400', \"RT @cnni: Impeachment news is dominating Washington this week, but @bianca_nobilo is tracking today's other headlines:\\n\\n- China seeking to…\", None, 41, 0, datetime.datetime(2020, 1, 24, 19, 59, 21, tzinfo=datetime.timezone.utc), 894312170, None, '1220771151481311234')\n",
      "\n",
      "('1220798259893022720', 'RT @nytimes: The latest on the Wuhan coronavirus outbreak: France has become the first country in Europe to report infections. Authorities…', None, 387, 0, datetime.datetime(2020, 1, 24, 19, 59, 21, tzinfo=datetime.timezone.utc), 51081214, None, '1220795757156012032')\n",
      "\n",
      "('1220798261197340672', 'RT @CBCNews: NEW: France confirms two cases of #coronavirus — the first in Europe. https://t.co/Orvg5qlkIR', None, 27, 0, datetime.datetime(2020, 1, 24, 19, 59, 21, tzinfo=datetime.timezone.utc), 2905873432, None, '1220798187902029824')\n",
      "\n",
      "('1220790545431375872', 'RT @ladbible: Extraordinary footage shows the project underway in the outbreak city of Wuhan', None, 31, 0, datetime.datetime(2020, 1, 24, 19, 28, 41, tzinfo=datetime.timezone.utc), 2467965137, None, '1220753999349067776')\n",
      "\n",
      "\n",
      "exit(140147837728576)\n"
     ]
    }
   ],
   "source": [
    "# Show sample data\n",
    "for t in tables:\n",
    "    print(\"Table \" + t + \":\")\n",
    "    with conn as con, con.cursor() as cur:\n",
    "        cur.execute(\"SELECT * FROM \" + t + \" LIMIT 10\")\n",
    "        for r in cur.fetchall():\n",
    "            print(r)\n",
    "            if len(str(r)) > 50:\n",
    "                print(\"\")\n",
    "        print(\"\")"
   ]
  },
  {
   "cell_type": "markdown",
   "id": "2e390795",
   "metadata": {},
   "source": [
    "#### Step 9: Create hashtag -> conspiracy mapping"
   ]
  },
  {
   "cell_type": "code",
   "execution_count": 9,
   "id": "23cac993",
   "metadata": {
    "scrolled": true
   },
   "outputs": [
    {
     "name": "stdout",
     "output_type": "stream",
     "text": [
      "#5GCoronavirus  -  COVID19 is preaded by 5G\n",
      "#911insidejob  -  9/11 was inside job\n",
      "#911truth  -  9/11 was inside job\n",
      "#Agenda21  -  New world order\n",
      "#CCPVirus  -  The virus escaped from a Chinese lab\n",
      "#Chemtrails  -  Chemtrails\n",
      "#ChinaLiedPeopleDied  -  The virus escaped from a Chinese lab\n",
      "#ClimateChangeHoax  -  Global Warming is HOAX\n",
      "#DeepStateFauci  -  Deep State\n",
      "#DeepStateVaccine  -  Deep State\n",
      "#DeepstateVirus  -  Deep State\n",
      "#flatEarth  -  Flat Earth\n",
      "#GlobalWarmingHoax  -  Global Warming is HOAX\n",
      "#illuminati  -  Illuminati\n",
      "#MAGA  -  Qanon\n",
      "#moonhoax  -  Moon landing is fake\n",
      "#MoonLandingHoax  -  Moon landing is fake\n",
      "#PedoGateIsReal  -  Pizzagate conspiracy theory\n",
      "#pizzaGateIsReal  -  Pizzagate conspiracy theory\n",
      "#QAnon  -  Qanon\n",
      "#reptilians  -  Reptilian conspiracy theory\n",
      "#SorosVirus  -  COVID19 and microchipping\n",
      "#WWG1WGA  -  Qanon\n"
     ]
    }
   ],
   "source": [
    "# Create list of conspiracy theories\n",
    "conspiracies = (\n",
    "    \"Deep State\",\n",
    "    \"Qanon\",\n",
    "    \"New world order\",\n",
    "    \"The virus escaped from a Chinese lab\",\n",
    "    \"Global Warming is HOAX\",\n",
    "    \"COVID19 and microchipping\",\n",
    "    \"COVID19 is preaded by 5G\",\n",
    "    \"Moon landing is fake\",\n",
    "    \"9/11 was inside job\",\n",
    "    \"Pizzagate conspiracy theory\",\n",
    "    \"Chemtrails\",\n",
    "    \"Flat Earth\",\n",
    "    \"Illuminati\",\n",
    "    \"Reptilian conspiracy theory\",\n",
    ")\n",
    "\n",
    "# Map hashtags to the list of conspiracy theories\n",
    "hashtag_conmap = {\n",
    "    \"#DeepstateVirus\": 0,\n",
    "    \"#DeepStateVaccine\": 0,\n",
    "    \"#DeepStateFauci\": 0,\n",
    "    \"#QAnon\": 1,\n",
    "    \"#MAGA\": 1,\n",
    "    \"#WWG1WGA\": 1,\n",
    "    \"#Agenda21\": 2,\n",
    "    \"#ChinaLiedPeopleDied\": 3,\n",
    "    \"#CCPVirus\": 3,\n",
    "    \"#ClimateChangeHoax\": 4,\n",
    "    \"#GlobalWarmingHoax\": 4,\n",
    "    \"#SorosVirus\": 5,  # '#BillGAtes':5\n",
    "    \"#5GCoronavirus\": 6,\n",
    "    \"#MoonLandingHoax\": 7,\n",
    "    \"#moonhoax\": 7,\n",
    "    \"#911truth\": 8,\n",
    "    \"#911insidejob\": 8,\n",
    "    \"#pizzaGateIsReal\": 9,\n",
    "    \"#PedoGateIsReal\": 9,\n",
    "    \"#Chemtrails\": 10,\n",
    "    \"#flatEarth\": 11,\n",
    "    \"#illuminati\": 12,\n",
    "    \"#reptilians\": 13,\n",
    "}\n",
    "\n",
    "# Print the generated mappings in alphabetical order\n",
    "hashtags = list(hashtag_conmap.keys())\n",
    "hashtags.sort(key=lambda e: e.upper())\n",
    "for t in hashtags:\n",
    "    print(t, \" - \", conspiracies[hashtag_conmap[t]])"
   ]
  },
  {
   "cell_type": "markdown",
   "id": "c404ecd6",
   "metadata": {},
   "source": [
    "#### Step 10: Fetch hashtag -> hashtag-ids mapping"
   ]
  },
  {
   "cell_type": "code",
   "execution_count": 10,
   "id": "463f0de9",
   "metadata": {},
   "outputs": [
    {
     "name": "stdout",
     "output_type": "stream",
     "text": [
      "#5GCoronavirus -> [19005036, 35538816, 34619065, 15552438]\n",
      "exit(140147837728576)\n",
      "#911insidejob -> [16074404]\n",
      "exit(140147837728576)\n",
      "#911truth -> [2525313, 7014593]\n",
      "exit(140147837728576)\n",
      "#Agenda21 -> [66445, 111971, 363281]\n",
      "exit(140147837728576)\n",
      "#CCPVirus -> [18509464, 1137275, 10905016, 3073063, 34691278, 31317877, 29467281, 34584873, 1379885]\n",
      "exit(140147837728576)\n",
      "#Chemtrails -> [15171991, 905802, 149294, 33792]\n",
      "exit(140147837728576)\n",
      "#ChinaLiedPeopleDied -> [16685336, 23538315, 23714496, 25456041, 5112446, 26615200, 27219903, 36886795]\n",
      "exit(140147837728576)\n",
      "#ClimateChangeHoax -> [14157066, 159068, 10090147]\n",
      "exit(140147837728576)\n",
      "#DeepStateFauci -> [15870712, 16542067]\n",
      "exit(140147837728576)\n",
      "#DeepStateVaccine -> [17407797]\n",
      "exit(140147837728576)\n",
      "#DeepstateVirus -> [7074589, 18007452]\n",
      "exit(140147837728576)\n",
      "#flatEarth -> [18277418, 20256863, 4209470, 3436024, 7529160]\n",
      "exit(140147837728576)\n",
      "#GlobalWarmingHoax -> [3486140, 4673374]\n",
      "exit(140147837728576)\n",
      "#illuminati -> [16238392, 875154, 3178025, 967857]\n",
      "exit(140147837728576)\n",
      "#MAGA -> [15894243, 17899079, 19261059, 19469799, 19898566, 88504, 14415, 24818]\n",
      "exit(140147837728576)\n",
      "#moonhoax -> [18587371]\n",
      "exit(140147837728576)\n",
      "#MoonLandingHoax -> [19604351]\n",
      "exit(140147837728576)\n",
      "#PedoGateIsReal -> [15550095, 15659618, 2741960, 6005507, 15268807, 7832331]\n",
      "exit(140147837728576)\n",
      "#pizzaGateIsReal -> [15188058, 15673159, 17812154, 18874438, 5310529, 20011091, 15806121, 17229118, 15169536]\n",
      "exit(140147837728576)\n",
      "#QAnon -> [15168832, 15170088, 15189267, 15274024, 15856421, 15752301, 16070849, 16204212, 16342002, 18149870, 21370247, 18671401, 20298034, 15690756, 15177935, 16799781, 21259243, 18387797, 22837040, 27195, 25091, 22849188, 20506, 77112]\n",
      "exit(140147837728576)\n",
      "#reptilians -> [15470410, 15513442]\n",
      "exit(140147837728576)\n",
      "#SorosVirus -> [3907585, 10854437]\n",
      "exit(140147837728576)\n",
      "#WWG1WGA -> [15171808, 15172783, 15899791, 16000470, 16234227, 16300935, 16334262, 16360449, 16945850, 17556855, 17760215, 18102172, 18473607, 18753284, 1412467, 19290170, 20378669, 22393264, 16261725, 16087358, 15171635, 511508, 16579619, 16642505, 931991, 22699148, 25089]\n",
      "exit(140147837728576)\n"
     ]
    }
   ],
   "source": [
    "hashtag_idmap = {}\n",
    "\n",
    "\n",
    "def fetch_hashtag_ids(hashtag):\n",
    "    # Since the dataset does not respect our case conventions, we are doing a case insensitive search\n",
    "    # We are also looking for hashtags with & without the # prefix\n",
    "    with conn as con, con.cursor() as cur:\n",
    "        cur.execute(\n",
    "            \"SELECT id FROM hashtags WHERE LOWER(value) = '\"\n",
    "            + hashtag[1:].lower()\n",
    "            + \"' \"\n",
    "            + \"OR LOWER(value) = '\"\n",
    "            + hashtag[1:].lower()\n",
    "            + \"'\"\n",
    "        )\n",
    "        rows = cur.fetchall()\n",
    "\n",
    "        # Save the results to a list of ids, map the list to the given hashtag\n",
    "        ids = list(map(lambda r: r[0], rows))\n",
    "        hashtag_idmap[hashtag] = ids\n",
    "        print(t, \"->\", ids)\n",
    "\n",
    "\n",
    "for t in hashtags:\n",
    "    fetch_hashtag_ids(t)"
   ]
  },
  {
   "cell_type": "markdown",
   "id": "ad7e450c",
   "metadata": {},
   "source": [
    "#### Step 11: Fetch hashtag -> tweet-id mapping"
   ]
  },
  {
   "cell_type": "code",
   "execution_count": 11,
   "id": "71d78c2e",
   "metadata": {},
   "outputs": [
    {
     "name": "stdout",
     "output_type": "stream",
     "text": [
      "exit(140147837728576)\n",
      "exit(140147837728576)\n",
      "exit(140147837728576)\n",
      "exit(140147837728576)\n",
      "#5GCoronavirus -> mapped 407 tweets\n",
      "exit(140147837728576)\n",
      "#911insidejob -> mapped 4 tweets\n",
      "exit(140147837728576)\n",
      "exit(140147837728576)\n",
      "#911truth -> mapped 139 tweets\n",
      "exit(140147837728576)\n",
      "exit(140147837728576)\n",
      "exit(140147837728576)\n",
      "#Agenda21 -> mapped 2297 tweets\n",
      "exit(140147837728576)\n",
      "exit(140147837728576)\n",
      "exit(140147837728576)\n",
      "exit(140147837728576)\n",
      "exit(140147837728576)\n",
      "exit(140147837728576)\n",
      "exit(140147837728576)\n",
      "exit(140147837728576)\n",
      "exit(140147837728576)\n",
      "#CCPVirus -> mapped 5024 tweets\n",
      "exit(140147837728576)\n",
      "exit(140147837728576)\n",
      "exit(140147837728576)\n",
      "exit(140147837728576)\n",
      "#Chemtrails -> mapped 1044 tweets\n",
      "exit(140147837728576)\n",
      "exit(140147837728576)\n",
      "exit(140147837728576)\n",
      "exit(140147837728576)\n",
      "exit(140147837728576)\n",
      "exit(140147837728576)\n",
      "exit(140147837728576)\n",
      "exit(140147837728576)\n",
      "#ChinaLiedPeopleDied -> mapped 3261 tweets\n",
      "exit(140147837728576)\n",
      "exit(140147837728576)\n",
      "exit(140147837728576)\n",
      "#ClimateChangeHoax -> mapped 53 tweets\n",
      "exit(140147837728576)\n",
      "exit(140147837728576)\n",
      "#DeepStateFauci -> mapped 183 tweets\n",
      "exit(140147837728576)\n",
      "#DeepStateVaccine -> mapped 14 tweets\n",
      "exit(140147837728576)\n",
      "exit(140147837728576)\n",
      "#DeepstateVirus -> mapped 518 tweets\n",
      "exit(140147837728576)\n",
      "exit(140147837728576)\n",
      "exit(140147837728576)\n",
      "exit(140147837728576)\n",
      "exit(140147837728576)\n",
      "#flatEarth -> mapped 340 tweets\n",
      "exit(140147837728576)\n",
      "exit(140147837728576)\n",
      "#GlobalWarmingHoax -> mapped 5 tweets\n",
      "exit(140147837728576)\n",
      "exit(140147837728576)\n",
      "exit(140147837728576)\n",
      "exit(140147837728576)\n",
      "#illuminati -> mapped 2172 tweets\n",
      "exit(140147837728576)\n",
      "exit(140147837728576)\n",
      "exit(140147837728576)\n",
      "exit(140147837728576)\n",
      "exit(140147837728576)\n",
      "exit(140147837728576)\n",
      "exit(140147837728576)\n",
      "exit(140147837728576)\n",
      "#MAGA -> mapped 207933 tweets\n",
      "exit(140147837728576)\n",
      "#moonhoax -> mapped 11 tweets\n",
      "exit(140147837728576)\n",
      "#MoonLandingHoax -> mapped 6 tweets\n",
      "exit(140147837728576)\n",
      "exit(140147837728576)\n",
      "exit(140147837728576)\n",
      "exit(140147837728576)\n",
      "exit(140147837728576)\n",
      "exit(140147837728576)\n",
      "#PedoGateIsReal -> mapped 342 tweets\n",
      "exit(140147837728576)\n",
      "exit(140147837728576)\n",
      "exit(140147837728576)\n",
      "exit(140147837728576)\n",
      "exit(140147837728576)\n",
      "exit(140147837728576)\n",
      "exit(140147837728576)\n",
      "exit(140147837728576)\n",
      "exit(140147837728576)\n",
      "#pizzaGateIsReal -> mapped 3253 tweets\n",
      "exit(140147837728576)\n",
      "exit(140147837728576)\n",
      "exit(140147837728576)\n",
      "exit(140147837728576)\n",
      "exit(140147837728576)\n",
      "exit(140147837728576)\n",
      "exit(140147837728576)\n",
      "exit(140147837728576)\n",
      "exit(140147837728576)\n",
      "exit(140147837728576)\n",
      "exit(140147837728576)\n",
      "exit(140147837728576)\n",
      "exit(140147837728576)\n",
      "exit(140147837728576)\n",
      "exit(140147837728576)\n",
      "exit(140147837728576)\n",
      "exit(140147837728576)\n",
      "exit(140147837728576)\n",
      "exit(140147837728576)\n",
      "exit(140147837728576)\n",
      "exit(140147837728576)\n",
      "exit(140147837728576)\n",
      "exit(140147837728576)\n",
      "exit(140147837728576)\n",
      "#QAnon -> mapped 2126183 tweets\n",
      "exit(140147837728576)\n",
      "exit(140147837728576)\n",
      "#reptilians -> mapped 64 tweets\n",
      "exit(140147837728576)\n",
      "exit(140147837728576)\n",
      "#SorosVirus -> mapped 7 tweets\n",
      "exit(140147837728576)\n",
      "exit(140147837728576)\n",
      "exit(140147837728576)\n",
      "exit(140147837728576)\n",
      "exit(140147837728576)\n",
      "exit(140147837728576)\n",
      "exit(140147837728576)\n",
      "exit(140147837728576)\n",
      "exit(140147837728576)\n",
      "exit(140147837728576)\n",
      "exit(140147837728576)\n",
      "exit(140147837728576)\n",
      "exit(140147837728576)\n",
      "exit(140147837728576)\n",
      "exit(140147837728576)\n",
      "exit(140147837728576)\n",
      "exit(140147837728576)\n",
      "exit(140147837728576)\n",
      "exit(140147837728576)\n",
      "exit(140147837728576)\n",
      "exit(140147837728576)\n",
      "exit(140147837728576)\n",
      "exit(140147837728576)\n",
      "exit(140147837728576)\n",
      "exit(140147837728576)\n",
      "exit(140147837728576)\n",
      "exit(140147837728576)\n",
      "#WWG1WGA -> mapped 697307 tweets\n"
     ]
    }
   ],
   "source": [
    "hashtag_twmap = {}\n",
    "for t in hashtags:\n",
    "    twids = set()\n",
    "    for hid in hashtag_idmap[t]:\n",
    "        with conn as con, con.cursor() as cur:\n",
    "            cur.execute(\n",
    "                \"SELECT tweet_id FROM tweet_hashtags WHERE hashtag_id = \" + str(hid)\n",
    "            )\n",
    "            rows = cur.fetchall()\n",
    "            for r in rows:\n",
    "                twids.add(r[0])\n",
    "    hashtag_twmap[t] = twids\n",
    "    print(t, \"-> mapped\", len(twids), \"tweets\")"
   ]
  },
  {
   "cell_type": "markdown",
   "id": "c17c3952",
   "metadata": {},
   "source": [
    "#### Step 12: Create the list of analysable tweets"
   ]
  },
  {
   "cell_type": "code",
   "execution_count": 12,
   "id": "e7771f1e",
   "metadata": {},
   "outputs": [
    {
     "name": "stdout",
     "output_type": "stream",
     "text": [
      "Found 2144772 analysable tweets\n"
     ]
    }
   ],
   "source": [
    "tweet_ids = set()\n",
    "for t in hashtags:\n",
    "    tweet_ids.update(list(hashtag_twmap[t]))\n",
    "tweet_ids = list(tweet_ids)\n",
    "tweet_count = len(tweet_ids)\n",
    "print(\"Found\", tweet_count, \"analysable tweets\")"
   ]
  },
  {
   "cell_type": "markdown",
   "id": "1fa9ede4",
   "metadata": {},
   "source": [
    "#### Step 13: Fetch tweets (multi-threaded)"
   ]
  },
  {
   "cell_type": "code",
   "execution_count": 13,
   "id": "123ac580",
   "metadata": {},
   "outputs": [
    {
     "name": "stdout",
     "output_type": "stream",
     "text": [
      "exit(140147837728576)\n",
      "exit(140147837728576)exit(140147837728576)exit(140147837728576)\n",
      "\n",
      "exit(140147837728576)\n",
      "\n",
      "exit(140147837728576)\n",
      "exit(140147837728576)\n",
      "exit(140147837728576)\n",
      "\n",
      "\"\"\"\n",
      "Traceback (most recent call last):\n",
      "  File \"/root/anaconda3/lib/python3.8/multiprocessing/pool.py\", line 125, in worker\n",
      "    result = (True, func(*args, **kwds))\n",
      "  File \"<ipython-input-13-bc1d623b17f1>\", line 5, in fetch_tweets\n",
      "    cur.execute(\n",
      "psycopg2.OperationalError: SSL error: decryption failed or bad record mac\n",
      "\n",
      "\"\"\"\n",
      "\n",
      "\"\"\"\n",
      "Traceback (most recent call last):\n",
      "  File \"/root/anaconda3/lib/python3.8/multiprocessing/pool.py\", line 125, in worker\n",
      "    result = (True, func(*args, **kwds))\n",
      "  File \"<ipython-input-13-bc1d623b17f1>\", line 5, in fetch_tweets\n",
      "    cur.execute(\n",
      "psycopg2.OperationalError: server closed the connection unexpectedly\n",
      "\tThis probably means the server terminated abnormally\n",
      "\tbefore or while processing the request.\n",
      "\n",
      "\"\"\"\n",
      "\n",
      "\"\"\"\n",
      "Traceback (most recent call last):\n",
      "  File \"/root/anaconda3/lib/python3.8/multiprocessing/pool.py\", line 125, in worker\n",
      "    result = (True, func(*args, **kwds))\n",
      "  File \"<ipython-input-13-bc1d623b17f1>\", line 5, in fetch_tweets\n",
      "    cur.execute(\n",
      "psycopg2.OperationalError: server closed the connection unexpectedly\n",
      "\tThis probably means the server terminated abnormally\n",
      "\tbefore or while processing the request.\n",
      "\n",
      "\"\"\"\n",
      "\n",
      "\"\"\"\n",
      "Traceback (most recent call last):\n",
      "  File \"/root/anaconda3/lib/python3.8/multiprocessing/pool.py\", line 125, in worker\n",
      "    result = (True, func(*args, **kwds))\n",
      "  File \"<ipython-input-13-bc1d623b17f1>\", line 5, in fetch_tweets\n",
      "    cur.execute(\n",
      "psycopg2.OperationalError: server closed the connection unexpectedly\n",
      "\tThis probably means the server terminated abnormally\n",
      "\tbefore or while processing the request.\n",
      "\n",
      "\"\"\"\n",
      "\n",
      "\"\"\"\n",
      "Traceback (most recent call last):\n",
      "  File \"/root/anaconda3/lib/python3.8/multiprocessing/pool.py\", line 125, in worker\n",
      "    result = (True, func(*args, **kwds))\n",
      "  File \"<ipython-input-13-bc1d623b17f1>\", line 5, in fetch_tweets\n",
      "    cur.execute(\n",
      "psycopg2.OperationalError: server closed the connection unexpectedly\n",
      "\tThis probably means the server terminated abnormally\n",
      "\tbefore or while processing the request.\n",
      "\n",
      "\"\"\"\n",
      "\n",
      "\"\"\"\n",
      "Traceback (most recent call last):\n",
      "  File \"/root/anaconda3/lib/python3.8/multiprocessing/pool.py\", line 125, in worker\n",
      "    result = (True, func(*args, **kwds))\n",
      "  File \"<ipython-input-13-bc1d623b17f1>\", line 5, in fetch_tweets\n",
      "    cur.execute(\n",
      "psycopg2.OperationalError: SSL SYSCALL error: EOF detected\n",
      "\n",
      "\"\"\"\n",
      "\n",
      "\"\"\"\n",
      "Traceback (most recent call last):\n",
      "  File \"/root/anaconda3/lib/python3.8/multiprocessing/pool.py\", line 125, in worker\n",
      "    result = (True, func(*args, **kwds))\n",
      "  File \"<ipython-input-13-bc1d623b17f1>\", line 5, in fetch_tweets\n",
      "    cur.execute(\n",
      "psycopg2.OperationalError: server closed the connection unexpectedly\n",
      "\tThis probably means the server terminated abnormally\n",
      "\tbefore or while processing the request.\n",
      "\n",
      "\"\"\"\n",
      "\n",
      "\"\"\"\n",
      "Traceback (most recent call last):\n",
      "  File \"/root/anaconda3/lib/python3.8/multiprocessing/pool.py\", line 125, in worker\n",
      "    result = (True, func(*args, **kwds))\n",
      "  File \"<ipython-input-13-bc1d623b17f1>\", line 5, in fetch_tweets\n",
      "    cur.execute(\n",
      "psycopg2.OperationalError: SSL SYSCALL error: EOF detected\n",
      "\n",
      "\"\"\"\n",
      "Fetched 100000 tweets\n",
      "Fetched 100000 tweets\n",
      "Fetched 100000 tweets\n",
      "exit(140147837728576)exit(140147837728576)exit(140147837728576)Fetched 100000 tweets\n",
      "\n",
      "\n",
      "exit(140147837728576)\n",
      "Fetched 100000 tweets\n",
      "\n",
      "Fetched 100000 tweets\n",
      "Fetched 100000 tweets\n",
      "exit(140147837728576)\n",
      "exit(140147837728576)\n",
      "exit(140147837728576)\n",
      "Fetched 100000 tweets\n",
      "exit(140147837728576)\n",
      "Fetched 144772 tweets\n",
      "exit(140147837728576)\n",
      "Fetched 200000 tweets\n",
      "exit(140147837728576)Fetched 200000 tweets\n",
      "\n",
      "exit(140147837728576)\n",
      "Fetched 200000 tweets\n",
      "exit(140147837728576)\n",
      "Fetched 200000 tweets\n",
      "Fetched 200000 tweets\n",
      "exit(140147837728576)exit(140147837728576)\n",
      "\n",
      "Fetched 0 (all) tweets\n"
     ]
    }
   ],
   "source": [
    "tweets = {}\n",
    "\n",
    "def fetch_tweets(fr, to):\n",
    "    with conn as con, con.cursor() as cur:\n",
    "        cur.execute(\n",
    "            \"SELECT id,content FROM tweets WHERE id IN (\"\n",
    "            + str(tweet_ids[fr:to])[1:-1]\n",
    "            + \")\"\n",
    "        )\n",
    "        rows = cur.fetchall()\n",
    "        for r in rows:\n",
    "            tweets[r[0]] = r[1]\n",
    "        print(\"Fetched \" + str(len(tweets)) + \" tweets\\n\", end=\"\")\n",
    "\n",
    "\n",
    "with Pool(THREADS) as p:\n",
    "    for i in range(0, tweet_count, 100000):\n",
    "        to = min(tweet_count, i + 100000)\n",
    "        p.apply_async(fetch_tweets, (i, to), error_callback=lambda e: print(e.__cause__))\n",
    "    p.close()\n",
    "    p.join()\n",
    "print(\"Fetched \" + str(len(tweets)) + \" (all) tweets\\n\", end=\"\")"
   ]
  },
  {
   "cell_type": "code",
   "execution_count": 14,
   "id": "a37be174",
   "metadata": {},
   "outputs": [
    {
     "name": "stdout",
     "output_type": "stream",
     "text": [
      "0\n"
     ]
    }
   ],
   "source": [
    "print(len(tweets))"
   ]
  },
  {
   "cell_type": "markdown",
   "id": "9382800a",
   "metadata": {},
   "source": [
    "#### Step 14: Remove emoticons, hashtags, mentions from tweets (multi-threaded)"
   ]
  },
  {
   "cell_type": "code",
   "execution_count": 15,
   "id": "670f57bb",
   "metadata": {},
   "outputs": [
    {
     "ename": "KeyError",
     "evalue": "'1265378545406222336'",
     "output_type": "error",
     "traceback": [
      "\u001b[0;31m---------------------------------------------------------------------------\u001b[0m",
      "\u001b[0;31mKeyError\u001b[0m                                  Traceback (most recent call last)",
      "\u001b[0;32m<ipython-input-15-f0f8615d2c0e>\u001b[0m in \u001b[0;36m<module>\u001b[0;34m\u001b[0m\n\u001b[1;32m     15\u001b[0m \u001b[0;32mfor\u001b[0m \u001b[0mtid\u001b[0m \u001b[0;32min\u001b[0m \u001b[0mtweet_ids\u001b[0m\u001b[0;34m:\u001b[0m\u001b[0;34m\u001b[0m\u001b[0;34m\u001b[0m\u001b[0m\n\u001b[1;32m     16\u001b[0m     \u001b[0mi\u001b[0m \u001b[0;34m+=\u001b[0m \u001b[0;36m1\u001b[0m\u001b[0;34m\u001b[0m\u001b[0;34m\u001b[0m\u001b[0m\n\u001b[0;32m---> 17\u001b[0;31m     \u001b[0mnoemoji\u001b[0m \u001b[0;34m=\u001b[0m \u001b[0memoji_pattern\u001b[0m\u001b[0;34m.\u001b[0m\u001b[0msub\u001b[0m\u001b[0;34m(\u001b[0m\u001b[0;34mr\"\"\u001b[0m\u001b[0;34m,\u001b[0m \u001b[0mtweets\u001b[0m\u001b[0;34m[\u001b[0m\u001b[0mtid\u001b[0m\u001b[0;34m]\u001b[0m\u001b[0;34m)\u001b[0m\u001b[0;34m\u001b[0m\u001b[0;34m\u001b[0m\u001b[0m\n\u001b[0m\u001b[1;32m     18\u001b[0m     \u001b[0mtweets\u001b[0m\u001b[0;34m[\u001b[0m\u001b[0mtid\u001b[0m\u001b[0;34m]\u001b[0m \u001b[0;34m=\u001b[0m \u001b[0mmention_hashtag_pattern\u001b[0m\u001b[0;34m.\u001b[0m\u001b[0msub\u001b[0m\u001b[0;34m(\u001b[0m\u001b[0;34mr\"\"\u001b[0m\u001b[0;34m,\u001b[0m \u001b[0mnoemoji\u001b[0m\u001b[0;34m)\u001b[0m\u001b[0;34m\u001b[0m\u001b[0;34m\u001b[0m\u001b[0m\n\u001b[1;32m     19\u001b[0m     \u001b[0;32mif\u001b[0m \u001b[0mi\u001b[0m \u001b[0;34m%\u001b[0m \u001b[0;36m100000\u001b[0m \u001b[0;34m==\u001b[0m \u001b[0;36m0\u001b[0m\u001b[0;34m:\u001b[0m\u001b[0;34m\u001b[0m\u001b[0;34m\u001b[0m\u001b[0m\n",
      "\u001b[0;31mKeyError\u001b[0m: '1265378545406222336'"
     ]
    }
   ],
   "source": [
    "import re\n",
    "\n",
    "emoji_pattern = re.compile(\n",
    "    \"[\"\n",
    "    u\"\\U0001F600-\\U0001F64F\"  # emoticons\n",
    "    u\"\\U0001F300-\\U0001F5FF\"  # symbols & pictographs\n",
    "    u\"\\U0001F680-\\U0001F6FF\"  # transport & map symbols\n",
    "    u\"\\U0001F1E0-\\U0001F1FF\"  # flags (iOS)\n",
    "    \"]+\",\n",
    "    flags=re.UNICODE,\n",
    ")\n",
    "\n",
    "mention_hashtag_pattern = re.compile(\"[#@][A-Za-z0-9_]+\")\n",
    "i = 0\n",
    "for tid in tweet_ids:\n",
    "    i += 1\n",
    "    noemoji = emoji_pattern.sub(r\"\", tweets[tid])\n",
    "    tweets[tid] = mention_hashtag_pattern.sub(r\"\", noemoji)\n",
    "    if i % 100000 == 0:\n",
    "        print(\"Processed\", i, \"tweets\")\n",
    "print(\"Processed all tweets\")"
   ]
  },
  {
   "cell_type": "markdown",
   "id": "cca1f68a",
   "metadata": {},
   "source": [
    "#### Step 15: Calculate the sentiment of tweets (multi-threaded)"
   ]
  },
  {
   "cell_type": "code",
   "execution_count": null,
   "id": "51cb2e0b",
   "metadata": {
    "scrolled": false
   },
   "outputs": [],
   "source": [
    "tweet_sen={}\n",
    "def calc_sen(fr,to):\n",
    "    sid = SentimentIntensityAnalyzer()\n",
    "    for i in range(fr,to):\n",
    "        tid=tweet_ids[i]\n",
    "        tweet_sen[tid]=sid.polarity_scores(tweets[tid])\n",
    "\n",
    "print('Starting processor tasks...')\n",
    "with ThreadPoolExecutor(max_workers=8) as e:\n",
    "    for i in range(0,tweet_count,10000):\n",
    "        to=min(tweet_count,i+10000)\n",
    "        e.submit(calc_sen,i,to)\n",
    "    print('Started processor tasks, waiting for completion...')\n",
    "    while 1:\n",
    "        sleep(2)\n",
    "        processed=len(tweet_sen)\n",
    "        print('Processed',processed,'tweets')\n",
    "        if processed==tweet_count:\n",
    "            e.shutdown(wait=True)"
   ]
  },
  {
   "cell_type": "markdown",
   "id": "5b596b99",
   "metadata": {},
   "source": [
    "## Task 3 - Sort tweets by conspiracy theories"
   ]
  },
  {
   "cell_type": "markdown",
   "id": "96375f9d",
   "metadata": {},
   "source": [
    "## Task 4 - Calculate the ratio of tweets with extreme / neutral sentiment"
   ]
  },
  {
   "cell_type": "markdown",
   "id": "9e4cfda5",
   "metadata": {},
   "source": [
    "## Task 5 - Find Top 10 most active accounts in all extreme sentiment conspiracy theories"
   ]
  },
  {
   "cell_type": "markdown",
   "id": "5111277a",
   "metadata": {},
   "source": [
    "## Task 6 - Find Top 10 most used hashtags for each exteme sentiment conspiracy theories "
   ]
  }
 ],
 "metadata": {
  "kernelspec": {
   "display_name": "Python 3",
   "language": "python",
   "name": "python3"
  },
  "language_info": {
   "codemirror_mode": {
    "name": "ipython",
    "version": 3
   },
   "file_extension": ".py",
   "mimetype": "text/x-python",
   "name": "python",
   "nbconvert_exporter": "python",
   "pygments_lexer": "ipython3",
   "version": "3.8.8"
  }
 },
 "nbformat": 4,
 "nbformat_minor": 5
}
