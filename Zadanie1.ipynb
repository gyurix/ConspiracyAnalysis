{
 "cells": [
  {
   "cell_type": "markdown",
   "id": "6746f112",
   "metadata": {},
   "source": [
    "# Zadanie 1 – analýza tweetov  \n",
    "Odovzdanie do 10.10.2021 23:59 – máte na to presne 2 týždne – dostanete za to 7,5 boda. \n",
    " \n",
    "Prvé zadanie je zamerané na roztriedenie tweetov medzi rôzne konšpiračné teórie uvedené \n",
    "pod zadaním. Programovať môžete v hocijakom jazyku a váš zdroják sa odovzdáva to IS, no \n",
    "rovnako MUSÍ byť zavesený na vašom githube – v dokumente na začiatku uveďte vždy linku \n",
    "na projekt. Ak nebude GitHub, nebudú body. Okrem zdrojáku odovzdávate aj dokument kde \n",
    "budú screenshoty vašich výsledkov, výsledky ako text a grafy. Môžete napísať aj nejaké teplé \n",
    "slovko k tomu, nech sa pobavíme. \n",
    " \n",
    "Vašou úlohou je teda: \n",
    " \n",
    "1. Importovať dataset do PostgreSQL 13+: \n",
    "https://drive.google.com/drive/folders/1_crPerzWU2Nzc4mR5k6xuGqbp0fJDvsY?usp=sharing \n",
    " \n",
    "2. Vypočítať sentiment pomocou VADER lexikónu \n",
    "https://towardsdatascience.com/sentimental-analysis-using-vader-a3415fef7664 pre \n",
    "tweety, ktoré obsahujú nasledovné hashtagy: #DeepstateVirus #DeepStateVaccine \n",
    "#DeepStateFauci #QAnon #Agenda21 #CCPVirus #ClimateChangeHoax \n",
    "#GlobalWarmingHoax #ChinaLiedPeopleDied #SorosVirus #5GCoronavirus #MAGA \n",
    "#WWG1WGA #Chemtrails #flatEarth #MoonLandingHoax #moonhoax #illuminati \n",
    "#pizzaGateIsReal #PedoGateIsReal #911truth #911insidejob #reptilians \n",
    "Pri výpočte nezohľadňujte (ignorujte) emotikony ani hashtagy ani mentiony v texte. \n",
    " \n",
    "3. Roztriediť vyfiltrované tweety z predošlého zadania medzi konšpiračné teórie – \n",
    "spravte si na to novú tabuľku a mapovanie – nech je jasné ktorý tweet patrí ktorej \n",
    "konšpiračnej teórii.  \n",
    " \n",
    "4. Vypočítajte pomer extrémnych a neutrálnych sentimentov tweetov pre konšpiračné \n",
    "teórie po týždňoch a zistite, či daná konšpiračná teória rastie alebo upadá v čase. \n",
    "Výstup vizualizujte v grafe. Rovnako uveďte aj absolútne čísla: tweet_count, \n",
    "tweet_extreme_count, tweet_neutral_count v tabuľke pre každý týždeň. Za extrém \n",
    "považujeme keď je compound väčší ako 0,5 alebo menší ako -0,5. \n",
    " \n",
    "5. Nájdite TOP10 account-ov ktoré sú najaktívnejšie v každej konšpiračnej teórii \n",
    "s extrémnym sentimentom a ukážte ich v tabuľke: id, name, screen_name a \n",
    "tweet_count. \n",
    " \n",
    "6. Nájdite TOP10 najčastejšie používaných hashtagov pre každú konšpiračnú teóriu \n",
    "z tweetov s extrémnym sentimentom, vypíšte aj počet. \n",
    " \n",
    "V úvahu berte nasledovné konšpiračné teórie a ich hashtagy."
   ]
  },
  {
   "cell_type": "markdown",
   "id": "1a2f3b0e",
   "metadata": {},
   "source": [
    "## Database structure\n",
    "\n",
    "![DB structure](Zadanie1-TweetsDB.jpeg)"
   ]
  },
  {
   "cell_type": "markdown",
   "id": "1edb323b",
   "metadata": {},
   "source": [
    "# === Conspiracy Theories ==="
   ]
  },
  {
   "cell_type": "markdown",
   "id": "b850640d",
   "metadata": {},
   "source": [
    "## Deep State  \n",
    " \n",
    "https://en.wikipedia.org/wiki/Deep_state \n",
    " \n",
    "A deep state is a type of governance made up of potentially secret and unauthorised \n",
    "networks of power operating independently of a state's political leadership in pursuit of \n",
    "their own agenda and goals. In popular usage, the term carries overwhelmingly negative \n",
    "connotations. The range of possible uses of the term is similar to that for shadow \n",
    "government. The expression state within a state is an older and similar concept. Historically, \n",
    "it designated a well-defined organization which seeks to function independently, whereas \n",
    "the deep state refers more to a hidden organization seeking to manipulate the public state. \n",
    " \n",
    "`#DeepstateVirus #DeepStateVaccine #DeepStateFauci`"
   ]
  },
  {
   "cell_type": "markdown",
   "id": "0fc18ef1",
   "metadata": {},
   "source": [
    "## Qanon  \n",
    " \n",
    "https://dennikn.sk/2474994/pripraveni-na-velke-prebudenie-zo-zakulisia-hnutia-qanon/ \n",
    " \n",
    "“The [QAnon] conspiracy involves a range of batshit theories but very basically, many \n",
    "QAnon supporters believe in a global conspiracy involving a ring of Satan-worshipping, child-\n",
    "molesting criminals led by prominent Democrats that includes everyone from Hillary Clinton \n",
    "to Tom Hanks to a Mexican cement company [Cemex]. They also believe information about \n",
    "it is being leaked via cryptic posts on the internet by someone with very high Q-level \n",
    "security clearance—which sounds just as made-up as it definitely is.” \n",
    " \n",
    "`#QAnon #MAGA #WWG1WGA`"
   ]
  },
  {
   "cell_type": "markdown",
   "id": "faa050b1",
   "metadata": {},
   "source": [
    "## New world order  \n",
    " \n",
    "https://www.buzzfeed.com/joeydurso/coronavirus-agenda-21-5g\n",
    "\n",
    "An Old Conspiracy Theory Known As \"Agenda 21\" Has Been Rebooted By The Coronavirus \n",
    "Pandemic. New World Order is here again. \n",
    " \n",
    "`#Agenda21`"
   ]
  },
  {
   "cell_type": "markdown",
   "id": "2d663ad6",
   "metadata": {},
   "source": [
    "## The virus escaped from a Chinese lab  \n",
    " \n",
    "https://www.vox.com/22453571/lab-leak-covid-19-coronavirus-hypothesis-wuhan-virology-china \n",
    " \n",
    "Where did the virus that causes Covid-19 come from? It’s one of the most persistent \n",
    "mysteries of the pandemic. The debate about it among scientists, policymakers, journalists, \n",
    "amateur internet sleuths, and the general public has reignited with new revelations and \n",
    "new voices in the mix. We may never know for sure if the virus that causes Covid-19 leaked \n",
    "from a lab. But that won’t stop the debate. \n",
    " \n",
    "`#CCPVirus #ChinaLiedPeopleDied`"
   ]
  },
  {
   "cell_type": "markdown",
   "id": "ea0d30d0",
   "metadata": {},
   "source": [
    "## Global Warming is HOAX  \n",
    " \n",
    "https://www.hull.ac.uk/special/blog/why-people-still-believe-climate-change-is-fake-and-\n",
    "why-we-know-theyre-wrong \n",
    " \n",
    "Why people still believe climate change is fake...\n",
    "\n",
    "`#ClimateChangeHoax #GlobalWarmingHoax`"
   ]
  },
  {
   "cell_type": "markdown",
   "id": "15b49d3c",
   "metadata": {},
   "source": [
    "## COVID19 and microchipping  \n",
    " \n",
    "https://www.politifact.com/factchecks/2020/may/28/facebook-posts/theres-no-plot-\n",
    "microchip-people-during-covid-19-te/ \n",
    " \n",
    "There’s no evidence that Bill Gates and George Soros plan to microchip people being tested \n",
    "for coronavirus. \n",
    " \n",
    "`#SorosVirus #BillGAtes`"
   ]
  },
  {
   "cell_type": "markdown",
   "id": "deb07df2",
   "metadata": {},
   "source": [
    "## COVID19 is preaded by 5G  \n",
    " \n",
    "https://www.vox.com/recode/2020/4/24/21231085/coronavirus-5g-conspiracy-theory-\n",
    "covid-facebook-youtube \n",
    " \n",
    "The first link John Gregory saw pushing a connection between 5G and the coronavirus \n",
    "pandemic was on a French conspiracy website called Les moutons enragés, which loosely \n",
    "translates as “The rabid sheep.” A January 20 post floated that the millimeter wave \n",
    "spectrum used by 5G technology and Covid-19, the disease caused by the novel coronavirus, \n",
    "could be related, pointing to reports about Wuhan installing 5G towers before the outbreak. \n",
    "Three months later, conspiracy theorists making similar claims were setting cellphone \n",
    "towers on fire in Europe. \n",
    " \n",
    "`#5GCoronavirus`"
   ]
  },
  {
   "cell_type": "markdown",
   "id": "35577c0e",
   "metadata": {},
   "source": [
    "## Moon landing is fake  \n",
    " \n",
    "https://www.space.com/apollo-11-moon-landing-hoax-believers.html \n",
    " \n",
    "Moon-Landing Hoax Still Lives On, 50 Years After Apollo 11. \n",
    " \n",
    "`#MoonLandingHoax #moonhoax`"
   ]
  },
  {
   "cell_type": "markdown",
   "id": "394fb981",
   "metadata": {},
   "source": [
    "## 9/11 was inside job  \n",
    " \n",
    "https://www.bbc.com/news/58469600 \n",
    " \n",
    "11 September 2001: The conspiracy theories still spreading after 20 years \n",
    " \n",
    "`#911truth #911insidejob`"
   ]
  },
  {
   "cell_type": "markdown",
   "id": "037078fc",
   "metadata": {},
   "source": [
    "## Pizzagate conspiracy theory \n",
    " \n",
    "(https://en.wikipedia.org/wiki/Pizzagate_conspiracy_theory \n",
    " \n",
    "In March 2016, the personal email account of John Podesta, Hillary Clinton's campaign chair, \n",
    "was hacked in a spear-phishing attack. WikiLeaks published his emails in November 2016. \n",
    "Proponents of the Pizzagate conspiracy theory falsely claimed the emails contained coded \n",
    "messages that connected several high-ranking Democratic Party officials and U.S. \n",
    "restaurants with an alleged human trafficking and child sex ring. One of the establishments \n",
    "allegedly involved was the Comet Ping Pong pizzeria in Washington, D.C.[6][7] \n",
    " \n",
    "`#pizzaGateIsReal #PedoGateIsReal`"
   ]
  },
  {
   "cell_type": "markdown",
   "id": "74cb72b0",
   "metadata": {},
   "source": [
    "## Chemtrails  \n",
    " \n",
    "https://keith.seas.harvard.edu/chemtrails-conspiracy-theory \n",
    " \n",
    "Chemtrails refers to the theory that governments or other parties are engaged in a secret \n",
    "program to add toxic chemicals to the atmosphere from aircraft in a way that forms visible \n",
    "plumes in the sky, somewhat similar to contrails. Various different motivations for this \n",
    "alleged spraying are speculated, including sterilization, reduction of life expectancy, mind \n",
    "control or weather control. \n",
    " \n",
    "`#Chemtrails`"
   ]
  },
  {
   "cell_type": "markdown",
   "id": "ec041e36",
   "metadata": {},
   "source": [
    "## Flat Earth  \n",
    " \n",
    "https://edition.cnn.com/2019/11/16/us/flat-earth-conference-conspiracy-theories-scli-intl/index.html \n",
    " \n",
    "(CNN)\"I don't want to be a flat Earther,\" David Weiss says, his voice weary as he reflects on \n",
    "his personal awakening. \"Would you wake up in the morning and want everyone to think \n",
    "you're an idiot?\" But Weiss is a flat Earther. Ever since he tried and failed to find proof of the \n",
    "Earth's curve four years ago, he's believed with an evident passion that our planet is both \n",
    "flat and stationary -- and it's turned his world upside down. \n",
    " \n",
    "`#flatEarth`"
   ]
  },
  {
   "cell_type": "markdown",
   "id": "94f72744",
   "metadata": {},
   "source": [
    "## Illuminati  \n",
    " \n",
    "https://www.bbc.com/future/article/20170809-the-accidental-invention-of-the-illuminati-\n",
    "conspiracy \n",
    "It’s the conspiracy theory to dwarf all conspiracy theories. A smorgasbord of every other \n",
    "intrigue under the sun, the Illuminati are the supposed overlords controlling the world’s \n",
    "affairs, operating secretly as they seek to establish a New World Order. \n",
    " \n",
    "`#illuminati`"
   ]
  },
  {
   "cell_type": "markdown",
   "id": "74e3abd5",
   "metadata": {},
   "source": [
    "## Reptilian conspiracy theory  \n",
    " \n",
    "https://en.wikipedia.org/wiki/Reptilian_conspiracy_theory \n",
    " \n",
    "Reptilians – also called reptoids, lizard people, reptiloids, saurians, or draconians – are \n",
    "supposed reptilian humanoids, which play a prominent role in fantasy, science fiction, \n",
    "ufology, and conspiracy theories. The idea of reptilians was popularised by David Icke, a \n",
    "conspiracy theorist who claims shapeshifting reptilian aliens control Earth by taking on \n",
    "human form and gaining political power to manipulate human societies. Icke has stated on \n",
    "multiple occasions that many world leaders are, or are possessed by, so-called reptilians. \n",
    " \n",
    "`#reptilians`"
   ]
  },
  {
   "cell_type": "markdown",
   "id": "34232286",
   "metadata": {},
   "source": [
    "# === Solution ===\n",
    "## by Bc. Juraj Baráth"
   ]
  },
  {
   "cell_type": "markdown",
   "id": "705a8ccc",
   "metadata": {},
   "source": [
    "## Task 1 - Import dataset to PostgreSQL\n",
    "\n",
    "#### Step 1: Install postgis extension\n",
    "`apt install -y postgis postgresql-postgis`\n",
    "\n",
    "#### Step 2: Create new empty database\n",
    "`su postgres`\n",
    "\n",
    "`psql`\n",
    "```\n",
    "CREATE DATABASE tweets;\n",
    "quit;\n",
    "```\n",
    "`logout`\n",
    "\n",
    "#### Step 3: Import the database \n",
    "`screen -dmS pdt pg_restore -v -d tweets tweets.backup`"
   ]
  },
  {
   "cell_type": "markdown",
   "id": "ab4dcceb",
   "metadata": {},
   "source": [
    "## Task 2 - Sentiment Calculation using VADER"
   ]
  },
  {
   "cell_type": "markdown",
   "id": "f62f786f",
   "metadata": {},
   "source": [
    "#### Step 1: Grant read only access to a new database user\n",
    "`su postgres`\n",
    "\n",
    "`psql -d tweets`\n",
    "\n",
    "```\n",
    "CREATE USER pdt with password '9kRoaGZN5EcgTeDM';\n",
    "GRANT CONNECT ON DATABASE tweets TO pdt;\n",
    "GRANT USAGE ON SCHEMA public TO pdt;\n",
    "GRANT SELECT ON ALL TABLES IN SCHEMA public TO pdt;\n",
    "quit;\n",
    "```\n",
    "\n",
    "`logout`"
   ]
  },
  {
   "cell_type": "markdown",
   "id": "1b407c88",
   "metadata": {},
   "source": [
    "#### Step 2: Install pip\n",
    "`apt install -y python3-pip`"
   ]
  },
  {
   "cell_type": "markdown",
   "id": "4aefce02",
   "metadata": {},
   "source": [
    "#### Step 3: Install postgresql connector (psycopg2) dependencies\n",
    "`apt-get install -y libpq-dev`"
   ]
  },
  {
   "cell_type": "markdown",
   "id": "fd442489",
   "metadata": {},
   "source": [
    "#### Step 4: Install postgresql connector (psycopg2)\n",
    "`pip install psycopg2`"
   ]
  },
  {
   "cell_type": "markdown",
   "id": "fbdca205",
   "metadata": {},
   "source": [
    "#### Step 5: Install nb_black for automatic code reformatting\n",
    "`pip install nb_black`"
   ]
  },
  {
   "cell_type": "markdown",
   "id": "250bf26e",
   "metadata": {},
   "source": [
    "#### Step 6: Setup dependencies & application settings"
   ]
  },
  {
   "cell_type": "code",
   "execution_count": 1,
   "id": "e8ac3588",
   "metadata": {},
   "outputs": [],
   "source": [
    "# Uncomment the following line to automatically reformat python code\n",
    "# %load_ext lab_black"
   ]
  },
  {
   "cell_type": "code",
   "execution_count": 2,
   "id": "22d06d3a",
   "metadata": {},
   "outputs": [],
   "source": [
    "# Application Settings\n",
    "THREADS = 8\n",
    "DB_HOST = \"localhost\"\n",
    "DB_DATABASE = \"tweets\"\n",
    "DB_USER = \"pdt\"\n",
    "DB_PASSWORD = \"9kRoaGZN5EcgTeDM\""
   ]
  },
  {
   "cell_type": "code",
   "execution_count": 3,
   "id": "a5fe2d56",
   "metadata": {},
   "outputs": [
    {
     "name": "stderr",
     "output_type": "stream",
     "text": [
      "[nltk_data] Downloading package vader_lexicon to /root/nltk_data...\n",
      "[nltk_data]   Package vader_lexicon is already up-to-date!\n"
     ]
    }
   ],
   "source": [
    "# Setup Vader Sentiment Intensity Analyzer\n",
    "import nltk\n",
    "\n",
    "nltk.download(\"vader_lexicon\")\n",
    "\n",
    "from nltk.sentiment.vader import SentimentIntensityAnalyzer"
   ]
  },
  {
   "cell_type": "code",
   "execution_count": 4,
   "id": "07acb1d1",
   "metadata": {},
   "outputs": [],
   "source": [
    "# Postgresql connector\n",
    "from psycopg2 import connect\n",
    "\n",
    "# Thread management\n",
    "from threading import Lock, get_ident\n",
    "from multiprocessing.pool import Pool\n",
    "\n",
    "# Error reporting\n",
    "import traceback"
   ]
  },
  {
   "cell_type": "code",
   "execution_count": 50,
   "id": "245e235c",
   "metadata": {},
   "outputs": [],
   "source": [
    "# 2D array pretty printer utility\n",
    "def print_2d(data):\n",
    "    # Ignore empty data\n",
    "    if len(data) == 0:\n",
    "        return\n",
    "\n",
    "    # Do not pretty print if first row is too long\n",
    "    if sum(len(str(s)) for s in data[0]) > 70:\n",
    "        for r in data:\n",
    "            print(r, end=\"\\n\\n\")\n",
    "        return\n",
    "\n",
    "    # Calculate string length for all elements\n",
    "    data_len = []\n",
    "    for row in data:\n",
    "        data_len.append(list([len(str(i)) for i in row]))\n",
    "\n",
    "    # Calculate max length of each column\n",
    "    col_len = []\n",
    "    for col in range(len(data_len[0])):\n",
    "        l = []\n",
    "        for row in data_len:\n",
    "            l.append(row[col])\n",
    "        col_len.append(max(l))\n",
    "\n",
    "    # Generate row separator & use it for the first line\n",
    "    sep = \"\\n+\"\n",
    "    for cl in col_len:\n",
    "        sep += \"-\" * (cl + 2) + \"+\"\n",
    "    sep += \"\\n\"\n",
    "    output = sep\n",
    "\n",
    "    for row in data:\n",
    "        # Generate line with the row's contents\n",
    "        i = 0\n",
    "        for column in row:\n",
    "            output += \"|\" + \" {:^{width}s} \".format(str(column), width=col_len[i])\n",
    "            i += 1\n",
    "\n",
    "        # Append column closer character & row separator\n",
    "        output += \"|\" + sep\n",
    "\n",
    "    # Print the generated output\n",
    "    print(output)\n",
    "\n",
    "\n",
    "# Error printer\n",
    "def print_err(e):\n",
    "    print(e.__cause__)"
   ]
  },
  {
   "cell_type": "markdown",
   "id": "a700ceac",
   "metadata": {},
   "source": [
    "#### Step 7: Create database connection utility class"
   ]
  },
  {
   "cell_type": "code",
   "execution_count": 23,
   "id": "1ebb23d6",
   "metadata": {},
   "outputs": [
    {
     "name": "stdout",
     "output_type": "stream",
     "text": [
      "Connected to database\n"
     ]
    }
   ],
   "source": [
    "# Connect to database using a pool of 8 connections\n",
    "def db():\n",
    "    con = connect(\n",
    "        host=DB_HOST, database=DB_DATABASE, user=DB_USER, password=DB_PASSWORD\n",
    "    )\n",
    "    return con.cursor()\n",
    "\n",
    "\n",
    "cur = db()\n",
    "print(\"Connected to database\")"
   ]
  },
  {
   "cell_type": "markdown",
   "id": "ec90d9e5",
   "metadata": {},
   "source": [
    "#### Step 8: Describe available tables"
   ]
  },
  {
   "cell_type": "code",
   "execution_count": 45,
   "id": "752de0ea",
   "metadata": {},
   "outputs": [
    {
     "ename": "InFailedSqlTransaction",
     "evalue": "current transaction is aborted, commands ignored until end of transaction block\n",
     "output_type": "error",
     "traceback": [
      "\u001b[0;31m---------------------------------------------------------------------------\u001b[0m",
      "\u001b[0;31mInFailedSqlTransaction\u001b[0m                    Traceback (most recent call last)",
      "\u001b[0;32m<ipython-input-45-08aa1c8151d6>\u001b[0m in \u001b[0;36m<module>\u001b[0;34m\u001b[0m\n\u001b[1;32m      7\u001b[0m     \u001b[0;32mreturn\u001b[0m \u001b[0mtables\u001b[0m\u001b[0;34m\u001b[0m\u001b[0;34m\u001b[0m\u001b[0m\n\u001b[1;32m      8\u001b[0m \u001b[0;34m\u001b[0m\u001b[0m\n\u001b[0;32m----> 9\u001b[0;31m \u001b[0mtables\u001b[0m \u001b[0;34m=\u001b[0m \u001b[0mlist_tables\u001b[0m\u001b[0;34m(\u001b[0m\u001b[0;34m'public'\u001b[0m\u001b[0;34m)\u001b[0m\u001b[0;34m\u001b[0m\u001b[0;34m\u001b[0m\u001b[0m\n\u001b[0m",
      "\u001b[0;32m<ipython-input-45-08aa1c8151d6>\u001b[0m in \u001b[0;36mlist_tables\u001b[0;34m(schema)\u001b[0m\n\u001b[1;32m      1\u001b[0m \u001b[0;31m# List available tables\u001b[0m\u001b[0;34m\u001b[0m\u001b[0;34m\u001b[0m\u001b[0;34m\u001b[0m\u001b[0m\n\u001b[1;32m      2\u001b[0m \u001b[0;32mdef\u001b[0m \u001b[0mlist_tables\u001b[0m\u001b[0;34m(\u001b[0m\u001b[0mschema\u001b[0m\u001b[0;34m)\u001b[0m\u001b[0;34m:\u001b[0m\u001b[0;34m\u001b[0m\u001b[0;34m\u001b[0m\u001b[0m\n\u001b[0;32m----> 3\u001b[0;31m     \u001b[0mcur\u001b[0m\u001b[0;34m.\u001b[0m\u001b[0mexecute\u001b[0m\u001b[0;34m(\u001b[0m\u001b[0;34m\"select tablename from pg_tables where schemaname='\"\u001b[0m\u001b[0;34m+\u001b[0m\u001b[0mschema\u001b[0m\u001b[0;34m+\u001b[0m\u001b[0;34m\"'\"\u001b[0m\u001b[0;34m)\u001b[0m\u001b[0;34m\u001b[0m\u001b[0;34m\u001b[0m\u001b[0m\n\u001b[0m\u001b[1;32m      4\u001b[0m     \u001b[0mtables\u001b[0m \u001b[0;34m=\u001b[0m \u001b[0;34m[\u001b[0m\u001b[0ma\u001b[0m\u001b[0;34m[\u001b[0m\u001b[0;36m0\u001b[0m\u001b[0;34m]\u001b[0m \u001b[0;32mfor\u001b[0m \u001b[0ma\u001b[0m \u001b[0;32min\u001b[0m \u001b[0mcur\u001b[0m\u001b[0;34m.\u001b[0m\u001b[0mfetchall\u001b[0m\u001b[0;34m(\u001b[0m\u001b[0;34m)\u001b[0m\u001b[0;34m]\u001b[0m \u001b[0;32mif\u001b[0m \u001b[0mschema\u001b[0m\u001b[0;34m==\u001b[0m\u001b[0;34m'public'\u001b[0m \u001b[0;32melse\u001b[0m \u001b[0;34m[\u001b[0m\u001b[0mschema\u001b[0m\u001b[0;34m+\u001b[0m\u001b[0;34m'.'\u001b[0m\u001b[0;34m+\u001b[0m\u001b[0ma\u001b[0m\u001b[0;34m[\u001b[0m\u001b[0;36m0\u001b[0m\u001b[0;34m]\u001b[0m \u001b[0;32mfor\u001b[0m \u001b[0ma\u001b[0m \u001b[0;32min\u001b[0m \u001b[0mcur\u001b[0m\u001b[0;34m.\u001b[0m\u001b[0mfetchall\u001b[0m\u001b[0;34m(\u001b[0m\u001b[0;34m)\u001b[0m\u001b[0;34m]\u001b[0m\u001b[0;34m\u001b[0m\u001b[0;34m\u001b[0m\u001b[0m\n\u001b[1;32m      5\u001b[0m     \u001b[0mtables\u001b[0m\u001b[0;34m.\u001b[0m\u001b[0msort\u001b[0m\u001b[0;34m(\u001b[0m\u001b[0;34m)\u001b[0m\u001b[0;34m\u001b[0m\u001b[0;34m\u001b[0m\u001b[0m\n",
      "\u001b[0;31mInFailedSqlTransaction\u001b[0m: current transaction is aborted, commands ignored until end of transaction block\n"
     ]
    }
   ],
   "source": [
    "# List available tables\n",
    "def list_tables(schema):\n",
    "    cur.execute(\"select tablename from pg_tables where schemaname='\"+schema+\"'\")\n",
    "    tables = [a[0] for a in cur.fetchall()] if schema=='public' else [schema+'.'+a[0] for a in cur.fetchall()]\n",
    "    tables.sort()\n",
    "    print(\"Available tables:\", tables)\n",
    "    return tables\n",
    "\n",
    "tables = list_tables('public')"
   ]
  },
  {
   "cell_type": "code",
   "execution_count": 51,
   "id": "a2aa3c7e",
   "metadata": {
    "scrolled": true
   },
   "outputs": [
    {
     "name": "stdout",
     "output_type": "stream",
     "text": [
      "Table conspiracy.names:\n",
      "\n",
      "+-------------+-------------------+--------------+----------------------------------------------+----------+\n",
      "| Column Name |     Data Type     | Max Char Len |                Default Value                 | Nullable |\n",
      "+-------------+-------------------+--------------+----------------------------------------------+----------+\n",
      "|     id      |     smallint      |     None     | nextval('conspiracy.names_id_seq'::regclass) |    NO    |\n",
      "+-------------+-------------------+--------------+----------------------------------------------+----------+\n",
      "|    name     | character varying |      40      |                     None                     |    NO    |\n",
      "+-------------+-------------------+--------------+----------------------------------------------+----------+\n",
      "\n",
      "\n",
      "Table conspiracy.tweets:\n",
      "\n",
      "+---------------+-------------------+--------------+-----------------------------------------------+----------+\n",
      "|  Column Name  |     Data Type     | Max Char Len |                 Default Value                 | Nullable |\n",
      "+---------------+-------------------+--------------+-----------------------------------------------+----------+\n",
      "|      id       |      integer      |     None     | nextval('conspiracy.tweets_id_seq'::regclass) |    NO    |\n",
      "+---------------+-------------------+--------------+-----------------------------------------------+----------+\n",
      "| conspiracy_id |     smallint      |     None     |                     None                      |    NO    |\n",
      "+---------------+-------------------+--------------+-----------------------------------------------+----------+\n",
      "|   tweet_id    | character varying |      20      |                     None                      |    NO    |\n",
      "+---------------+-------------------+--------------+-----------------------------------------------+----------+\n",
      "\n",
      "\n"
     ]
    }
   ],
   "source": [
    "# Describe tables\n",
    "def describe_tables(tables):\n",
    "    desc_row = [\n",
    "        [\"Column Name\", \"Data Type\", \"Max Char Len\", \"Default Value\", \"Nullable\"]\n",
    "    ]\n",
    "    for t in tables:\n",
    "        print(\"Table \" + t + \":\")\n",
    "        d = t.split('.')\n",
    "        schema='public' if len(d)==1 else d[0]\n",
    "        cur.execute(\n",
    "            \"select column_name, data_type, character_maximum_length, column_default, is_nullable \"\n",
    "            + \"from INFORMATION_SCHEMA.COLUMNS where table_name = '\"\n",
    "            + d[-1]\n",
    "            + \"' and table_schema = '\"+schema+\"'\"\n",
    "        )\n",
    "        print_2d(desc_row + cur.fetchall())\n",
    "        print(\"\")\n",
    "\n",
    "describe_tables(tables)"
   ]
  },
  {
   "cell_type": "code",
   "execution_count": 56,
   "id": "5c21fea3",
   "metadata": {
    "scrolled": true
   },
   "outputs": [
    {
     "name": "stdout",
     "output_type": "stream",
     "text": [
      "Table conspiracy.names:\n",
      "\n",
      "+----+--------------------------------------+\n",
      "| 1  |              Deep State              |\n",
      "+----+--------------------------------------+\n",
      "| 2  |                Qanon                 |\n",
      "+----+--------------------------------------+\n",
      "| 3  |           New world order            |\n",
      "+----+--------------------------------------+\n",
      "| 4  | The virus escaped from a Chinese lab |\n",
      "+----+--------------------------------------+\n",
      "| 5  |        Global Warming is HOAX        |\n",
      "+----+--------------------------------------+\n",
      "| 6  |      COVID19 and microchipping       |\n",
      "+----+--------------------------------------+\n",
      "| 7  |       COVID19 is preaded by 5G       |\n",
      "+----+--------------------------------------+\n",
      "| 8  |         Moon landing is fake         |\n",
      "+----+--------------------------------------+\n",
      "| 9  |         9/11 was inside job          |\n",
      "+----+--------------------------------------+\n",
      "| 10 |     Pizzagate conspiracy theory      |\n",
      "+----+--------------------------------------+\n",
      "\n",
      "\n",
      "Table conspiracy.tweets:\n",
      "\n"
     ]
    }
   ],
   "source": [
    "# Show sample data\n",
    "def sample_tables(tables, limit=10):\n",
    "    for t in tables:\n",
    "        print(\"Table \" + t + \":\")\n",
    "        cur.execute(\"SELECT * FROM \" + t + \" LIMIT \"+str(limit))\n",
    "        print_2d(cur.fetchall())\n",
    "        print(\"\")\n",
    "sample_tables(tables)"
   ]
  },
  {
   "cell_type": "markdown",
   "id": "2e390795",
   "metadata": {},
   "source": [
    "#### Step 9: Create hashtag -> conspiracy mapping"
   ]
  },
  {
   "cell_type": "code",
   "execution_count": 10,
   "id": "23cac993",
   "metadata": {
    "scrolled": true
   },
   "outputs": [
    {
     "name": "stdout",
     "output_type": "stream",
     "text": [
      "\n",
      "+----------------------+--------------------------------------+\n",
      "|       Hashtag        |          Conspiracy Theory           |\n",
      "+----------------------+--------------------------------------+\n",
      "|    #5GCoronavirus    |       COVID19 is preaded by 5G       |\n",
      "+----------------------+--------------------------------------+\n",
      "|    #911insidejob     |         9/11 was inside job          |\n",
      "+----------------------+--------------------------------------+\n",
      "|      #911truth       |         9/11 was inside job          |\n",
      "+----------------------+--------------------------------------+\n",
      "|      #Agenda21       |           New world order            |\n",
      "+----------------------+--------------------------------------+\n",
      "|      #CCPVirus       | The virus escaped from a Chinese lab |\n",
      "+----------------------+--------------------------------------+\n",
      "|     #Chemtrails      |              Chemtrails              |\n",
      "+----------------------+--------------------------------------+\n",
      "| #ChinaLiedPeopleDied | The virus escaped from a Chinese lab |\n",
      "+----------------------+--------------------------------------+\n",
      "|  #ClimateChangeHoax  |        Global Warming is HOAX        |\n",
      "+----------------------+--------------------------------------+\n",
      "|   #DeepStateFauci    |              Deep State              |\n",
      "+----------------------+--------------------------------------+\n",
      "|  #DeepStateVaccine   |              Deep State              |\n",
      "+----------------------+--------------------------------------+\n",
      "|   #DeepstateVirus    |              Deep State              |\n",
      "+----------------------+--------------------------------------+\n",
      "|      #flatEarth      |              Flat Earth              |\n",
      "+----------------------+--------------------------------------+\n",
      "|  #GlobalWarmingHoax  |        Global Warming is HOAX        |\n",
      "+----------------------+--------------------------------------+\n",
      "|     #illuminati      |              Illuminati              |\n",
      "+----------------------+--------------------------------------+\n",
      "|        #MAGA         |                Qanon                 |\n",
      "+----------------------+--------------------------------------+\n",
      "|      #moonhoax       |         Moon landing is fake         |\n",
      "+----------------------+--------------------------------------+\n",
      "|   #MoonLandingHoax   |         Moon landing is fake         |\n",
      "+----------------------+--------------------------------------+\n",
      "|   #PedoGateIsReal    |     Pizzagate conspiracy theory      |\n",
      "+----------------------+--------------------------------------+\n",
      "|   #pizzaGateIsReal   |     Pizzagate conspiracy theory      |\n",
      "+----------------------+--------------------------------------+\n",
      "|        #QAnon        |                Qanon                 |\n",
      "+----------------------+--------------------------------------+\n",
      "|     #reptilians      |     Reptilian conspiracy theory      |\n",
      "+----------------------+--------------------------------------+\n",
      "|     #SorosVirus      |      COVID19 and microchipping       |\n",
      "+----------------------+--------------------------------------+\n",
      "|       #WWG1WGA       |                Qanon                 |\n",
      "+----------------------+--------------------------------------+\n",
      "\n"
     ]
    }
   ],
   "source": [
    "# Create list of conspiracy theories\n",
    "conspiracies = (\n",
    "    \"Deep State\",\n",
    "    \"Qanon\",\n",
    "    \"New world order\",\n",
    "    \"The virus escaped from a Chinese lab\",\n",
    "    \"Global Warming is HOAX\",\n",
    "    \"COVID19 and microchipping\",\n",
    "    \"COVID19 is preaded by 5G\",\n",
    "    \"Moon landing is fake\",\n",
    "    \"9/11 was inside job\",\n",
    "    \"Pizzagate conspiracy theory\",\n",
    "    \"Chemtrails\",\n",
    "    \"Flat Earth\",\n",
    "    \"Illuminati\",\n",
    "    \"Reptilian conspiracy theory\",\n",
    ")\n",
    "\n",
    "# Map hashtags to the list of conspiracy theories\n",
    "hashtag_conmap = {\n",
    "    \"#DeepstateVirus\": 0,\n",
    "    \"#DeepStateVaccine\": 0,\n",
    "    \"#DeepStateFauci\": 0,\n",
    "    \"#QAnon\": 1,\n",
    "    \"#MAGA\": 1,\n",
    "    \"#WWG1WGA\": 1,\n",
    "    \"#Agenda21\": 2,\n",
    "    \"#ChinaLiedPeopleDied\": 3,\n",
    "    \"#CCPVirus\": 3,\n",
    "    \"#ClimateChangeHoax\": 4,\n",
    "    \"#GlobalWarmingHoax\": 4,\n",
    "    \"#SorosVirus\": 5,  # '#BillGAtes':5\n",
    "    \"#5GCoronavirus\": 6,\n",
    "    \"#MoonLandingHoax\": 7,\n",
    "    \"#moonhoax\": 7,\n",
    "    \"#911truth\": 8,\n",
    "    \"#911insidejob\": 8,\n",
    "    \"#pizzaGateIsReal\": 9,\n",
    "    \"#PedoGateIsReal\": 9,\n",
    "    \"#Chemtrails\": 10,\n",
    "    \"#flatEarth\": 11,\n",
    "    \"#illuminati\": 12,\n",
    "    \"#reptilians\": 13,\n",
    "}\n",
    "\n",
    "# Print the generated mappings in alphabetical order\n",
    "hashtags = list(hashtag_conmap.keys())\n",
    "hashtags.sort(key=lambda e: e.upper())\n",
    "rows = [[\"Hashtag\", \"Conspiracy Theory\"]]\n",
    "for t in hashtags:\n",
    "    rows.append([t, conspiracies[hashtag_conmap[t]]])\n",
    "print_2d(rows)"
   ]
  },
  {
   "cell_type": "markdown",
   "id": "c404ecd6",
   "metadata": {},
   "source": [
    "#### Step 10: Fetch hashtag -> hashtag-ids mapping"
   ]
  },
  {
   "cell_type": "code",
   "execution_count": 11,
   "id": "463f0de9",
   "metadata": {},
   "outputs": [
    {
     "name": "stdout",
     "output_type": "stream",
     "text": [
      "#5GCoronavirus -> [19005036, 15552438, 34619065, 35538816]\n",
      "#911insidejob -> [16074404]\n",
      "#911truth -> [7014593, 2525313]\n",
      "#Agenda21 -> [363281, 111971, 66445]\n",
      "#CCPVirus -> [1137275, 18509464, 10905016, 3073063, 29467281, 34691278, 31317877, 34584873, 1379885]\n",
      "#Chemtrails -> [15171991, 33792, 149294, 905802]\n",
      "#ChinaLiedPeopleDied -> [16685336, 23714496, 23538315, 36886795, 26615200, 27219903, 25456041, 5112446]\n",
      "#ClimateChangeHoax -> [14157066, 159068, 10090147]\n",
      "#DeepStateFauci -> [15870712, 16542067]\n",
      "#DeepStateVaccine -> [17407797]\n",
      "#DeepstateVirus -> [7074589, 18007452]\n",
      "#flatEarth -> [18277418, 20256863, 4209470, 3436024, 7529160]\n",
      "#GlobalWarmingHoax -> [3486140, 4673374]\n",
      "#illuminati -> [875154, 16238392, 967857, 3178025]\n",
      "#MAGA -> [15894243, 17899079, 19261059, 19469799, 19898566, 14415, 88504, 24818]\n",
      "#moonhoax -> [18587371]\n",
      "#MoonLandingHoax -> [19604351]\n",
      "#PedoGateIsReal -> [15550095, 15659618, 2741960, 7832331, 6005507, 15268807]\n",
      "#pizzaGateIsReal -> [15188058, 15673159, 17812154, 18874438, 15806121, 5310529, 17229118, 15169536, 20011091]\n",
      "#QAnon -> [15168832, 15170088, 15189267, 15274024, 15856421, 15752301, 16070849, 16204212, 16342002, 18149870, 18671401, 20298034, 21370247, 15690756, 15177935, 16799781, 21259243, 27195, 18387797, 22837040, 25091, 22849188, 20506, 77112]\n",
      "#reptilians -> [15470410, 15513442]\n",
      "#SorosVirus -> [3907585, 10854437]\n",
      "#WWG1WGA -> [15171808, 15172783, 15899791, 16000470, 16234227, 16300935, 16334262, 16360449, 16945850, 17556855, 17760215, 18102172, 18473607, 18753284, 19290170, 20378669, 22393264, 1412467, 16261725, 15171635, 16087358, 22699148, 511508, 16579619, 16642505, 931991, 25089]\n"
     ]
    }
   ],
   "source": [
    "hashtag_idmap = {}\n",
    "\n",
    "\n",
    "def fetch_hashtag_ids(hashtag):\n",
    "    # Since the dataset does not respect our case conventions, we are doing a case insensitive search\n",
    "    # We are also looking for hashtags with & without the # prefix\n",
    "    cur.execute(\n",
    "        \"SELECT id FROM hashtags WHERE LOWER(value) = '\"\n",
    "        + hashtag[1:].lower()\n",
    "        + \"' \"\n",
    "        + \"OR LOWER(value) = '\"\n",
    "        + hashtag[1:].lower()\n",
    "        + \"'\"\n",
    "    )\n",
    "    rows = cur.fetchall()\n",
    "\n",
    "    # Save the results to a list of ids, map the list to the given hashtag\n",
    "    ids = list(map(lambda r: r[0], rows))\n",
    "    hashtag_idmap[hashtag] = ids\n",
    "    print(t, \"->\", ids)\n",
    "\n",
    "\n",
    "for t in hashtags:\n",
    "    fetch_hashtag_ids(t)"
   ]
  },
  {
   "cell_type": "markdown",
   "id": "ad7e450c",
   "metadata": {},
   "source": [
    "#### Step 11: Fetch hashtag -> tweet-id mapping"
   ]
  },
  {
   "cell_type": "code",
   "execution_count": 12,
   "id": "71d78c2e",
   "metadata": {},
   "outputs": [
    {
     "name": "stdout",
     "output_type": "stream",
     "text": [
      "#5GCoronavirus -> mapped 407 tweets\n",
      "#911insidejob -> mapped 4 tweets\n",
      "#911truth -> mapped 139 tweets\n",
      "#Agenda21 -> mapped 2297 tweets\n",
      "#CCPVirus -> mapped 5024 tweets\n",
      "#Chemtrails -> mapped 1044 tweets\n",
      "#ChinaLiedPeopleDied -> mapped 3261 tweets\n",
      "#ClimateChangeHoax -> mapped 53 tweets\n",
      "#DeepStateFauci -> mapped 183 tweets\n",
      "#DeepStateVaccine -> mapped 14 tweets\n",
      "#DeepstateVirus -> mapped 518 tweets\n",
      "#flatEarth -> mapped 340 tweets\n",
      "#GlobalWarmingHoax -> mapped 5 tweets\n",
      "#illuminati -> mapped 2172 tweets\n",
      "#MAGA -> mapped 207933 tweets\n",
      "#moonhoax -> mapped 11 tweets\n",
      "#MoonLandingHoax -> mapped 6 tweets\n",
      "#PedoGateIsReal -> mapped 342 tweets\n",
      "#pizzaGateIsReal -> mapped 3253 tweets\n",
      "#QAnon -> mapped 2126183 tweets\n",
      "#reptilians -> mapped 64 tweets\n",
      "#SorosVirus -> mapped 7 tweets\n",
      "#WWG1WGA -> mapped 697307 tweets\n"
     ]
    }
   ],
   "source": [
    "hashtag_twmap = {}\n",
    "for t in hashtags:\n",
    "    twids = set()\n",
    "    for hid in hashtag_idmap[t]:\n",
    "        cur.execute(\n",
    "            \"SELECT tweet_id FROM tweet_hashtags WHERE hashtag_id = \" + str(hid)\n",
    "        )\n",
    "        rows = cur.fetchall()\n",
    "        for r in rows:\n",
    "            twids.add(r[0])\n",
    "    hashtag_twmap[t] = twids\n",
    "    print(t, \"-> mapped\", len(twids), \"tweets\")"
   ]
  },
  {
   "cell_type": "markdown",
   "id": "c17c3952",
   "metadata": {},
   "source": [
    "#### Step 12: Create the list of analysable tweets"
   ]
  },
  {
   "cell_type": "code",
   "execution_count": 13,
   "id": "e7771f1e",
   "metadata": {},
   "outputs": [
    {
     "name": "stdout",
     "output_type": "stream",
     "text": [
      "Found 2144772 analysable tweets\n"
     ]
    }
   ],
   "source": [
    "tweet_ids = set()\n",
    "for t in hashtags:\n",
    "    tweet_ids.update(list(hashtag_twmap[t]))\n",
    "tweet_ids = list(tweet_ids)\n",
    "tweet_count = len(tweet_ids)\n",
    "print(\"Found\", tweet_count, \"analysable tweets\")"
   ]
  },
  {
   "cell_type": "markdown",
   "id": "1fa9ede4",
   "metadata": {},
   "source": [
    "#### Step 13: Fetch tweets (multi-threaded)"
   ]
  },
  {
   "cell_type": "code",
   "execution_count": 14,
   "id": "123ac580",
   "metadata": {},
   "outputs": [
    {
     "name": "stdout",
     "output_type": "stream",
     "text": [
      "Fetching tweets, please wait...\n",
      "Fetched 2144772 tweets\n"
     ]
    }
   ],
   "source": [
    "def fetch_tweets(fr, to):\n",
    "    tweets = {}\n",
    "    with db() as cur:\n",
    "        cur.execute(\n",
    "            \"SELECT id,content FROM tweets WHERE id IN (\"\n",
    "            + str(tweet_ids[fr:to])[1:-1]\n",
    "            + \")\"\n",
    "        )\n",
    "        rows = cur.fetchall()\n",
    "        for r in rows:\n",
    "            tweets[r[0]] = r[1]\n",
    "    return tweets\n",
    "\n",
    "\n",
    "tweets = {}\n",
    "print(\"Fetching tweets, please wait...\")\n",
    "with Pool(THREADS) as p:\n",
    "    for i in range(0, tweet_count, 100000):\n",
    "        to = min(tweet_count, i + 100000)\n",
    "        p.apply_async(\n",
    "            fetch_tweets,\n",
    "            (i, to),\n",
    "            callback=lambda tw: tweets.update(tw),\n",
    "            error_callback=lambda e: print(e.__cause__),\n",
    "        )\n",
    "    p.close()\n",
    "    p.join()\n",
    "print(\"Fetched \" + str(len(tweets)) + \" tweets\\n\", end=\"\")"
   ]
  },
  {
   "cell_type": "markdown",
   "id": "9382800a",
   "metadata": {},
   "source": [
    "#### Step 14: Remove emoticons, hashtags, mentions from tweets (multi-threaded)"
   ]
  },
  {
   "cell_type": "code",
   "execution_count": 15,
   "id": "670f57bb",
   "metadata": {},
   "outputs": [
    {
     "name": "stdout",
     "output_type": "stream",
     "text": [
      "Removing emoticons, hashtags, mentions from tweets, please wait...\n",
      "Done\n"
     ]
    }
   ],
   "source": [
    "import re\n",
    "\n",
    "emoji_pattern = re.compile(\n",
    "    \"[\"\n",
    "    u\"\\U0001F600-\\U0001F64F\"  # emoticons\n",
    "    u\"\\U0001F300-\\U0001F5FF\"  # symbols & pictographs\n",
    "    u\"\\U0001F680-\\U0001F6FF\"  # transport & map symbols\n",
    "    u\"\\U0001F1E0-\\U0001F1FF\"  # flags (iOS)\n",
    "    \"]+\",\n",
    "    flags=re.UNICODE,\n",
    ")\n",
    "\n",
    "mention_hashtag_pattern = re.compile(\"[#@][A-Za-z0-9_]+\")\n",
    "\n",
    "\n",
    "def process_tweets(fr, to):\n",
    "    out = {}\n",
    "    for i in range(fr, to):\n",
    "        tid = tweet_ids[i]\n",
    "        noemoji = emoji_pattern.sub(r\"\", tweets[tid])\n",
    "        out[tid] = mention_hashtag_pattern.sub(r\"\", noemoji)\n",
    "    return out\n",
    "\n",
    "\n",
    "print(\"Removing emoticons, hashtags, mentions from tweets, please wait...\")\n",
    "with Pool(THREADS) as p:\n",
    "    for i in range(0, tweet_count, 100000):\n",
    "        to = min(tweet_count, i + 100000)\n",
    "        p.apply_async(\n",
    "            process_tweets,\n",
    "            (i, to),\n",
    "            callback=tweets.update,\n",
    "            error_callback=lambda e: print(e.__cause__),\n",
    "        )\n",
    "    p.close()\n",
    "    p.join()\n",
    "print(\"Done\")"
   ]
  },
  {
   "cell_type": "markdown",
   "id": "cca1f68a",
   "metadata": {},
   "source": [
    "#### Step 15: Calculate the sentiment of tweets (multi-threaded)"
   ]
  },
  {
   "cell_type": "code",
   "execution_count": 16,
   "id": "51cb2e0b",
   "metadata": {
    "scrolled": false
   },
   "outputs": [
    {
     "name": "stdout",
     "output_type": "stream",
     "text": [
      "Calculating sentiment of tweets...\n",
      "2144772 of 2144772 (100.0%) done     \n",
      "Done\n"
     ]
    }
   ],
   "source": [
    "tweet_sen = {}\n",
    "\n",
    "\n",
    "def calc_sen(fr, to):\n",
    "    sen = {}\n",
    "    sid = SentimentIntensityAnalyzer()\n",
    "    for i in range(fr, to):\n",
    "        tid = tweet_ids[i]\n",
    "        sen[tid] = sid.polarity_scores(tweets[tid])\n",
    "    return sen\n",
    "\n",
    "\n",
    "def progress_report(sen):\n",
    "    tweet_sen.update(sen)\n",
    "    done = len(tweet_sen)\n",
    "    pct = (done * 10000 // tweet_count) / 100.0\n",
    "    print(done, \"of\", tweet_count, \"(\" + str(pct) + \"%) done     \\r\", end=\"\")\n",
    "\n",
    "\n",
    "print(\"Calculating sentiment of tweets...\")\n",
    "with Pool(THREADS) as p:\n",
    "    for i in range(0, tweet_count, 10000):\n",
    "        to = min(tweet_count, i + 10000)\n",
    "        p.apply_async(\n",
    "            calc_sen,\n",
    "            (i, to),\n",
    "            callback=progress_report,\n",
    "            error_callback=lambda e: print(e.__cause__),\n",
    "        )\n",
    "    p.close()\n",
    "    p.join()\n",
    "print(\"\\nDone\")"
   ]
  },
  {
   "cell_type": "markdown",
   "id": "a3a43ffb",
   "metadata": {},
   "source": [
    "#### Step 16: Map the calculated tweet sentiments to hashtags"
   ]
  },
  {
   "cell_type": "code",
   "execution_count": 17,
   "id": "4b8c1f6e",
   "metadata": {},
   "outputs": [
    {
     "name": "stdout",
     "output_type": "stream",
     "text": [
      "Mapping tweet sentiment data to hashtags, please wait...\n",
      "\n",
      "+----------------------+----------------------+--------------------+----------------------+-----------------------+\n",
      "|       Hashtag        |       Negative       |      Neutral       |       Positive       |       Compound        |\n",
      "+----------------------+----------------------+--------------------+----------------------+-----------------------+\n",
      "|    #5GCoronavirus    | 0.07670270270270267  | 0.8554004914004913 | 0.053110565110565104 | -0.08209999999999999  |\n",
      "+----------------------+----------------------+--------------------+----------------------+-----------------------+\n",
      "|    #911insidejob     |        0.085         |      0.80325       |       0.11175        | -0.10522499999999999  |\n",
      "+----------------------+----------------------+--------------------+----------------------+-----------------------+\n",
      "|      #911truth       | 0.05264028776978418  | 0.8963525179856117 | 0.05099999999999998  | -0.03896402877697842  |\n",
      "+----------------------+----------------------+--------------------+----------------------+-----------------------+\n",
      "|      #Agenda21       | 0.07420417936438818  | 0.8374653896386627 | 0.08481454070526749  |  0.04467679582063583  |\n",
      "+----------------------+----------------------+--------------------+----------------------+-----------------------+\n",
      "|      #CCPVirus       | 0.09181050955414015  | 0.8475061703821638 | 0.05590505573248418  | -0.10835302547770687  |\n",
      "+----------------------+----------------------+--------------------+----------------------+-----------------------+\n",
      "|     #Chemtrails      | 0.09108429118773963  | 0.8246302681992332 | 0.08045977011494278  | 0.0058816091954023205 |\n",
      "+----------------------+----------------------+--------------------+----------------------+-----------------------+\n",
      "| #ChinaLiedPeopleDied | 0.11066789328426897  | 0.8022327506899738 |  0.068392517632628   |  -0.1073323520392517  |\n",
      "+----------------------+----------------------+--------------------+----------------------+-----------------------+\n",
      "|  #ClimateChangeHoax  | 0.12694339622641512  | 0.7993207547169814 | 0.07379245283018869  | -0.16604528301886795  |\n",
      "+----------------------+----------------------+--------------------+----------------------+-----------------------+\n",
      "|   #DeepStateFauci    | 0.09087978142076517  | 0.7924590163934433 | 0.11666666666666667  |  0.06606994535519124  |\n",
      "+----------------------+----------------------+--------------------+----------------------+-----------------------+\n",
      "|  #DeepStateVaccine   | 0.05807142857142857  | 0.9419285714285716 |         0.0          |        -0.1782        |\n",
      "+----------------------+----------------------+--------------------+----------------------+-----------------------+\n",
      "|   #DeepstateVirus    | 0.029011583011583016 | 0.9642413127413128 | 0.006743243243243244 | -0.06265849420849419  |\n",
      "+----------------------+----------------------+--------------------+----------------------+-----------------------+\n",
      "|      #flatEarth      | 0.05352058823529414  | 0.8649911764705885 | 0.06386764705882356  |  0.03694735294117649  |\n",
      "+----------------------+----------------------+--------------------+----------------------+-----------------------+\n",
      "|  #GlobalWarmingHoax  | 0.14179999999999998  |       0.7856       | 0.07239999999999999  |       -0.19596        |\n",
      "+----------------------+----------------------+--------------------+----------------------+-----------------------+\n",
      "|     #illuminati      | 0.05468876611418058  | 0.8763029465930015 | 0.06255616942909752  | 0.013944337016574541  |\n",
      "+----------------------+----------------------+--------------------+----------------------+-----------------------+\n",
      "|        #MAGA         | 0.08382891123582373  | 0.8288554967224625 | 0.08569330024574762  | -0.020516307656793534 |\n",
      "+----------------------+----------------------+--------------------+----------------------+-----------------------+\n",
      "|      #moonhoax       | 0.17999999999999997  | 0.7359999999999999 | 0.08399999999999998  |        -0.633         |\n",
      "+----------------------+----------------------+--------------------+----------------------+-----------------------+\n",
      "|   #MoonLandingHoax   | 0.20500000000000004  |       0.795        |         0.0          |        -0.5267        |\n",
      "+----------------------+----------------------+--------------------+----------------------+-----------------------+\n",
      "|   #PedoGateIsReal    | 0.05327192982456141  | 0.8672397660818715 | 0.05903216374269006  | -0.010642397660818714 |\n",
      "+----------------------+----------------------+--------------------+----------------------+-----------------------+\n",
      "|   #pizzaGateIsReal   | 0.061790962188748924 | 0.857507224100831  | 0.06442576083615124  | -0.012068798032585313 |\n",
      "+----------------------+----------------------+--------------------+----------------------+-----------------------+\n",
      "|        #QAnon        | 0.07055244115863295  | 0.8431073651702086 | 0.08366530162266315  | 0.016716778894393297  |\n",
      "+----------------------+----------------------+--------------------+----------------------+-----------------------+\n",
      "|     #reptilians      | 0.09617187499999999  |    0.802234375     | 0.10160937499999997  | 0.047353124999999996  |\n",
      "+----------------------+----------------------+--------------------+----------------------+-----------------------+\n",
      "|     #SorosVirus      |  0.1122857142857143  | 0.8777142857142858 |         0.01         |        -0.3965        |\n",
      "+----------------------+----------------------+--------------------+----------------------+-----------------------+\n",
      "|       #WWG1WGA       | 0.06893807462134485  | 0.8356714746873993 | 0.09245556835082117  |  0.05741366385250834  |\n",
      "+----------------------+----------------------+--------------------+----------------------+-----------------------+\n",
      "\n"
     ]
    }
   ],
   "source": [
    "print(\"Mapping tweet sentiment data to hashtags, please wait...\")\n",
    "\n",
    "# Use the hashtag -> tweet id mapping we generated in Step 11 for mapping tweet sentiments to hashtags\n",
    "hashtag_sen = {}\n",
    "for t in hashtags:\n",
    "    hashtag_sen[t] = {}\n",
    "    for sen in (\"neg\", \"neu\", \"pos\", \"compound\"):\n",
    "        # Sum up the sentiment values\n",
    "        hashtag_sen[t][sen] = 0\n",
    "        for twid in hashtag_twmap[t]:\n",
    "            hashtag_sen[t][sen] += tweet_sen[twid][sen]\n",
    "\n",
    "        # Normalize the results\n",
    "        hashtag_sen[t][sen] /= len(hashtag_twmap[t])\n",
    "\n",
    "# Print the results\n",
    "rows = [[\"Hashtag\", \"Negative\", \"Neutral\", \"Positive\", \"Compound\"]]\n",
    "for t in hashtags:\n",
    "    rows.append(\n",
    "        [\n",
    "            t,\n",
    "            hashtag_sen[t][\"neg\"],\n",
    "            hashtag_sen[t][\"neu\"],\n",
    "            hashtag_sen[t][\"pos\"],\n",
    "            hashtag_sen[t][\"compound\"],\n",
    "        ]\n",
    "    )\n",
    "print_2d(rows)"
   ]
  },
  {
   "cell_type": "markdown",
   "id": "5b596b99",
   "metadata": {},
   "source": [
    "## Task 3 - Sort tweets by conspiracy theories"
   ]
  },
  {
   "cell_type": "markdown",
   "id": "7a7333ca",
   "metadata": {},
   "source": [
    "#### Step 1: Grant all priviliges for a new schema called conspiracy for our database user pdt\n",
    "`su postgres`\n",
    "\n",
    "`psql -d tweets`\n",
    "\n",
    "```\n",
    "CREATE SCHEMA conspiracy;\n",
    "GRANT ALL PRIVILIGES ON SCHEMA conspiracy to pdt;\n",
    "quit;\n",
    "```\n",
    "\n",
    "`logout`"
   ]
  },
  {
   "cell_type": "markdown",
   "id": "a21caf5e",
   "metadata": {},
   "source": [
    "#### Step 2: Create tables used for storing conspiracy names & tweet-id - conspiracy-id mappings"
   ]
  },
  {
   "cell_type": "code",
   "execution_count": 57,
   "id": "7dffa96b",
   "metadata": {
    "scrolled": true
   },
   "outputs": [
    {
     "name": "stdout",
     "output_type": "stream",
     "text": [
      "Available tables: ['conspiracy.names', 'conspiracy.tweets']\n",
      "Table conspiracy.names:\n",
      "\n",
      "+-------------+-------------------+--------------+----------------------------------------------+----------+\n",
      "| Column Name |     Data Type     | Max Char Len |                Default Value                 | Nullable |\n",
      "+-------------+-------------------+--------------+----------------------------------------------+----------+\n",
      "|     id      |     smallint      |     None     | nextval('conspiracy.names_id_seq'::regclass) |    NO    |\n",
      "+-------------+-------------------+--------------+----------------------------------------------+----------+\n",
      "|    name     | character varying |      40      |                     None                     |    NO    |\n",
      "+-------------+-------------------+--------------+----------------------------------------------+----------+\n",
      "\n",
      "\n",
      "Table conspiracy.tweets:\n",
      "\n",
      "+---------------+-------------------+--------------+-----------------------------------------------+----------+\n",
      "|  Column Name  |     Data Type     | Max Char Len |                 Default Value                 | Nullable |\n",
      "+---------------+-------------------+--------------+-----------------------------------------------+----------+\n",
      "|      id       |      integer      |     None     | nextval('conspiracy.tweets_id_seq'::regclass) |    NO    |\n",
      "+---------------+-------------------+--------------+-----------------------------------------------+----------+\n",
      "| conspiracy_id |     smallint      |     None     |                     None                      |    NO    |\n",
      "+---------------+-------------------+--------------+-----------------------------------------------+----------+\n",
      "|   tweet_id    | character varying |      20      |                     None                      |    NO    |\n",
      "+---------------+-------------------+--------------+-----------------------------------------------+----------+\n",
      "\n",
      "\n"
     ]
    }
   ],
   "source": [
    "cur=db()\n",
    "cur.execute('DROP TABLE IF EXISTS conspiracy.names');\n",
    "cur.execute('DROP TABLE IF EXISTS conspiracy.tweets');\n",
    "cur.execute('CREATE TABLE conspiracy.names (id SMALLSERIAL PRIMARY KEY NOT NULL, name VARCHAR(40) NOT NULL)')\n",
    "cur.execute('CREATE TABLE conspiracy.tweets (id SERIAL PRIMARY KEY NOT NULL, conspiracy_id SMALLINT NOT NULL,'+\n",
    "            'tweet_id VARCHAR(20) NOT NULL)')\n",
    "\n",
    "# Describe the newly created tables\n",
    "tables=list_tables('conspiracy')\n",
    "describe_tables(tables)"
   ]
  },
  {
   "cell_type": "markdown",
   "id": "76b47ad5",
   "metadata": {},
   "source": [
    "#### Step 3: Populate conspiracy.names table"
   ]
  },
  {
   "cell_type": "code",
   "execution_count": 58,
   "id": "1490e0df",
   "metadata": {
    "scrolled": true
   },
   "outputs": [
    {
     "name": "stdout",
     "output_type": "stream",
     "text": [
      "Table conspiracy.names:\n",
      "\n",
      "+----+--------------------------------------+\n",
      "| 1  |              Deep State              |\n",
      "+----+--------------------------------------+\n",
      "| 2  |                Qanon                 |\n",
      "+----+--------------------------------------+\n",
      "| 3  |           New world order            |\n",
      "+----+--------------------------------------+\n",
      "| 4  | The virus escaped from a Chinese lab |\n",
      "+----+--------------------------------------+\n",
      "| 5  |        Global Warming is HOAX        |\n",
      "+----+--------------------------------------+\n",
      "| 6  |      COVID19 and microchipping       |\n",
      "+----+--------------------------------------+\n",
      "| 7  |       COVID19 is preaded by 5G       |\n",
      "+----+--------------------------------------+\n",
      "| 8  |         Moon landing is fake         |\n",
      "+----+--------------------------------------+\n",
      "| 9  |         9/11 was inside job          |\n",
      "+----+--------------------------------------+\n",
      "| 10 |     Pizzagate conspiracy theory      |\n",
      "+----+--------------------------------------+\n",
      "| 11 |              Chemtrails              |\n",
      "+----+--------------------------------------+\n",
      "| 12 |              Flat Earth              |\n",
      "+----+--------------------------------------+\n",
      "| 13 |              Illuminati              |\n",
      "+----+--------------------------------------+\n",
      "| 14 |     Reptilian conspiracy theory      |\n",
      "+----+--------------------------------------+\n",
      "\n",
      "\n"
     ]
    }
   ],
   "source": [
    "querry='INSERT INTO conspiracy.names (name) VALUES'\n",
    "for c in conspiracies:\n",
    "    querry+=\" ('\"+c+\"'),\"\n",
    "cur.execute(querry[:-1])\n",
    "sample_tables(['conspiracy.names'],len(conspiracies))"
   ]
  },
  {
   "cell_type": "markdown",
   "id": "9e39abf5",
   "metadata": {},
   "source": [
    "#### Step 4: Create conspiracy-id -> tweet-ids mapping"
   ]
  },
  {
   "cell_type": "code",
   "execution_count": 71,
   "id": "9baa679b",
   "metadata": {},
   "outputs": [
    {
     "name": "stdout",
     "output_type": "stream",
     "text": [
      "\n",
      "+--------------------------------------+---------+\n",
      "|              Conspiracy              | Tweets  |\n",
      "+--------------------------------------+---------+\n",
      "|              Deep State              |   701   |\n",
      "+--------------------------------------+---------+\n",
      "|                Qanon                 | 2136414 |\n",
      "+--------------------------------------+---------+\n",
      "|           New world order            |  2297   |\n",
      "+--------------------------------------+---------+\n",
      "| The virus escaped from a Chinese lab |  7976   |\n",
      "+--------------------------------------+---------+\n",
      "|        Global Warming is HOAX        |   57    |\n",
      "+--------------------------------------+---------+\n",
      "|      COVID19 and microchipping       |    7    |\n",
      "+--------------------------------------+---------+\n",
      "|       COVID19 is preaded by 5G       |   407   |\n",
      "+--------------------------------------+---------+\n",
      "|         Moon landing is fake         |   17    |\n",
      "+--------------------------------------+---------+\n",
      "|         9/11 was inside job          |   143   |\n",
      "+--------------------------------------+---------+\n",
      "|     Pizzagate conspiracy theory      |  3543   |\n",
      "+--------------------------------------+---------+\n",
      "|              Chemtrails              |  1044   |\n",
      "+--------------------------------------+---------+\n",
      "|              Flat Earth              |   340   |\n",
      "+--------------------------------------+---------+\n",
      "|              Illuminati              |  2172   |\n",
      "+--------------------------------------+---------+\n",
      "|     Reptilian conspiracy theory      |   64    |\n",
      "+--------------------------------------+---------+\n",
      "\n"
     ]
    }
   ],
   "source": [
    "conspiracy_twids=[]\n",
    "for i in range(len(conspiracies)):\n",
    "    conspiracy_twids.append(set())\n",
    "\n",
    "for ht in hashtags:\n",
    "    conid=hashtag_conmap[ht]\n",
    "    conspiracy_twids[conid].update(hashtag_twmap[ht])\n",
    "\n",
    "# Print the number of mapped tweet-ids for each conspiracy theory\n",
    "rows=[['Conspiracy','Tweets']]\n",
    "for i in range(len(conspiracies)):\n",
    "    rows.append([conspiracies[i],len(conspiracy_twids[i])])\n",
    "print_2d(rows)"
   ]
  },
  {
   "cell_type": "markdown",
   "id": "1a9838cf",
   "metadata": {},
   "source": [
    "#### Step 5: Store conspiracy-id -> tweet-ids mappings to the conspiracy.tweets table (multi-threaded)"
   ]
  },
  {
   "cell_type": "code",
   "execution_count": null,
   "id": "bc5a7a0e",
   "metadata": {},
   "outputs": [],
   "source": []
  },
  {
   "cell_type": "markdown",
   "id": "96375f9d",
   "metadata": {},
   "source": [
    "## Task 4 - Calculate the ratio of tweets with extreme / neutral sentiment"
   ]
  },
  {
   "cell_type": "markdown",
   "id": "9e4cfda5",
   "metadata": {},
   "source": [
    "## Task 5 - Find Top 10 most active accounts in all extreme sentiment conspiracy theories"
   ]
  },
  {
   "cell_type": "markdown",
   "id": "5111277a",
   "metadata": {},
   "source": [
    "## Task 6 - Find Top 10 most used hashtags for each exteme sentiment conspiracy theories "
   ]
  }
 ],
 "metadata": {
  "kernelspec": {
   "display_name": "Python 3",
   "language": "python",
   "name": "python3"
  },
  "language_info": {
   "codemirror_mode": {
    "name": "ipython",
    "version": 3
   },
   "file_extension": ".py",
   "mimetype": "text/x-python",
   "name": "python",
   "nbconvert_exporter": "python",
   "pygments_lexer": "ipython3",
   "version": "3.8.8"
  }
 },
 "nbformat": 4,
 "nbformat_minor": 5
}
