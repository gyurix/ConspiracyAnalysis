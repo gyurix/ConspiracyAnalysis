{
 "cells": [
  {
   "cell_type": "markdown",
   "id": "6746f112",
   "metadata": {},
   "source": [
    "# Zadanie 1 – analýza tweetov  \n",
    "Odovzdanie do 10.10.2021 23:59 – máte na to presne 2 týždne – dostanete za to 7,5 boda. \n",
    " \n",
    "Prvé zadanie je zamerané na roztriedenie tweetov medzi rôzne konšpiračné teórie uvedené \n",
    "pod zadaním. Programovať môžete v hocijakom jazyku a váš zdroják sa odovzdáva to IS, no \n",
    "rovnako MUSÍ byť zavesený na vašom githube – v dokumente na začiatku uveďte vždy linku \n",
    "na projekt. Ak nebude GitHub, nebudú body. Okrem zdrojáku odovzdávate aj dokument kde \n",
    "budú screenshoty vašich výsledkov, výsledky ako text a grafy. Môžete napísať aj nejaké teplé \n",
    "slovko k tomu, nech sa pobavíme. \n",
    " \n",
    "Vašou úlohou je teda: \n",
    " \n",
    "1. Importovať dataset do PostgreSQL 13+: \n",
    "https://drive.google.com/drive/folders/1_crPerzWU2Nzc4mR5k6xuGqbp0fJDvsY?usp=sharing \n",
    " \n",
    "2. Vypočítať sentiment pomocou VADER lexikónu \n",
    "https://towardsdatascience.com/sentimental-analysis-using-vader-a3415fef7664 pre \n",
    "tweety, ktoré obsahujú nasledovné hashtagy: #DeepstateVirus #DeepStateVaccine \n",
    "#DeepStateFauci #QAnon #Agenda21 #CCPVirus #ClimateChangeHoax \n",
    "#GlobalWarmingHoax #ChinaLiedPeopleDied #SorosVirus #5GCoronavirus #MAGA \n",
    "#WWG1WGA #Chemtrails #flatEarth #MoonLandingHoax #moonhoax #illuminati \n",
    "#pizzaGateIsReal #PedoGateIsReal #911truth #911insidejob #reptilians \n",
    "Pri výpočte nezohľadňujte (ignorujte) emotikony ani hashtagy ani mentiony v texte. \n",
    " \n",
    "3. Roztriediť vyfiltrované tweety z predošlého zadania medzi konšpiračné teórie – \n",
    "spravte si na to novú tabuľku a mapovanie – nech je jasné ktorý tweet patrí ktorej \n",
    "konšpiračnej teórii.  \n",
    " \n",
    "4. Vypočítajte pomer extrémnych a neutrálnych sentimentov tweetov pre konšpiračné \n",
    "teórie po týždňoch a zistite, či daná konšpiračná teória rastie alebo upadá v čase. \n",
    "Výstup vizualizujte v grafe. Rovnako uveďte aj absolútne čísla: tweet_count, \n",
    "tweet_extreme_count, tweet_neutral_count v tabuľke pre každý týždeň. Za extrém \n",
    "považujeme keď je compound väčší ako 0,5 alebo menší ako -0,5. \n",
    " \n",
    "5. Nájdite TOP10 account-ov ktoré sú najaktívnejšie v každej konšpiračnej teórii \n",
    "s extrémnym sentimentom a ukážte ich v tabuľke: id, name, screen_name a \n",
    "tweet_count. \n",
    " \n",
    "6. Nájdite TOP10 najčastejšie používaných hashtagov pre každú konšpiračnú teóriu \n",
    "z tweetov s extrémnym sentimentom, vypíšte aj počet. \n",
    " \n",
    "V úvahu berte nasledovné konšpiračné teórie a ich hashtagy."
   ]
  },
  {
   "cell_type": "markdown",
   "id": "1a2f3b0e",
   "metadata": {},
   "source": [
    "## Database structure\n",
    "\n",
    "![DB structure](Zadanie1-TweetsDB.jpeg)"
   ]
  },
  {
   "cell_type": "markdown",
   "id": "1edb323b",
   "metadata": {},
   "source": [
    "# === Conspiracy Theories ==="
   ]
  },
  {
   "cell_type": "markdown",
   "id": "b850640d",
   "metadata": {},
   "source": [
    "## Deep State  \n",
    " \n",
    "https://en.wikipedia.org/wiki/Deep_state \n",
    " \n",
    "A deep state is a type of governance made up of potentially secret and unauthorised \n",
    "networks of power operating independently of a state's political leadership in pursuit of \n",
    "their own agenda and goals. In popular usage, the term carries overwhelmingly negative \n",
    "connotations. The range of possible uses of the term is similar to that for shadow \n",
    "government. The expression state within a state is an older and similar concept. Historically, \n",
    "it designated a well-defined organization which seeks to function independently, whereas \n",
    "the deep state refers more to a hidden organization seeking to manipulate the public state. \n",
    " \n",
    "`#DeepstateVirus #DeepStateVaccine #DeepStateFauci`"
   ]
  },
  {
   "cell_type": "markdown",
   "id": "0fc18ef1",
   "metadata": {},
   "source": [
    "## Qanon  \n",
    " \n",
    "https://dennikn.sk/2474994/pripraveni-na-velke-prebudenie-zo-zakulisia-hnutia-qanon/ \n",
    " \n",
    "“The [QAnon] conspiracy involves a range of batshit theories but very basically, many \n",
    "QAnon supporters believe in a global conspiracy involving a ring of Satan-worshipping, child-\n",
    "molesting criminals led by prominent Democrats that includes everyone from Hillary Clinton \n",
    "to Tom Hanks to a Mexican cement company [Cemex]. They also believe information about \n",
    "it is being leaked via cryptic posts on the internet by someone with very high Q-level \n",
    "security clearance—which sounds just as made-up as it definitely is.” \n",
    " \n",
    "`#QAnon #MAGA #WWG1WGA`"
   ]
  },
  {
   "cell_type": "markdown",
   "id": "faa050b1",
   "metadata": {},
   "source": [
    "## New world order  \n",
    " \n",
    "https://www.buzzfeed.com/joeydurso/coronavirus-agenda-21-5g\n",
    "\n",
    "An Old Conspiracy Theory Known As \"Agenda 21\" Has Been Rebooted By The Coronavirus \n",
    "Pandemic. New World Order is here again. \n",
    " \n",
    "`#Agenda21`"
   ]
  },
  {
   "cell_type": "markdown",
   "id": "2d663ad6",
   "metadata": {},
   "source": [
    "## The virus escaped from a Chinese lab  \n",
    " \n",
    "https://www.vox.com/22453571/lab-leak-covid-19-coronavirus-hypothesis-wuhan-virology-china \n",
    " \n",
    "Where did the virus that causes Covid-19 come from? It’s one of the most persistent \n",
    "mysteries of the pandemic. The debate about it among scientists, policymakers, journalists, \n",
    "amateur internet sleuths, and the general public has reignited with new revelations and \n",
    "new voices in the mix. We may never know for sure if the virus that causes Covid-19 leaked \n",
    "from a lab. But that won’t stop the debate. \n",
    " \n",
    "`#CCPVirus #ChinaLiedPeopleDied`"
   ]
  },
  {
   "cell_type": "markdown",
   "id": "ea0d30d0",
   "metadata": {},
   "source": [
    "## Global Warming is HOAX  \n",
    " \n",
    "https://www.hull.ac.uk/special/blog/why-people-still-believe-climate-change-is-fake-and-\n",
    "why-we-know-theyre-wrong \n",
    " \n",
    "Why people still believe climate change is fake...\n",
    "\n",
    "`#ClimateChangeHoax #GlobalWarmingHoax`"
   ]
  },
  {
   "cell_type": "markdown",
   "id": "15b49d3c",
   "metadata": {},
   "source": [
    "## COVID19 and microchipping  \n",
    " \n",
    "https://www.politifact.com/factchecks/2020/may/28/facebook-posts/theres-no-plot-\n",
    "microchip-people-during-covid-19-te/ \n",
    " \n",
    "There’s no evidence that Bill Gates and George Soros plan to microchip people being tested \n",
    "for coronavirus. \n",
    " \n",
    "`#SorosVirus #BillGAtes`"
   ]
  },
  {
   "cell_type": "markdown",
   "id": "deb07df2",
   "metadata": {},
   "source": [
    "## COVID19 is preaded by 5G  \n",
    " \n",
    "https://www.vox.com/recode/2020/4/24/21231085/coronavirus-5g-conspiracy-theory-\n",
    "covid-facebook-youtube \n",
    " \n",
    "The first link John Gregory saw pushing a connection between 5G and the coronavirus \n",
    "pandemic was on a French conspiracy website called Les moutons enragés, which loosely \n",
    "translates as “The rabid sheep.” A January 20 post floated that the millimeter wave \n",
    "spectrum used by 5G technology and Covid-19, the disease caused by the novel coronavirus, \n",
    "could be related, pointing to reports about Wuhan installing 5G towers before the outbreak. \n",
    "Three months later, conspiracy theorists making similar claims were setting cellphone \n",
    "towers on fire in Europe. \n",
    " \n",
    "`#5GCoronavirus`"
   ]
  },
  {
   "cell_type": "markdown",
   "id": "35577c0e",
   "metadata": {},
   "source": [
    "## Moon landing is fake  \n",
    " \n",
    "https://www.space.com/apollo-11-moon-landing-hoax-believers.html \n",
    " \n",
    "Moon-Landing Hoax Still Lives On, 50 Years After Apollo 11. \n",
    " \n",
    "`#MoonLandingHoax #moonhoax`"
   ]
  },
  {
   "cell_type": "markdown",
   "id": "394fb981",
   "metadata": {},
   "source": [
    "## 9/11 was inside job  \n",
    " \n",
    "https://www.bbc.com/news/58469600 \n",
    " \n",
    "11 September 2001: The conspiracy theories still spreading after 20 years \n",
    " \n",
    "`#911truth #911insidejob`"
   ]
  },
  {
   "cell_type": "markdown",
   "id": "037078fc",
   "metadata": {},
   "source": [
    "## Pizzagate conspiracy theory \n",
    " \n",
    "(https://en.wikipedia.org/wiki/Pizzagate_conspiracy_theory \n",
    " \n",
    "In March 2016, the personal email account of John Podesta, Hillary Clinton's campaign chair, \n",
    "was hacked in a spear-phishing attack. WikiLeaks published his emails in November 2016. \n",
    "Proponents of the Pizzagate conspiracy theory falsely claimed the emails contained coded \n",
    "messages that connected several high-ranking Democratic Party officials and U.S. \n",
    "restaurants with an alleged human trafficking and child sex ring. One of the establishments \n",
    "allegedly involved was the Comet Ping Pong pizzeria in Washington, D.C.[6][7] \n",
    " \n",
    "`#pizzaGateIsReal #PedoGateIsReal`"
   ]
  },
  {
   "cell_type": "markdown",
   "id": "74cb72b0",
   "metadata": {},
   "source": [
    "## Chemtrails  \n",
    " \n",
    "https://keith.seas.harvard.edu/chemtrails-conspiracy-theory \n",
    " \n",
    "Chemtrails refers to the theory that governments or other parties are engaged in a secret \n",
    "program to add toxic chemicals to the atmosphere from aircraft in a way that forms visible \n",
    "plumes in the sky, somewhat similar to contrails. Various different motivations for this \n",
    "alleged spraying are speculated, including sterilization, reduction of life expectancy, mind \n",
    "control or weather control. \n",
    " \n",
    "`#Chemtrails`"
   ]
  },
  {
   "cell_type": "markdown",
   "id": "ec041e36",
   "metadata": {},
   "source": [
    "## Flat Earth  \n",
    " \n",
    "https://edition.cnn.com/2019/11/16/us/flat-earth-conference-conspiracy-theories-scli-intl/index.html \n",
    " \n",
    "(CNN)\"I don't want to be a flat Earther,\" David Weiss says, his voice weary as he reflects on \n",
    "his personal awakening. \"Would you wake up in the morning and want everyone to think \n",
    "you're an idiot?\" But Weiss is a flat Earther. Ever since he tried and failed to find proof of the \n",
    "Earth's curve four years ago, he's believed with an evident passion that our planet is both \n",
    "flat and stationary -- and it's turned his world upside down. \n",
    " \n",
    "`#flatEarth`"
   ]
  },
  {
   "cell_type": "markdown",
   "id": "94f72744",
   "metadata": {},
   "source": [
    "## Illuminati  \n",
    " \n",
    "https://www.bbc.com/future/article/20170809-the-accidental-invention-of-the-illuminati-\n",
    "conspiracy \n",
    "It’s the conspiracy theory to dwarf all conspiracy theories. A smorgasbord of every other \n",
    "intrigue under the sun, the Illuminati are the supposed overlords controlling the world’s \n",
    "affairs, operating secretly as they seek to establish a New World Order. \n",
    " \n",
    "`#illuminati`"
   ]
  },
  {
   "cell_type": "markdown",
   "id": "74e3abd5",
   "metadata": {},
   "source": [
    "## Reptilian conspiracy theory  \n",
    " \n",
    "https://en.wikipedia.org/wiki/Reptilian_conspiracy_theory \n",
    " \n",
    "Reptilians – also called reptoids, lizard people, reptiloids, saurians, or draconians – are \n",
    "supposed reptilian humanoids, which play a prominent role in fantasy, science fiction, \n",
    "ufology, and conspiracy theories. The idea of reptilians was popularised by David Icke, a \n",
    "conspiracy theorist who claims shapeshifting reptilian aliens control Earth by taking on \n",
    "human form and gaining political power to manipulate human societies. Icke has stated on \n",
    "multiple occasions that many world leaders are, or are possessed by, so-called reptilians. \n",
    " \n",
    "`#reptilians`"
   ]
  },
  {
   "cell_type": "markdown",
   "id": "34232286",
   "metadata": {},
   "source": [
    "# === Solution ===\n",
    "## by Bc. Juraj Baráth"
   ]
  },
  {
   "cell_type": "markdown",
   "id": "705a8ccc",
   "metadata": {},
   "source": [
    "## Task 1 - Import dataset to PostgreSQL\n",
    "\n",
    "#### Step 1: Install postgis extension\n",
    "`apt install -y postgis postgresql-postgis`\n",
    "\n",
    "#### Step 2: Create new empty database\n",
    "`su postgres`\n",
    "\n",
    "`psql`\n",
    "```\n",
    "CREATE DATABASE tweets;\n",
    "quit;\n",
    "```\n",
    "`logout`\n",
    "\n",
    "#### Step 3: Import the database \n",
    "`screen -dmS pdt pg_restore -v -d tweets tweets.backup`"
   ]
  },
  {
   "cell_type": "markdown",
   "id": "ab4dcceb",
   "metadata": {},
   "source": [
    "## Task 2 - Sentiment Calculation using VADER"
   ]
  },
  {
   "cell_type": "markdown",
   "id": "f62f786f",
   "metadata": {},
   "source": [
    "#### Step 1: Grant read only access to a new database user\n",
    "`su postgres`\n",
    "\n",
    "`psql -d tweets`\n",
    "\n",
    "```\n",
    "CREATE USER pdt with password '9kRoaGZN5EcgTeDM';\n",
    "GRANT CONNECT ON DATABASE tweets TO pdt;\n",
    "GRANT USAGE ON SCHEMA public TO pdt;\n",
    "GRANT SELECT ON ALL TABLES IN SCHEMA public TO pdt;\n",
    "quit;\n",
    "```\n",
    "\n",
    "`logout`"
   ]
  },
  {
   "cell_type": "markdown",
   "id": "1b407c88",
   "metadata": {},
   "source": [
    "#### Step 2: Install pip\n",
    "`apt install -y python3-pip`"
   ]
  },
  {
   "cell_type": "markdown",
   "id": "4aefce02",
   "metadata": {},
   "source": [
    "#### Step 3: Install postgresql connector (psycopg2) dependencies\n",
    "`apt-get install -y libpq-dev`"
   ]
  },
  {
   "cell_type": "markdown",
   "id": "fd442489",
   "metadata": {},
   "source": [
    "#### Step 4: Install postgresql connector (psycopg2)\n",
    "`pip install psycopg2`"
   ]
  },
  {
   "cell_type": "markdown",
   "id": "fbdca205",
   "metadata": {},
   "source": [
    "#### Step 5: Install nb_black for automatic code reformatting\n",
    "`pip install nb_black`"
   ]
  },
  {
   "cell_type": "markdown",
   "id": "250bf26e",
   "metadata": {},
   "source": [
    "#### Step 6: Setup dependencies & application settings"
   ]
  },
  {
   "cell_type": "code",
   "execution_count": 1,
   "id": "e8ac3588",
   "metadata": {},
   "outputs": [],
   "source": [
    "# Uncomment the following line to automatically reformat python code\n",
    "# %load_ext lab_black"
   ]
  },
  {
   "cell_type": "code",
   "execution_count": 2,
   "id": "22d06d3a",
   "metadata": {},
   "outputs": [],
   "source": [
    "# Application Settings\n",
    "THREADS = 8\n",
    "\n",
    "DB_HOST = \"localhost\"\n",
    "DB_DATABASE = \"tweets\"\n",
    "DB_USER = \"pdt\"\n",
    "DB_PASSWORD = \"9kRoaGZN5EcgTeDM\""
   ]
  },
  {
   "cell_type": "code",
   "execution_count": 3,
   "id": "a5fe2d56",
   "metadata": {},
   "outputs": [
    {
     "name": "stderr",
     "output_type": "stream",
     "text": [
      "[nltk_data] Downloading package vader_lexicon to /root/nltk_data...\n",
      "[nltk_data]   Package vader_lexicon is already up-to-date!\n"
     ]
    }
   ],
   "source": [
    "# Setup Vader Sentiment Intensity Analyzer\n",
    "import nltk\n",
    "\n",
    "nltk.download(\"vader_lexicon\")\n",
    "\n",
    "from nltk.sentiment.vader import SentimentIntensityAnalyzer"
   ]
  },
  {
   "cell_type": "code",
   "execution_count": 4,
   "id": "07acb1d1",
   "metadata": {},
   "outputs": [],
   "source": [
    "# Postgresql connector\n",
    "from psycopg2 import connect\n",
    "\n",
    "# Thread management\n",
    "from threading import Lock, get_ident\n",
    "from multiprocessing.pool import Pool\n",
    "\n",
    "# Error reporting\n",
    "import traceback"
   ]
  },
  {
   "cell_type": "code",
   "execution_count": 5,
   "id": "245e235c",
   "metadata": {},
   "outputs": [],
   "source": [
    "# 2D array pretty printer utility\n",
    "def print_2d(data):\n",
    "    # Ignore empty data\n",
    "    if len(data) == 0:\n",
    "        return\n",
    "\n",
    "    # Do not pretty print if first row is too long\n",
    "    if sum(len(str(s)) for s in data[0]) > 70:\n",
    "        for r in data:\n",
    "            print(r, end=\"\\n\\n\")\n",
    "        return\n",
    "\n",
    "    # Calculate string length for all elements\n",
    "    data_len = []\n",
    "    for row in data:\n",
    "        data_len.append(list([len(str(i)) for i in row]))\n",
    "\n",
    "    # Calculate max length of each column\n",
    "    col_len = []\n",
    "    for col in range(len(data_len[0])):\n",
    "        l = []\n",
    "        for row in data_len:\n",
    "            l.append(row[col])\n",
    "        col_len.append(max(l))\n",
    "\n",
    "    # Generate row separator & use it for the first line\n",
    "    sep = \"\\n+\"\n",
    "    for cl in col_len:\n",
    "        sep += \"-\" * (cl + 2) + \"+\"\n",
    "    sep += \"\\n\"\n",
    "    output = sep\n",
    "\n",
    "    for row in data:\n",
    "        # Generate line with the row's contents\n",
    "        i = 0\n",
    "        for column in row:\n",
    "            output += \"|\" + \" {:^{width}s} \".format(str(column), width=col_len[i])\n",
    "            i += 1\n",
    "\n",
    "        # Append column closer character & row separator\n",
    "        output += \"|\" + sep\n",
    "\n",
    "    # Print the generated output\n",
    "    print(output)\n",
    "\n",
    "\n",
    "# Error printer\n",
    "def print_err(e):\n",
    "    print(e.__cause__)"
   ]
  },
  {
   "cell_type": "markdown",
   "id": "a700ceac",
   "metadata": {},
   "source": [
    "#### Step 7: Create database connection utility class"
   ]
  },
  {
   "cell_type": "code",
   "execution_count": 6,
   "id": "1ebb23d6",
   "metadata": {},
   "outputs": [
    {
     "name": "stdout",
     "output_type": "stream",
     "text": [
      "Connected to database\n"
     ]
    }
   ],
   "source": [
    "# Connect to database using a pool of 8 connections\n",
    "def db():\n",
    "    con = connect(\n",
    "        host=DB_HOST, database=DB_DATABASE, user=DB_USER, password=DB_PASSWORD\n",
    "    )\n",
    "    con.autocommit = True\n",
    "    return con.cursor()\n",
    "\n",
    "\n",
    "cur = db()\n",
    "print(\"Connected to database\")"
   ]
  },
  {
   "cell_type": "markdown",
   "id": "ec90d9e5",
   "metadata": {},
   "source": [
    "#### Step 8: Describe available tables"
   ]
  },
  {
   "cell_type": "code",
   "execution_count": 7,
   "id": "752de0ea",
   "metadata": {},
   "outputs": [
    {
     "name": "stdout",
     "output_type": "stream",
     "text": [
      "Available tables: ['accounts', 'countries', 'hashtags', 'spatial_ref_sys', 'tweet_hashtags', 'tweet_mentions', 'tweets']\n"
     ]
    }
   ],
   "source": [
    "# List available tables\n",
    "def list_tables(schema):\n",
    "    cur.execute(\"select tablename from pg_tables where schemaname='\" + schema + \"'\")\n",
    "    tables = (\n",
    "        [a[0] for a in cur.fetchall()]\n",
    "        if schema == \"public\"\n",
    "        else [schema + \".\" + a[0] for a in cur.fetchall()]\n",
    "    )\n",
    "    tables.sort()\n",
    "    print(\"Available tables:\", tables)\n",
    "    return tables\n",
    "\n",
    "\n",
    "tables = list_tables(\"public\")"
   ]
  },
  {
   "cell_type": "code",
   "execution_count": 8,
   "id": "a2aa3c7e",
   "metadata": {
    "scrolled": true
   },
   "outputs": [
    {
     "name": "stdout",
     "output_type": "stream",
     "text": [
      "Table accounts:\n",
      "\n",
      "+-----------------+-------------------+--------------+--------------------------------------+----------+\n",
      "|   Column Name   |     Data Type     | Max Char Len |            Default Value             | Nullable |\n",
      "+-----------------+-------------------+--------------+--------------------------------------+----------+\n",
      "|       id        |      bigint       |     None     | nextval('accounts_id_seq'::regclass) |    NO    |\n",
      "+-----------------+-------------------+--------------+--------------------------------------+----------+\n",
      "|   screen_name   | character varying |     200      |                 None                 |   YES    |\n",
      "+-----------------+-------------------+--------------+--------------------------------------+----------+\n",
      "|      name       | character varying |     200      |                 None                 |   YES    |\n",
      "+-----------------+-------------------+--------------+--------------------------------------+----------+\n",
      "|   description   |       text        |     None     |                 None                 |   YES    |\n",
      "+-----------------+-------------------+--------------+--------------------------------------+----------+\n",
      "| followers_count |      integer      |     None     |                 None                 |   YES    |\n",
      "+-----------------+-------------------+--------------+--------------------------------------+----------+\n",
      "|  friends_count  |      integer      |     None     |                 None                 |   YES    |\n",
      "+-----------------+-------------------+--------------+--------------------------------------+----------+\n",
      "| statuses_count  |      integer      |     None     |                 None                 |   YES    |\n",
      "+-----------------+-------------------+--------------+--------------------------------------+----------+\n",
      "\n",
      "\n",
      "Table countries:\n",
      "\n",
      "+-------------+-------------------+--------------+---------------------------------------+----------+\n",
      "| Column Name |     Data Type     | Max Char Len |             Default Value             | Nullable |\n",
      "+-------------+-------------------+--------------+---------------------------------------+----------+\n",
      "|     id      |      integer      |     None     | nextval('countries_id_seq'::regclass) |    NO    |\n",
      "+-------------+-------------------+--------------+---------------------------------------+----------+\n",
      "|    code     | character varying |      2       |                 None                  |   YES    |\n",
      "+-------------+-------------------+--------------+---------------------------------------+----------+\n",
      "|    name     | character varying |     200      |                 None                  |   YES    |\n",
      "+-------------+-------------------+--------------+---------------------------------------+----------+\n",
      "\n",
      "\n",
      "Table hashtags:\n",
      "\n",
      "+-------------+-----------+--------------+--------------------------------------+----------+\n",
      "| Column Name | Data Type | Max Char Len |            Default Value             | Nullable |\n",
      "+-------------+-----------+--------------+--------------------------------------+----------+\n",
      "|     id      |  integer  |     None     | nextval('hashtags_id_seq'::regclass) |    NO    |\n",
      "+-------------+-----------+--------------+--------------------------------------+----------+\n",
      "|    value    |   text    |     None     |                 None                 |    NO    |\n",
      "+-------------+-----------+--------------+--------------------------------------+----------+\n",
      "\n",
      "\n",
      "Table spatial_ref_sys:\n",
      "\n",
      "+-------------+-------------------+--------------+---------------+----------+\n",
      "| Column Name |     Data Type     | Max Char Len | Default Value | Nullable |\n",
      "+-------------+-------------------+--------------+---------------+----------+\n",
      "|    srid     |      integer      |     None     |     None      |    NO    |\n",
      "+-------------+-------------------+--------------+---------------+----------+\n",
      "|  auth_name  | character varying |     256      |     None      |   YES    |\n",
      "+-------------+-------------------+--------------+---------------+----------+\n",
      "|  auth_srid  |      integer      |     None     |     None      |   YES    |\n",
      "+-------------+-------------------+--------------+---------------+----------+\n",
      "|   srtext    | character varying |     2048     |     None      |   YES    |\n",
      "+-------------+-------------------+--------------+---------------+----------+\n",
      "|  proj4text  | character varying |     2048     |     None      |   YES    |\n",
      "+-------------+-------------------+--------------+---------------+----------+\n",
      "\n",
      "\n",
      "Table tweet_hashtags:\n",
      "\n",
      "+-------------+-------------------+--------------+--------------------------------------------+----------+\n",
      "| Column Name |     Data Type     | Max Char Len |               Default Value                | Nullable |\n",
      "+-------------+-------------------+--------------+--------------------------------------------+----------+\n",
      "|     id      |      integer      |     None     | nextval('tweet_hashtags_id_seq'::regclass) |    NO    |\n",
      "+-------------+-------------------+--------------+--------------------------------------------+----------+\n",
      "| hashtag_id  |      integer      |     None     |                    None                    |    NO    |\n",
      "+-------------+-------------------+--------------+--------------------------------------------+----------+\n",
      "|  tweet_id   | character varying |      20      |                    None                    |    NO    |\n",
      "+-------------+-------------------+--------------+--------------------------------------------+----------+\n",
      "\n",
      "\n",
      "Table tweet_mentions:\n",
      "\n",
      "+-------------+-------------------+--------------+--------------------------------------------+----------+\n",
      "| Column Name |     Data Type     | Max Char Len |               Default Value                | Nullable |\n",
      "+-------------+-------------------+--------------+--------------------------------------------+----------+\n",
      "|     id      |      integer      |     None     | nextval('tweet_mentions_id_seq'::regclass) |    NO    |\n",
      "+-------------+-------------------+--------------+--------------------------------------------+----------+\n",
      "| account_id  |      bigint       |     None     |                    None                    |    NO    |\n",
      "+-------------+-------------------+--------------+--------------------------------------------+----------+\n",
      "|  tweet_id   | character varying |      20      |                    None                    |    NO    |\n",
      "+-------------+-------------------+--------------+--------------------------------------------+----------+\n",
      "\n",
      "\n",
      "Table tweets:\n",
      "\n",
      "+----------------+--------------------------+--------------+---------------+----------+\n",
      "|  Column Name   |        Data Type         | Max Char Len | Default Value | Nullable |\n",
      "+----------------+--------------------------+--------------+---------------+----------+\n",
      "|       id       |    character varying     |      20      |     None      |    NO    |\n",
      "+----------------+--------------------------+--------------+---------------+----------+\n",
      "|    content     |           text           |     None     |     None      |   YES    |\n",
      "+----------------+--------------------------+--------------+---------------+----------+\n",
      "|    location    |       USER-DEFINED       |     None     |     None      |   YES    |\n",
      "+----------------+--------------------------+--------------+---------------+----------+\n",
      "| retweet_count  |         integer          |     None     |     None      |   YES    |\n",
      "+----------------+--------------------------+--------------+---------------+----------+\n",
      "| favorite_count |         integer          |     None     |     None      |   YES    |\n",
      "+----------------+--------------------------+--------------+---------------+----------+\n",
      "|  happened_at   | timestamp with time zone |     None     |     None      |   YES    |\n",
      "+----------------+--------------------------+--------------+---------------+----------+\n",
      "|   author_id    |          bigint          |     None     |     None      |   YES    |\n",
      "+----------------+--------------------------+--------------+---------------+----------+\n",
      "|   country_id   |         integer          |     None     |     None      |   YES    |\n",
      "+----------------+--------------------------+--------------+---------------+----------+\n",
      "|   parent_id    |    character varying     |      20      |     None      |   YES    |\n",
      "+----------------+--------------------------+--------------+---------------+----------+\n",
      "\n",
      "\n"
     ]
    }
   ],
   "source": [
    "# Describe tables\n",
    "def describe_tables(tables):\n",
    "    desc_row = [\n",
    "        [\"Column Name\", \"Data Type\", \"Max Char Len\", \"Default Value\", \"Nullable\"]\n",
    "    ]\n",
    "    for t in tables:\n",
    "        print(\"Table \" + t + \":\")\n",
    "        d = t.split(\".\")\n",
    "        schema = \"public\" if len(d) == 1 else d[0]\n",
    "        cur.execute(\n",
    "            \"select column_name, data_type, character_maximum_length, column_default, is_nullable \"\n",
    "            + \"from INFORMATION_SCHEMA.COLUMNS where table_name = '\"\n",
    "            + d[-1]\n",
    "            + \"' and table_schema = '\"\n",
    "            + schema\n",
    "            + \"'\"\n",
    "        )\n",
    "        print_2d(desc_row + cur.fetchall())\n",
    "        print(\"\")\n",
    "\n",
    "\n",
    "describe_tables(tables)"
   ]
  },
  {
   "cell_type": "code",
   "execution_count": 9,
   "id": "5c21fea3",
   "metadata": {
    "scrolled": true
   },
   "outputs": [
    {
     "name": "stdout",
     "output_type": "stream",
     "text": [
      "Table accounts:\n",
      "(280887543, 'carol_cabural', 'Caroline Cabural ♔', \"Always look at things from the other person's perspective.\\n-Dale Carnegie \\nGarde Manger Chef| Hospitality Industry | Filipino\", 657, 1482, 4650)\n",
      "\n",
      "(519245371, 'strong_sue', 'Sue Strong 🇺🇸🇦🇺🇨🇦🇳🇿🇬🇧 #BidenHarris2020', '#HearHim, #ChurchOfJesusChrist, #StandUpRepublic, #TeamPatriot, #CountryOverParty, #ETTD, #Cats, #MS, TSB, GTT, #PAM, #PAMFAM #TeamJoe', 1469, 2636, 53614)\n",
      "\n",
      "(761224507, 'Chn_analysis', 'Paul Harding', '', 150, 357, 4993)\n",
      "\n",
      "(905154964829462528, 'thespybrief', 'The Spy Brief', None, None, None, None)\n",
      "\n",
      "(707774148072882176, 'hiemakene', 'GoneFishing', None, None, None, None)\n",
      "\n",
      "(1133475349285691393, 'KtyWise', 'Kty Wise', '', 161, 241, 21786)\n",
      "\n",
      "(532977876, 'Adrienne711', 'NeverGiveUp ⭐⭐⭐ 🐸', 'Trump2020 WWG1WGA  1A 2A AMERICA FIRST -  I ♥ God Country  & our President Donald J Trump   UnitedNotDivided WWG1WGA\\nShadilay!', 7335, 7033, 132331)\n",
      "\n",
      "(949056207448432640, 'MBJ8388', \"MBJ👩\\u200d💻NoFilters💥Q'Nited✨\", None, None, None, None)\n",
      "\n",
      "(479031878, 'FederalistNo78', 'Nova', None, None, None, None)\n",
      "\n",
      "(939182810417520640, 'Agortitz', 'Grumpy 😆 says Fauxciland is as cool as Disneyland', None, None, None, None)\n",
      "\n",
      "\n",
      "Table countries:\n",
      "\n",
      "+--------+----+------------------+\n",
      "|  3477  | VU |     Vanuatu      |\n",
      "+--------+----+------------------+\n",
      "| 229941 | JE |      Jersey      |\n",
      "+--------+----+------------------+\n",
      "|  460   | EE |     Estonia      |\n",
      "+--------+----+------------------+\n",
      "| 21055  | AI |     Anguilla     |\n",
      "+--------+----+------------------+\n",
      "| 106359 | CX | Christmas Island |\n",
      "+--------+----+------------------+\n",
      "| 41381  | HU |     Hungary      |\n",
      "+--------+----+------------------+\n",
      "| 11486  | CI |   Ivory Coast    |\n",
      "+--------+----+------------------+\n",
      "|  365   | FJ |       Fiji       |\n",
      "+--------+----+------------------+\n",
      "| 60661  | VA |   Vatican City   |\n",
      "+--------+----+------------------+\n",
      "| 196641 | TG |       Togo       |\n",
      "+--------+----+------------------+\n",
      "\n",
      "\n",
      "Table hashtags:\n",
      "\n",
      "+----------+----------------+\n",
      "|  741143  |     Grammy     |\n",
      "+----------+----------------+\n",
      "| 15013698 |     AIRBUS     |\n",
      "+----------+----------------+\n",
      "| 14991429 |    My2Cents    |\n",
      "+----------+----------------+\n",
      "| 14995743 | CarolinaFamily |\n",
      "+----------+----------------+\n",
      "| 14982535 | onbegrijpelijk |\n",
      "+----------+----------------+\n",
      "| 15002445 |  onlineharms   |\n",
      "+----------+----------------+\n",
      "| 14980895 |  TravelWithUs  |\n",
      "+----------+----------------+\n",
      "| 15017121 | Tuesdaymorning |\n",
      "+----------+----------------+\n",
      "| 15012771 |      uaeu      |\n",
      "+----------+----------------+\n",
      "| 14982628 | EastMeetsWest  |\n",
      "+----------+----------------+\n",
      "\n",
      "\n",
      "Table spatial_ref_sys:\n",
      "(3819, 'EPSG', 3819, 'GEOGCS[\"HD1909\",DATUM[\"Hungarian_Datum_1909\",SPHEROID[\"Bessel 1841\",6377397.155,299.1528128,AUTHORITY[\"EPSG\",\"7004\"]],TOWGS84[595.48,121.69,515.35,4.115,-2.9383,0.853,-3.408],AUTHORITY[\"EPSG\",\"1024\"]],PRIMEM[\"Greenwich\",0,AUTHORITY[\"EPSG\",\"8901\"]],UNIT[\"degree\",0.0174532925199433,AUTHORITY[\"EPSG\",\"9122\"]],AUTHORITY[\"EPSG\",\"3819\"]]', '+proj=longlat +ellps=bessel +towgs84=595.48,121.69,515.35,4.115,-2.9383,0.853,-3.408 +no_defs ')\n",
      "\n",
      "(3821, 'EPSG', 3821, 'GEOGCS[\"TWD67\",DATUM[\"Taiwan_Datum_1967\",SPHEROID[\"GRS 1967 Modified\",6378160,298.25,AUTHORITY[\"EPSG\",\"7050\"]],AUTHORITY[\"EPSG\",\"1025\"]],PRIMEM[\"Greenwich\",0,AUTHORITY[\"EPSG\",\"8901\"]],UNIT[\"degree\",0.0174532925199433,AUTHORITY[\"EPSG\",\"9122\"]],AUTHORITY[\"EPSG\",\"3821\"]]', '+proj=longlat +ellps=aust_SA +no_defs ')\n",
      "\n",
      "(3824, 'EPSG', 3824, 'GEOGCS[\"TWD97\",DATUM[\"Taiwan_Datum_1997\",SPHEROID[\"GRS 1980\",6378137,298.257222101,AUTHORITY[\"EPSG\",\"7019\"]],TOWGS84[0,0,0,0,0,0,0],AUTHORITY[\"EPSG\",\"1026\"]],PRIMEM[\"Greenwich\",0,AUTHORITY[\"EPSG\",\"8901\"]],UNIT[\"degree\",0.0174532925199433,AUTHORITY[\"EPSG\",\"9122\"]],AUTHORITY[\"EPSG\",\"3824\"]]', '+proj=longlat +ellps=GRS80 +towgs84=0,0,0,0,0,0,0 +no_defs ')\n",
      "\n",
      "(3889, 'EPSG', 3889, 'GEOGCS[\"IGRS\",DATUM[\"Iraqi_Geospatial_Reference_System\",SPHEROID[\"GRS 1980\",6378137,298.257222101,AUTHORITY[\"EPSG\",\"7019\"]],TOWGS84[0,0,0,0,0,0,0],AUTHORITY[\"EPSG\",\"1029\"]],PRIMEM[\"Greenwich\",0,AUTHORITY[\"EPSG\",\"8901\"]],UNIT[\"degree\",0.0174532925199433,AUTHORITY[\"EPSG\",\"9122\"]],AUTHORITY[\"EPSG\",\"3889\"]]', '+proj=longlat +ellps=GRS80 +towgs84=0,0,0,0,0,0,0 +no_defs ')\n",
      "\n",
      "(3906, 'EPSG', 3906, 'GEOGCS[\"MGI 1901\",DATUM[\"MGI_1901\",SPHEROID[\"Bessel 1841\",6377397.155,299.1528128,AUTHORITY[\"EPSG\",\"7004\"]],TOWGS84[682,-203,480,0,0,0,0],AUTHORITY[\"EPSG\",\"1031\"]],PRIMEM[\"Greenwich\",0,AUTHORITY[\"EPSG\",\"8901\"]],UNIT[\"degree\",0.0174532925199433,AUTHORITY[\"EPSG\",\"9122\"]],AUTHORITY[\"EPSG\",\"3906\"]]', '+proj=longlat +ellps=bessel +towgs84=682,-203,480,0,0,0,0 +no_defs ')\n",
      "\n",
      "(4001, 'EPSG', 4001, 'GEOGCS[\"Unknown datum based upon the Airy 1830 ellipsoid\",DATUM[\"Not_specified_based_on_Airy_1830_ellipsoid\",SPHEROID[\"Airy 1830\",6377563.396,299.3249646,AUTHORITY[\"EPSG\",\"7001\"]],AUTHORITY[\"EPSG\",\"6001\"]],PRIMEM[\"Greenwich\",0,AUTHORITY[\"EPSG\",\"8901\"]],UNIT[\"degree\",0.0174532925199433,AUTHORITY[\"EPSG\",\"9122\"]],AUTHORITY[\"EPSG\",\"4001\"]]', '+proj=longlat +ellps=airy +no_defs ')\n",
      "\n",
      "(4002, 'EPSG', 4002, 'GEOGCS[\"Unknown datum based upon the Airy Modified 1849 ellipsoid\",DATUM[\"Not_specified_based_on_Airy_Modified_1849_ellipsoid\",SPHEROID[\"Airy Modified 1849\",6377340.189,299.3249646,AUTHORITY[\"EPSG\",\"7002\"]],AUTHORITY[\"EPSG\",\"6002\"]],PRIMEM[\"Greenwich\",0,AUTHORITY[\"EPSG\",\"8901\"]],UNIT[\"degree\",0.0174532925199433,AUTHORITY[\"EPSG\",\"9122\"]],AUTHORITY[\"EPSG\",\"4002\"]]', '+proj=longlat +ellps=mod_airy +no_defs ')\n",
      "\n",
      "(4003, 'EPSG', 4003, 'GEOGCS[\"Unknown datum based upon the Australian National Spheroid\",DATUM[\"Not_specified_based_on_Australian_National_Spheroid\",SPHEROID[\"Australian National Spheroid\",6378160,298.25,AUTHORITY[\"EPSG\",\"7003\"]],AUTHORITY[\"EPSG\",\"6003\"]],PRIMEM[\"Greenwich\",0,AUTHORITY[\"EPSG\",\"8901\"]],UNIT[\"degree\",0.0174532925199433,AUTHORITY[\"EPSG\",\"9122\"]],AUTHORITY[\"EPSG\",\"4003\"]]', '+proj=longlat +ellps=aust_SA +no_defs ')\n",
      "\n",
      "(4004, 'EPSG', 4004, 'GEOGCS[\"Unknown datum based upon the Bessel 1841 ellipsoid\",DATUM[\"Not_specified_based_on_Bessel_1841_ellipsoid\",SPHEROID[\"Bessel 1841\",6377397.155,299.1528128,AUTHORITY[\"EPSG\",\"7004\"]],AUTHORITY[\"EPSG\",\"6004\"]],PRIMEM[\"Greenwich\",0,AUTHORITY[\"EPSG\",\"8901\"]],UNIT[\"degree\",0.0174532925199433,AUTHORITY[\"EPSG\",\"9122\"]],AUTHORITY[\"EPSG\",\"4004\"]]', '+proj=longlat +ellps=bessel +no_defs ')\n",
      "\n",
      "(4005, 'EPSG', 4005, 'GEOGCS[\"Unknown datum based upon the Bessel Modified ellipsoid\",DATUM[\"Not_specified_based_on_Bessel_Modified_ellipsoid\",SPHEROID[\"Bessel Modified\",6377492.018,299.1528128,AUTHORITY[\"EPSG\",\"7005\"]],AUTHORITY[\"EPSG\",\"6005\"]],PRIMEM[\"Greenwich\",0,AUTHORITY[\"EPSG\",\"8901\"]],UNIT[\"degree\",0.0174532925199433,AUTHORITY[\"EPSG\",\"9122\"]],AUTHORITY[\"EPSG\",\"4005\"]]', '+proj=longlat +a=6377492.018 +b=6356173.508712696 +no_defs ')\n",
      "\n",
      "\n",
      "Table tweet_hashtags:\n",
      "\n",
      "+----+---+---------------------+\n",
      "| 1  | 1 | 1220777199734792192 |\n",
      "+----+---+---------------------+\n",
      "| 2  | 2 | 1220777199734792192 |\n",
      "+----+---+---------------------+\n",
      "| 3  | 3 | 1220777199734792192 |\n",
      "+----+---+---------------------+\n",
      "| 4  | 4 | 1220777199734792192 |\n",
      "+----+---+---------------------+\n",
      "| 5  | 5 | 1220777199734792192 |\n",
      "+----+---+---------------------+\n",
      "| 6  | 6 | 1220777199734792192 |\n",
      "+----+---+---------------------+\n",
      "| 7  | 7 | 1220777199734792192 |\n",
      "+----+---+---------------------+\n",
      "| 8  | 8 | 1220777199734792192 |\n",
      "+----+---+---------------------+\n",
      "| 9  | 9 | 1220777199734792192 |\n",
      "+----+---+---------------------+\n",
      "| 10 | 5 | 1220729469461127168 |\n",
      "+----+---+---------------------+\n",
      "\n",
      "\n",
      "Table tweet_mentions:\n",
      "\n",
      "+----+---------------------+---------------------+\n",
      "| 1  | 905154964829462528  | 1220786987143192578 |\n",
      "+----+---------------------+---------------------+\n",
      "| 2  | 707774148072882176  | 1220786987143192578 |\n",
      "+----+---------------------+---------------------+\n",
      "| 3  |      761224507      | 1220798255098777601 |\n",
      "+----+---------------------+---------------------+\n",
      "| 4  | 905154964829462528  | 1220798255098777601 |\n",
      "+----+---------------------+---------------------+\n",
      "| 5  | 707774148072882176  | 1220798255098777601 |\n",
      "+----+---------------------+---------------------+\n",
      "| 6  | 949056207448432640  | 1220796312565796865 |\n",
      "+----+---------------------+---------------------+\n",
      "| 7  |      479031878      | 1220796312565796865 |\n",
      "+----+---------------------+---------------------+\n",
      "| 8  | 939182810417520640  | 1220796312565796865 |\n",
      "+----+---------------------+---------------------+\n",
      "| 9  | 938321745882202113  | 1220796312565796865 |\n",
      "+----+---------------------+---------------------+\n",
      "| 10 | 1149479951617253376 | 1220796312565796865 |\n",
      "+----+---------------------+---------------------+\n",
      "\n",
      "\n",
      "Table tweets:\n",
      "('1220798251919536128', 'Virologist Who Helped Fight SARS Says Wuhan Coronavirus Is 10x Worse https://t.co/3KD5dMYrsj', None, 0, 0, datetime.datetime(2020, 1, 24, 19, 59, 19, tzinfo=datetime.timezone.utc), 280887543, None, None)\n",
      "\n",
      "('1220798255098777601', 'RT @Chn_analysis: @thespybrief @hiemakene Daily Mail (yes I know!!) thickens a potential plot https://t.co/TNTF03RXz2', None, 15, 0, datetime.datetime(2020, 1, 24, 19, 59, 20, tzinfo=datetime.timezone.utc), 519245371, None, '1220786987143192578')\n",
      "\n",
      "('1220790544009519104', 'RT @badiucao: Another video showing medics from #wuhan completely burn out &amp; melt down.\\nreally sad and angry to see this happening\\nthey nee…', None, 6784, 0, datetime.datetime(2020, 1, 24, 19, 28, 41, tzinfo=datetime.timezone.utc), 1036627006962720768, None, '1220729514000633858')\n",
      "\n",
      "('1220798255992201217', 'RT @Adrienne711: @MBJ8388 @FederalistNo78 @jaimec729 @AnJillOfLight @Agortitz @Deepstate6969 @MissesJ3 @RockyShorz @1GigiSims @BabeReflex_8…', None, 4, 0, datetime.datetime(2020, 1, 24, 19, 59, 20, tzinfo=datetime.timezone.utc), 1133475349285691393, None, '1220796312565796865')\n",
      "\n",
      "('1220798256608878598', 'RT @Gadi3232: The Chinese government has blocked internet traffic to prevent and hide the dimensions of the spread, this video was sent usi…', None, 438, 0, datetime.datetime(2020, 1, 24, 19, 59, 20, tzinfo=datetime.timezone.utc), 3278713214, None, '1220777199734792192')\n",
      "\n",
      "('1220798259431645185', 'RT @ianbremmer: Scene from #Wuhan right before the lockdown. https://t.co/pkks4u6KrA', None, 113, 0, datetime.datetime(2020, 1, 24, 19, 59, 21, tzinfo=datetime.timezone.utc), 3231948358, None, '1220729469461127168')\n",
      "\n",
      "('1220798259599462400', \"RT @cnni: Impeachment news is dominating Washington this week, but @bianca_nobilo is tracking today's other headlines:\\n\\n- China seeking to…\", None, 41, 0, datetime.datetime(2020, 1, 24, 19, 59, 21, tzinfo=datetime.timezone.utc), 894312170, None, '1220771151481311234')\n",
      "\n",
      "('1220798259893022720', 'RT @nytimes: The latest on the Wuhan coronavirus outbreak: France has become the first country in Europe to report infections. Authorities…', None, 387, 0, datetime.datetime(2020, 1, 24, 19, 59, 21, tzinfo=datetime.timezone.utc), 51081214, None, '1220795757156012032')\n",
      "\n",
      "('1220798261197340672', 'RT @CBCNews: NEW: France confirms two cases of #coronavirus — the first in Europe. https://t.co/Orvg5qlkIR', None, 27, 0, datetime.datetime(2020, 1, 24, 19, 59, 21, tzinfo=datetime.timezone.utc), 2905873432, None, '1220798187902029824')\n",
      "\n",
      "('1220790545431375872', 'RT @ladbible: Extraordinary footage shows the project underway in the outbreak city of Wuhan', None, 31, 0, datetime.datetime(2020, 1, 24, 19, 28, 41, tzinfo=datetime.timezone.utc), 2467965137, None, '1220753999349067776')\n",
      "\n",
      "\n"
     ]
    }
   ],
   "source": [
    "# Show sample data\n",
    "def sample_tables(tables, limit=10):\n",
    "    for t in tables:\n",
    "        print(\"Table \" + t + \":\")\n",
    "        cur.execute(\"SELECT * FROM \" + t + \" LIMIT \" + str(limit))\n",
    "        print_2d(cur.fetchall())\n",
    "        print(\"\")\n",
    "\n",
    "\n",
    "sample_tables(tables)"
   ]
  },
  {
   "cell_type": "markdown",
   "id": "2e390795",
   "metadata": {},
   "source": [
    "#### Step 9: Create hashtag -> conspiracy mapping"
   ]
  },
  {
   "cell_type": "code",
   "execution_count": 10,
   "id": "23cac993",
   "metadata": {
    "scrolled": true
   },
   "outputs": [
    {
     "name": "stdout",
     "output_type": "stream",
     "text": [
      "\n",
      "+----------------------+--------------------------------------+\n",
      "|       Hashtag        |          Conspiracy Theory           |\n",
      "+----------------------+--------------------------------------+\n",
      "|    #5GCoronavirus    |       COVID19 is preaded by 5G       |\n",
      "+----------------------+--------------------------------------+\n",
      "|    #911insidejob     |         9/11 was inside job          |\n",
      "+----------------------+--------------------------------------+\n",
      "|      #911truth       |         9/11 was inside job          |\n",
      "+----------------------+--------------------------------------+\n",
      "|      #Agenda21       |           New world order            |\n",
      "+----------------------+--------------------------------------+\n",
      "|      #CCPVirus       | The virus escaped from a Chinese lab |\n",
      "+----------------------+--------------------------------------+\n",
      "|     #Chemtrails      |              Chemtrails              |\n",
      "+----------------------+--------------------------------------+\n",
      "| #ChinaLiedPeopleDied | The virus escaped from a Chinese lab |\n",
      "+----------------------+--------------------------------------+\n",
      "|  #ClimateChangeHoax  |        Global Warming is HOAX        |\n",
      "+----------------------+--------------------------------------+\n",
      "|   #DeepStateFauci    |              Deep State              |\n",
      "+----------------------+--------------------------------------+\n",
      "|  #DeepStateVaccine   |              Deep State              |\n",
      "+----------------------+--------------------------------------+\n",
      "|   #DeepstateVirus    |              Deep State              |\n",
      "+----------------------+--------------------------------------+\n",
      "|      #flatEarth      |              Flat Earth              |\n",
      "+----------------------+--------------------------------------+\n",
      "|  #GlobalWarmingHoax  |        Global Warming is HOAX        |\n",
      "+----------------------+--------------------------------------+\n",
      "|     #illuminati      |              Illuminati              |\n",
      "+----------------------+--------------------------------------+\n",
      "|        #MAGA         |                Qanon                 |\n",
      "+----------------------+--------------------------------------+\n",
      "|      #moonhoax       |         Moon landing is fake         |\n",
      "+----------------------+--------------------------------------+\n",
      "|   #MoonLandingHoax   |         Moon landing is fake         |\n",
      "+----------------------+--------------------------------------+\n",
      "|   #PedoGateIsReal    |     Pizzagate conspiracy theory      |\n",
      "+----------------------+--------------------------------------+\n",
      "|   #pizzaGateIsReal   |     Pizzagate conspiracy theory      |\n",
      "+----------------------+--------------------------------------+\n",
      "|        #QAnon        |                Qanon                 |\n",
      "+----------------------+--------------------------------------+\n",
      "|     #reptilians      |     Reptilian conspiracy theory      |\n",
      "+----------------------+--------------------------------------+\n",
      "|     #SorosVirus      |      COVID19 and microchipping       |\n",
      "+----------------------+--------------------------------------+\n",
      "|       #WWG1WGA       |                Qanon                 |\n",
      "+----------------------+--------------------------------------+\n",
      "\n"
     ]
    }
   ],
   "source": [
    "# Create list of conspiracy theories\n",
    "conspiracies = (\n",
    "    \"Deep State\",\n",
    "    \"Qanon\",\n",
    "    \"New world order\",\n",
    "    \"The virus escaped from a Chinese lab\",\n",
    "    \"Global Warming is HOAX\",\n",
    "    \"COVID19 and microchipping\",\n",
    "    \"COVID19 is preaded by 5G\",\n",
    "    \"Moon landing is fake\",\n",
    "    \"9/11 was inside job\",\n",
    "    \"Pizzagate conspiracy theory\",\n",
    "    \"Chemtrails\",\n",
    "    \"Flat Earth\",\n",
    "    \"Illuminati\",\n",
    "    \"Reptilian conspiracy theory\",\n",
    ")\n",
    "\n",
    "# Map hashtags to the list of conspiracy theories\n",
    "hashtag_conmap = {\n",
    "    \"#DeepstateVirus\": 0,\n",
    "    \"#DeepStateVaccine\": 0,\n",
    "    \"#DeepStateFauci\": 0,\n",
    "    \"#QAnon\": 1,\n",
    "    \"#MAGA\": 1,\n",
    "    \"#WWG1WGA\": 1,\n",
    "    \"#Agenda21\": 2,\n",
    "    \"#ChinaLiedPeopleDied\": 3,\n",
    "    \"#CCPVirus\": 3,\n",
    "    \"#ClimateChangeHoax\": 4,\n",
    "    \"#GlobalWarmingHoax\": 4,\n",
    "    \"#SorosVirus\": 5,  # '#BillGAtes':5\n",
    "    \"#5GCoronavirus\": 6,\n",
    "    \"#MoonLandingHoax\": 7,\n",
    "    \"#moonhoax\": 7,\n",
    "    \"#911truth\": 8,\n",
    "    \"#911insidejob\": 8,\n",
    "    \"#pizzaGateIsReal\": 9,\n",
    "    \"#PedoGateIsReal\": 9,\n",
    "    \"#Chemtrails\": 10,\n",
    "    \"#flatEarth\": 11,\n",
    "    \"#illuminati\": 12,\n",
    "    \"#reptilians\": 13,\n",
    "}\n",
    "\n",
    "# Print the generated mappings in alphabetical order\n",
    "hashtags = list(hashtag_conmap.keys())\n",
    "hashtags.sort(key=lambda e: e.upper())\n",
    "rows = [[\"Hashtag\", \"Conspiracy Theory\"]]\n",
    "for t in hashtags:\n",
    "    rows.append([t, conspiracies[hashtag_conmap[t]]])\n",
    "print_2d(rows)"
   ]
  },
  {
   "cell_type": "markdown",
   "id": "c404ecd6",
   "metadata": {},
   "source": [
    "#### Step 10: Fetch hashtag -> hashtag-ids mapping"
   ]
  },
  {
   "cell_type": "code",
   "execution_count": 11,
   "id": "463f0de9",
   "metadata": {},
   "outputs": [
    {
     "name": "stdout",
     "output_type": "stream",
     "text": [
      "#5GCoronavirus -> [19005036, 35538816, 15552438, 34619065]\n",
      "#911insidejob -> [16074404]\n",
      "#911truth -> [7014593, 2525313]\n",
      "#Agenda21 -> [66445, 111971, 363281]\n",
      "#CCPVirus -> [18509464, 3073063, 10905016, 1137275, 29467281, 31317877, 34584873, 34691278, 1379885]\n",
      "#Chemtrails -> [15171991, 149294, 33792, 905802]\n",
      "#ChinaLiedPeopleDied -> [16685336, 23714496, 23538315, 25456041, 5112446, 26615200, 27219903, 36886795]\n",
      "#ClimateChangeHoax -> [14157066, 159068, 10090147]\n",
      "#DeepStateFauci -> [15870712, 16542067]\n",
      "#DeepStateVaccine -> [17407797]\n",
      "#DeepstateVirus -> [18007452, 7074589]\n",
      "#flatEarth -> [18277418, 20256863, 4209470, 7529160, 3436024]\n",
      "#GlobalWarmingHoax -> [3486140, 4673374]\n",
      "#illuminati -> [16238392, 875154, 3178025, 967857]\n",
      "#MAGA -> [15894243, 17899079, 19261059, 19469799, 19898566, 88504, 24818, 14415]\n",
      "#moonhoax -> [18587371]\n",
      "#MoonLandingHoax -> [19604351]\n",
      "#PedoGateIsReal -> [15550095, 15659618, 2741960, 15268807, 7832331, 6005507]\n",
      "#pizzaGateIsReal -> [15188058, 15673159, 17812154, 18874438, 15806121, 5310529, 17229118, 15169536, 20011091]\n",
      "#QAnon -> [15168832, 15170088, 15189267, 15274024, 15856421, 15752301, 16070849, 16204212, 16342002, 18149870, 18671401, 21370247, 20298034, 15690756, 15177935, 16799781, 21259243, 22837040, 18387797, 27195, 25091, 22849188, 20506, 77112]\n",
      "#reptilians -> [15470410, 15513442]\n",
      "#SorosVirus -> [3907585, 10854437]\n",
      "#WWG1WGA -> [15171808, 15172783, 15899791, 16000470, 16234227, 16300935, 16334262, 16360449, 16945850, 17556855, 17760215, 18102172, 18473607, 18753284, 19290170, 20378669, 22393264, 15171635, 1412467, 931991, 16261725, 16579619, 16642505, 16087358, 511508, 22699148, 25089]\n"
     ]
    }
   ],
   "source": [
    "hashtag_idmap = {}\n",
    "\n",
    "\n",
    "def fetch_hashtag_ids(hashtag):\n",
    "    # Since the dataset does not respect our case conventions, we are doing a case insensitive search\n",
    "    # We are also looking for hashtags with & without the # prefix\n",
    "    cur.execute(\n",
    "        \"SELECT id FROM hashtags WHERE LOWER(value) = '\"\n",
    "        + hashtag[1:].lower()\n",
    "        + \"' \"\n",
    "        + \"OR LOWER(value) = '\"\n",
    "        + hashtag[1:].lower()\n",
    "        + \"'\"\n",
    "    )\n",
    "    rows = cur.fetchall()\n",
    "\n",
    "    # Save the results to a list of ids, map the list to the given hashtag\n",
    "    ids = list(map(lambda r: r[0], rows))\n",
    "    hashtag_idmap[hashtag] = ids\n",
    "    print(t, \"->\", ids)\n",
    "\n",
    "\n",
    "for t in hashtags:\n",
    "    fetch_hashtag_ids(t)"
   ]
  },
  {
   "cell_type": "markdown",
   "id": "ad7e450c",
   "metadata": {},
   "source": [
    "#### Step 11: Fetch hashtag -> tweet-id mapping"
   ]
  },
  {
   "cell_type": "code",
   "execution_count": 12,
   "id": "71d78c2e",
   "metadata": {},
   "outputs": [
    {
     "name": "stdout",
     "output_type": "stream",
     "text": [
      "#5GCoronavirus -> mapped 407 tweets\n",
      "#911insidejob -> mapped 4 tweets\n",
      "#911truth -> mapped 139 tweets\n",
      "#Agenda21 -> mapped 2297 tweets\n",
      "#CCPVirus -> mapped 5024 tweets\n",
      "#Chemtrails -> mapped 1044 tweets\n",
      "#ChinaLiedPeopleDied -> mapped 3261 tweets\n",
      "#ClimateChangeHoax -> mapped 53 tweets\n",
      "#DeepStateFauci -> mapped 183 tweets\n",
      "#DeepStateVaccine -> mapped 14 tweets\n",
      "#DeepstateVirus -> mapped 518 tweets\n",
      "#flatEarth -> mapped 340 tweets\n",
      "#GlobalWarmingHoax -> mapped 5 tweets\n",
      "#illuminati -> mapped 2172 tweets\n",
      "#MAGA -> mapped 207933 tweets\n",
      "#moonhoax -> mapped 11 tweets\n",
      "#MoonLandingHoax -> mapped 6 tweets\n",
      "#PedoGateIsReal -> mapped 342 tweets\n",
      "#pizzaGateIsReal -> mapped 3253 tweets\n",
      "#QAnon -> mapped 2126183 tweets\n",
      "#reptilians -> mapped 64 tweets\n",
      "#SorosVirus -> mapped 7 tweets\n",
      "#WWG1WGA -> mapped 697307 tweets\n"
     ]
    }
   ],
   "source": [
    "hashtag_twmap = {}\n",
    "for t in hashtags:\n",
    "    twids = set()\n",
    "    for hid in hashtag_idmap[t]:\n",
    "        cur.execute(\n",
    "            \"SELECT tweet_id FROM tweet_hashtags WHERE hashtag_id = \" + str(hid)\n",
    "        )\n",
    "        rows = cur.fetchall()\n",
    "        for r in rows:\n",
    "            twids.add(r[0])\n",
    "    hashtag_twmap[t] = twids\n",
    "    print(t, \"-> mapped\", len(twids), \"tweets\")"
   ]
  },
  {
   "cell_type": "markdown",
   "id": "c17c3952",
   "metadata": {},
   "source": [
    "#### Step 12: Create the list of analysable tweets"
   ]
  },
  {
   "cell_type": "code",
   "execution_count": 13,
   "id": "e7771f1e",
   "metadata": {},
   "outputs": [
    {
     "name": "stdout",
     "output_type": "stream",
     "text": [
      "Found 2144772 analysable tweets\n"
     ]
    }
   ],
   "source": [
    "tweet_ids = set()\n",
    "for t in hashtags:\n",
    "    tweet_ids.update(list(hashtag_twmap[t]))\n",
    "tweet_ids = list(tweet_ids)\n",
    "tweet_count = len(tweet_ids)\n",
    "print(\"Found\", tweet_count, \"analysable tweets\")"
   ]
  },
  {
   "cell_type": "markdown",
   "id": "1fa9ede4",
   "metadata": {},
   "source": [
    "#### Step 13: Fetch tweets (multi-threaded)"
   ]
  },
  {
   "cell_type": "code",
   "execution_count": 14,
   "id": "123ac580",
   "metadata": {},
   "outputs": [
    {
     "name": "stdout",
     "output_type": "stream",
     "text": [
      "Fetching tweets, please wait...\n",
      "Fetched 2144772 tweets\n"
     ]
    }
   ],
   "source": [
    "def fetch_tweets(fr, to):\n",
    "    tweets = {}\n",
    "    with db() as cur:\n",
    "        cur.execute(\n",
    "            \"SELECT id,content FROM tweets WHERE id IN (\"\n",
    "            + str(tweet_ids[fr:to])[1:-1]\n",
    "            + \")\"\n",
    "        )\n",
    "        rows = cur.fetchall()\n",
    "        for r in rows:\n",
    "            tweets[r[0]] = r[1]\n",
    "    return tweets\n",
    "\n",
    "\n",
    "tweets = {}\n",
    "print(\"Fetching tweets, please wait...\")\n",
    "with Pool(THREADS) as p:\n",
    "    for i in range(0, tweet_count, 100000):\n",
    "        to = min(tweet_count, i + 100000)\n",
    "        p.apply_async(\n",
    "            fetch_tweets,\n",
    "            (i, to),\n",
    "            callback=lambda tw: tweets.update(tw),\n",
    "            error_callback=print_err,\n",
    "        )\n",
    "    p.close()\n",
    "    p.join()\n",
    "print(\"Fetched \" + str(len(tweets)) + \" tweets\\n\", end=\"\")"
   ]
  },
  {
   "cell_type": "markdown",
   "id": "9382800a",
   "metadata": {},
   "source": [
    "#### Step 14: Remove emoticons, hashtags, mentions from tweets (multi-threaded)"
   ]
  },
  {
   "cell_type": "code",
   "execution_count": 15,
   "id": "670f57bb",
   "metadata": {},
   "outputs": [
    {
     "name": "stdout",
     "output_type": "stream",
     "text": [
      "Removing emoticons, hashtags, mentions from tweets, please wait...\n",
      "Done\n"
     ]
    }
   ],
   "source": [
    "import re\n",
    "\n",
    "emoji_pattern = re.compile(\n",
    "    \"[\"\n",
    "    u\"\\U0001F600-\\U0001F64F\"  # emoticons\n",
    "    u\"\\U0001F300-\\U0001F5FF\"  # symbols & pictographs\n",
    "    u\"\\U0001F680-\\U0001F6FF\"  # transport & map symbols\n",
    "    u\"\\U0001F1E0-\\U0001F1FF\"  # flags (iOS)\n",
    "    \"]+\",\n",
    "    flags=re.UNICODE,\n",
    ")\n",
    "\n",
    "mention_hashtag_pattern = re.compile(\"[#@][A-Za-z0-9_]+\")\n",
    "\n",
    "\n",
    "def process_tweets(fr, to):\n",
    "    out = {}\n",
    "    for i in range(fr, to):\n",
    "        tid = tweet_ids[i]\n",
    "        noemoji = emoji_pattern.sub(r\"\", tweets[tid])\n",
    "        out[tid] = mention_hashtag_pattern.sub(r\"\", noemoji)\n",
    "    return out\n",
    "\n",
    "\n",
    "print(\"Removing emoticons, hashtags, mentions from tweets, please wait...\")\n",
    "with Pool(THREADS) as p:\n",
    "    for i in range(0, tweet_count, 100000):\n",
    "        to = min(tweet_count, i + 100000)\n",
    "        p.apply_async(\n",
    "            process_tweets, (i, to), callback=tweets.update, error_callback=print_err,\n",
    "        )\n",
    "    p.close()\n",
    "    p.join()\n",
    "print(\"Done\")"
   ]
  },
  {
   "cell_type": "markdown",
   "id": "cca1f68a",
   "metadata": {},
   "source": [
    "#### Step 15: Calculate the sentiment of tweets (multi-threaded)"
   ]
  },
  {
   "cell_type": "code",
   "execution_count": 16,
   "id": "51cb2e0b",
   "metadata": {
    "scrolled": false
   },
   "outputs": [
    {
     "name": "stdout",
     "output_type": "stream",
     "text": [
      "Calculating sentiment of tweets...\n",
      "2144772 of 2144772 (100.0%) done     \n",
      "Done\n"
     ]
    }
   ],
   "source": [
    "tweet_sen = {}\n",
    "\n",
    "\n",
    "def calc_sen(fr, to):\n",
    "    sen = {}\n",
    "    sid = SentimentIntensityAnalyzer()\n",
    "    for i in range(fr, to):\n",
    "        tid = tweet_ids[i]\n",
    "        sen[tid] = sid.polarity_scores(tweets[tid])\n",
    "    return sen\n",
    "\n",
    "\n",
    "def progress_report(sen):\n",
    "    tweet_sen.update(sen)\n",
    "    done = len(tweet_sen)\n",
    "    pct = (done * 10000 // tweet_count) / 100.0\n",
    "    print(\n",
    "        str(done) + \" of \" + str(tweet_count) + \" (\" + str(pct) + \"%) done     \\r\",\n",
    "        end=\"\",\n",
    "    )\n",
    "\n",
    "\n",
    "print(\"Calculating sentiment of tweets...\")\n",
    "with Pool(THREADS) as p:\n",
    "    for i in range(0, tweet_count, 10000):\n",
    "        to = min(tweet_count, i + 10000)\n",
    "        p.apply_async(\n",
    "            calc_sen, (i, to), callback=progress_report, error_callback=print_err,\n",
    "        )\n",
    "    p.close()\n",
    "    p.join()\n",
    "print(\"\\nDone\")"
   ]
  },
  {
   "cell_type": "markdown",
   "id": "a3a43ffb",
   "metadata": {},
   "source": [
    "#### Step 16: Map the calculated tweet sentiments to hashtags"
   ]
  },
  {
   "cell_type": "code",
   "execution_count": 17,
   "id": "4b8c1f6e",
   "metadata": {},
   "outputs": [
    {
     "name": "stdout",
     "output_type": "stream",
     "text": [
      "Mapping tweet sentiment data to hashtags, please wait...\n",
      "\n",
      "+----------------------+----------------------+--------------------+----------------------+-----------------------+\n",
      "|       Hashtag        |       Negative       |      Neutral       |       Positive       |       Compound        |\n",
      "+----------------------+----------------------+--------------------+----------------------+-----------------------+\n",
      "|    #5GCoronavirus    | 0.07670270270270269  | 0.8554004914004923 | 0.053110565110565104 |        -0.0821        |\n",
      "+----------------------+----------------------+--------------------+----------------------+-----------------------+\n",
      "|    #911insidejob     |        0.085         |      0.80325       |       0.11175        | -0.10522499999999997  |\n",
      "+----------------------+----------------------+--------------------+----------------------+-----------------------+\n",
      "|      #911truth       | 0.052640287769784175 | 0.8963525179856113 | 0.05099999999999999  | -0.038964028776978424 |\n",
      "+----------------------+----------------------+--------------------+----------------------+-----------------------+\n",
      "|      #Agenda21       | 0.07420417936438826  | 0.8374653896386618 | 0.08481454070526737  |  0.04467679582063569  |\n",
      "+----------------------+----------------------+--------------------+----------------------+-----------------------+\n",
      "|      #CCPVirus       |  0.0918105095541404  | 0.8475061703821641 | 0.05590505573248408  | -0.10835302547770659  |\n",
      "+----------------------+----------------------+--------------------+----------------------+-----------------------+\n",
      "|     #Chemtrails      | 0.09108429118773967  | 0.8246302681992336 | 0.08045977011494275  | 0.005881609195402212  |\n",
      "+----------------------+----------------------+--------------------+----------------------+-----------------------+\n",
      "| #ChinaLiedPeopleDied |  0.1106678932842686  | 0.8022327506899724 | 0.06839251763262795  | -0.10733235203925151  |\n",
      "+----------------------+----------------------+--------------------+----------------------+-----------------------+\n",
      "|  #ClimateChangeHoax  | 0.12694339622641515  | 0.7993207547169814 | 0.07379245283018869  | -0.16604528301886792  |\n",
      "+----------------------+----------------------+--------------------+----------------------+-----------------------+\n",
      "|   #DeepStateFauci    | 0.09087978142076518  | 0.7924590163934436 | 0.11666666666666674  |  0.06606994535519126  |\n",
      "+----------------------+----------------------+--------------------+----------------------+-----------------------+\n",
      "|  #DeepStateVaccine   | 0.05807142857142857  | 0.9419285714285713 |         0.0          |        -0.1782        |\n",
      "+----------------------+----------------------+--------------------+----------------------+-----------------------+\n",
      "|   #DeepstateVirus    | 0.02901158301158301  | 0.9642413127413125 | 0.006743243243243244 | -0.06265849420849419  |\n",
      "+----------------------+----------------------+--------------------+----------------------+-----------------------+\n",
      "|      #flatEarth      | 0.05352058823529412  | 0.8649911764705885 | 0.06386764705882352  | 0.036947352941176466  |\n",
      "+----------------------+----------------------+--------------------+----------------------+-----------------------+\n",
      "|  #GlobalWarmingHoax  | 0.14179999999999998  |       0.7856       | 0.07239999999999999  |       -0.19596        |\n",
      "+----------------------+----------------------+--------------------+----------------------+-----------------------+\n",
      "|     #illuminati      | 0.05468876611418051  | 0.8763029465930008 | 0.06255616942909759  | 0.013944337016574564  |\n",
      "+----------------------+----------------------+--------------------+----------------------+-----------------------+\n",
      "|        #MAGA         | 0.08382891123582234  | 0.8288554967224495 | 0.08569330024574762  | -0.020516307656793877 |\n",
      "+----------------------+----------------------+--------------------+----------------------+-----------------------+\n",
      "|      #moonhoax       | 0.17999999999999997  | 0.7359999999999999 | 0.08399999999999998  |        -0.633         |\n",
      "+----------------------+----------------------+--------------------+----------------------+-----------------------+\n",
      "|   #MoonLandingHoax   |        0.205         |       0.795        |         0.0          |        -0.5267        |\n",
      "+----------------------+----------------------+--------------------+----------------------+-----------------------+\n",
      "|   #PedoGateIsReal    | 0.05327192982456141  | 0.867239766081871  | 0.059032163742690026 | -0.010642397660818707 |\n",
      "+----------------------+----------------------+--------------------+----------------------+-----------------------+\n",
      "|   #pizzaGateIsReal   | 0.06179096218874891  | 0.8575072241008299 | 0.06442576083615123  | -0.012068798032585296 |\n",
      "+----------------------+----------------------+--------------------+----------------------+-----------------------+\n",
      "|        #QAnon        | 0.07055244115863182  | 0.8431073651702433 | 0.08366530162266554  |  0.01671677889439348  |\n",
      "+----------------------+----------------------+--------------------+----------------------+-----------------------+\n",
      "|     #reptilians      | 0.09617187499999999  | 0.8022343749999997 | 0.10160937499999999  |  0.04735312500000001  |\n",
      "+----------------------+----------------------+--------------------+----------------------+-----------------------+\n",
      "|     #SorosVirus      |  0.1122857142857143  | 0.8777142857142858 |         0.01         |        -0.3965        |\n",
      "+----------------------+----------------------+--------------------+----------------------+-----------------------+\n",
      "|       #WWG1WGA       | 0.06893807462134371  | 0.8356714746873888 | 0.09245556835082074  | 0.057413663852507596  |\n",
      "+----------------------+----------------------+--------------------+----------------------+-----------------------+\n",
      "\n"
     ]
    }
   ],
   "source": [
    "print(\"Mapping tweet sentiment data to hashtags, please wait...\")\n",
    "\n",
    "# Use the hashtag -> tweet id mapping we generated in Step 11 for mapping tweet sentiments to hashtags\n",
    "hashtag_sen = {}\n",
    "for t in hashtags:\n",
    "    hashtag_sen[t] = {}\n",
    "    for sen in (\"neg\", \"neu\", \"pos\", \"compound\"):\n",
    "        # Sum up the sentiment values\n",
    "        hashtag_sen[t][sen] = 0\n",
    "        for twid in hashtag_twmap[t]:\n",
    "            hashtag_sen[t][sen] += tweet_sen[twid][sen]\n",
    "\n",
    "        # Normalize the results\n",
    "        hashtag_sen[t][sen] /= len(hashtag_twmap[t])\n",
    "\n",
    "# Print the results\n",
    "rows = [[\"Hashtag\", \"Negative\", \"Neutral\", \"Positive\", \"Compound\"]]\n",
    "for t in hashtags:\n",
    "    rows.append(\n",
    "        [\n",
    "            t,\n",
    "            hashtag_sen[t][\"neg\"],\n",
    "            hashtag_sen[t][\"neu\"],\n",
    "            hashtag_sen[t][\"pos\"],\n",
    "            hashtag_sen[t][\"compound\"],\n",
    "        ]\n",
    "    )\n",
    "print_2d(rows)"
   ]
  },
  {
   "cell_type": "markdown",
   "id": "5b596b99",
   "metadata": {},
   "source": [
    "## Task 3 - Sort tweets by conspiracy theories"
   ]
  },
  {
   "cell_type": "markdown",
   "id": "7a7333ca",
   "metadata": {},
   "source": [
    "#### Step 1: Grant all priviliges for a new schema called conspiracy for our database user pdt\n",
    "`su postgres`\n",
    "\n",
    "`psql -d tweets`\n",
    "\n",
    "```\n",
    "CREATE SCHEMA conspiracy;\n",
    "GRANT ALL PRIVILIGES ON SCHEMA conspiracy to pdt;\n",
    "quit;\n",
    "```\n",
    "\n",
    "`logout`"
   ]
  },
  {
   "cell_type": "markdown",
   "id": "a21caf5e",
   "metadata": {},
   "source": [
    "#### Step 2: Create tables used for storing conspiracy names & tweet-id - conspiracy-id mappings"
   ]
  },
  {
   "cell_type": "code",
   "execution_count": 18,
   "id": "7dffa96b",
   "metadata": {
    "scrolled": true
   },
   "outputs": [
    {
     "name": "stdout",
     "output_type": "stream",
     "text": [
      "Available tables: ['conspiracy.names', 'conspiracy.tweets', 'conspiracy.weekly_sentiment']\n",
      "Table conspiracy.names:\n",
      "\n",
      "+-------------+-------------------+--------------+----------------------------------------------+----------+\n",
      "| Column Name |     Data Type     | Max Char Len |                Default Value                 | Nullable |\n",
      "+-------------+-------------------+--------------+----------------------------------------------+----------+\n",
      "|     id      |     smallint      |     None     | nextval('conspiracy.names_id_seq'::regclass) |    NO    |\n",
      "+-------------+-------------------+--------------+----------------------------------------------+----------+\n",
      "|    name     | character varying |      40      |                     None                     |    NO    |\n",
      "+-------------+-------------------+--------------+----------------------------------------------+----------+\n",
      "\n",
      "\n",
      "Table conspiracy.tweets:\n",
      "\n",
      "+---------------+-------------------+--------------+-----------------------------------------------+----------+\n",
      "|  Column Name  |     Data Type     | Max Char Len |                 Default Value                 | Nullable |\n",
      "+---------------+-------------------+--------------+-----------------------------------------------+----------+\n",
      "|      id       |      integer      |     None     | nextval('conspiracy.tweets_id_seq'::regclass) |    NO    |\n",
      "+---------------+-------------------+--------------+-----------------------------------------------+----------+\n",
      "| conspiracy_id |     smallint      |     None     |                     None                      |    NO    |\n",
      "+---------------+-------------------+--------------+-----------------------------------------------+----------+\n",
      "|   tweet_id    | character varying |      20      |                     None                      |    NO    |\n",
      "+---------------+-------------------+--------------+-----------------------------------------------+----------+\n",
      "\n",
      "\n",
      "Table conspiracy.weekly_sentiment:\n",
      "\n",
      "+---------------------+-----------+--------------+---------------------------------------------------------+----------+\n",
      "|     Column Name     | Data Type | Max Char Len |                      Default Value                      | Nullable |\n",
      "+---------------------+-----------+--------------+---------------------------------------------------------+----------+\n",
      "|         id          |  integer  |     None     | nextval('conspiracy.weekly_sentiment_id_seq'::regclass) |    NO    |\n",
      "+---------------------+-----------+--------------+---------------------------------------------------------+----------+\n",
      "|    conspiracy_id    | smallint  |     None     |                          None                           |    NO    |\n",
      "+---------------------+-----------+--------------+---------------------------------------------------------+----------+\n",
      "|        week         | character |      7       |                          None                           |    NO    |\n",
      "+---------------------+-----------+--------------+---------------------------------------------------------+----------+\n",
      "|     tweet_count     |  integer  |     None     |                          None                           |    NO    |\n",
      "+---------------------+-----------+--------------+---------------------------------------------------------+----------+\n",
      "| tweet_extreme_count |  integer  |     None     |                          None                           |    NO    |\n",
      "+---------------------+-----------+--------------+---------------------------------------------------------+----------+\n",
      "| tweet_neutral_count |  integer  |     None     |                          None                           |    NO    |\n",
      "+---------------------+-----------+--------------+---------------------------------------------------------+----------+\n",
      "|     tweet_ratio     |  numeric  |     None     |                          None                           |    NO    |\n",
      "+---------------------+-----------+--------------+---------------------------------------------------------+----------+\n",
      "\n",
      "\n"
     ]
    }
   ],
   "source": [
    "# Drop tables created by previous executions of this jupyter notebook\n",
    "cur.execute(\"DROP TABLE IF EXISTS conspiracy.names\")\n",
    "cur.execute(\"DROP TABLE IF EXISTS conspiracy.tweets\")\n",
    "\n",
    "# Create tables for conspiracy names & tables\n",
    "cur.execute(\n",
    "    \"CREATE TABLE conspiracy.names (id SMALLSERIAL PRIMARY KEY NOT NULL, name VARCHAR(40) NOT NULL)\"\n",
    ")\n",
    "cur.execute(\n",
    "    \"CREATE TABLE conspiracy.tweets (id SERIAL PRIMARY KEY NOT NULL, conspiracy_id SMALLINT NOT NULL,\"\n",
    "    + \"tweet_id VARCHAR(20) NOT NULL)\"\n",
    ")\n",
    "\n",
    "# Describe the newly created tables\n",
    "tables = list_tables(\"conspiracy\")\n",
    "describe_tables(tables)"
   ]
  },
  {
   "cell_type": "markdown",
   "id": "76b47ad5",
   "metadata": {},
   "source": [
    "#### Step 3: Populate conspiracy.names table"
   ]
  },
  {
   "cell_type": "code",
   "execution_count": 19,
   "id": "1490e0df",
   "metadata": {
    "scrolled": true
   },
   "outputs": [
    {
     "name": "stdout",
     "output_type": "stream",
     "text": [
      "Table conspiracy.names:\n",
      "\n",
      "+----+--------------------------------------+\n",
      "| 1  |              Deep State              |\n",
      "+----+--------------------------------------+\n",
      "| 2  |                Qanon                 |\n",
      "+----+--------------------------------------+\n",
      "| 3  |           New world order            |\n",
      "+----+--------------------------------------+\n",
      "| 4  | The virus escaped from a Chinese lab |\n",
      "+----+--------------------------------------+\n",
      "| 5  |        Global Warming is HOAX        |\n",
      "+----+--------------------------------------+\n",
      "| 6  |      COVID19 and microchipping       |\n",
      "+----+--------------------------------------+\n",
      "| 7  |       COVID19 is preaded by 5G       |\n",
      "+----+--------------------------------------+\n",
      "| 8  |         Moon landing is fake         |\n",
      "+----+--------------------------------------+\n",
      "| 9  |         9/11 was inside job          |\n",
      "+----+--------------------------------------+\n",
      "| 10 |     Pizzagate conspiracy theory      |\n",
      "+----+--------------------------------------+\n",
      "| 11 |              Chemtrails              |\n",
      "+----+--------------------------------------+\n",
      "| 12 |              Flat Earth              |\n",
      "+----+--------------------------------------+\n",
      "| 13 |              Illuminati              |\n",
      "+----+--------------------------------------+\n",
      "| 14 |     Reptilian conspiracy theory      |\n",
      "+----+--------------------------------------+\n",
      "\n",
      "\n"
     ]
    }
   ],
   "source": [
    "# Executing bulk inserts comes with less overhead, so they can be faster than individual inserts.\n",
    "# We are going to prefer using them where we can\n",
    "querry = \"INSERT INTO conspiracy.names (name) VALUES\"\n",
    "for c in conspiracies:\n",
    "    querry += \" ('\" + c + \"'),\"\n",
    "\n",
    "cur.execute(querry[:-1])\n",
    "sample_tables([\"conspiracy.names\"], len(conspiracies))"
   ]
  },
  {
   "cell_type": "markdown",
   "id": "9e39abf5",
   "metadata": {},
   "source": [
    "#### Step 4: Create conspiracy-id -> tweet-ids mapping"
   ]
  },
  {
   "cell_type": "code",
   "execution_count": 20,
   "id": "9baa679b",
   "metadata": {},
   "outputs": [
    {
     "name": "stdout",
     "output_type": "stream",
     "text": [
      "\n",
      "+--------------------------------------+---------+\n",
      "|              Conspiracy              | Tweets  |\n",
      "+--------------------------------------+---------+\n",
      "|              Deep State              |   701   |\n",
      "+--------------------------------------+---------+\n",
      "|                Qanon                 | 2136414 |\n",
      "+--------------------------------------+---------+\n",
      "|           New world order            |  2297   |\n",
      "+--------------------------------------+---------+\n",
      "| The virus escaped from a Chinese lab |  7976   |\n",
      "+--------------------------------------+---------+\n",
      "|        Global Warming is HOAX        |   57    |\n",
      "+--------------------------------------+---------+\n",
      "|      COVID19 and microchipping       |    7    |\n",
      "+--------------------------------------+---------+\n",
      "|       COVID19 is preaded by 5G       |   407   |\n",
      "+--------------------------------------+---------+\n",
      "|         Moon landing is fake         |   17    |\n",
      "+--------------------------------------+---------+\n",
      "|         9/11 was inside job          |   143   |\n",
      "+--------------------------------------+---------+\n",
      "|     Pizzagate conspiracy theory      |  3543   |\n",
      "+--------------------------------------+---------+\n",
      "|              Chemtrails              |  1044   |\n",
      "+--------------------------------------+---------+\n",
      "|              Flat Earth              |   340   |\n",
      "+--------------------------------------+---------+\n",
      "|              Illuminati              |  2172   |\n",
      "+--------------------------------------+---------+\n",
      "|     Reptilian conspiracy theory      |   64    |\n",
      "+--------------------------------------+---------+\n",
      "\n"
     ]
    }
   ],
   "source": [
    "# Since multiple hashtags can point to the same tweet, we are using sets to avoid mapping duplicate tweet ids\n",
    "# to the same conspiracy\n",
    "\n",
    "# Create empty sets of tweet ids for every conspiracy\n",
    "conspiracy_twids = []\n",
    "for i in range(len(conspiracies)):\n",
    "    conspiracy_twids.append(set())\n",
    "\n",
    "# Copy tweet ids from hashtags associated to the mappable conspiracy\n",
    "for ht in hashtags:\n",
    "    conid = hashtag_conmap[ht]\n",
    "    conspiracy_twids[conid].update(hashtag_twmap[ht])\n",
    "\n",
    "# Convert mappings to immutable tuple for indexing support\n",
    "for i in range(len(conspiracies)):\n",
    "    conspiracy_twids[i] = tuple(conspiracy_twids[i])\n",
    "\n",
    "# Print the number of mapped tweet-ids for each conspiracy theory\n",
    "rows = [[\"Conspiracy\", \"Tweets\"]]\n",
    "for i in range(len(conspiracies)):\n",
    "    rows.append([conspiracies[i], len(conspiracy_twids[i])])\n",
    "print_2d(rows)"
   ]
  },
  {
   "cell_type": "markdown",
   "id": "1a9838cf",
   "metadata": {},
   "source": [
    "#### Step 5: Store conspiracy-id -> tweet-ids mappings to the conspiracy.tweets table (multi-threaded)"
   ]
  },
  {
   "cell_type": "code",
   "execution_count": 21,
   "id": "bc5a7a0e",
   "metadata": {},
   "outputs": [
    {
     "name": "stdout",
     "output_type": "stream",
     "text": [
      "Inserting conspiracy-id -> tweet-ids mapping to the conspiracy.tweets table...\n",
      "2155182 of 2155182 (100.0%) done     \n",
      "Done\n",
      "Table conspiracy.tweets:\n",
      "\n",
      "+----+---+---------------------+\n",
      "| 1  | 1 | 1251717935992840192 |\n",
      "+----+---+---------------------+\n",
      "| 2  | 1 | 1254129532094885893 |\n",
      "+----+---+---------------------+\n",
      "| 3  | 1 | 1259234812830855168 |\n",
      "+----+---+---------------------+\n",
      "| 4  | 1 | 1246872807138570240 |\n",
      "+----+---+---------------------+\n",
      "| 5  | 1 | 1265723131848769542 |\n",
      "+----+---+---------------------+\n",
      "| 6  | 1 | 1246501864356696072 |\n",
      "+----+---+---------------------+\n",
      "| 7  | 1 | 1246326597914935297 |\n",
      "+----+---+---------------------+\n",
      "| 8  | 1 | 1247834751299227649 |\n",
      "+----+---+---------------------+\n",
      "| 9  | 1 | 1250244615602442240 |\n",
      "+----+---+---------------------+\n",
      "| 10 | 1 | 1246670562514124800 |\n",
      "+----+---+---------------------+\n",
      "\n",
      "\n"
     ]
    }
   ],
   "source": [
    "total = sum([len(twids) for twids in conspiracy_twids])\n",
    "done = 0\n",
    "\n",
    "\n",
    "def insert_con_twids(con, fr, to):\n",
    "    twids = conspiracy_twids[con]\n",
    "    cid = str(con + 1)\n",
    "    cmd = \"INSERT INTO conspiracy.tweets (conspiracy_id, tweet_id) VALUES\"\n",
    "    for i in range(fr, to):\n",
    "        cmd += \" (\" + cid + \",'\" + twids[i] + \"'),\"\n",
    "    with db() as cur:\n",
    "        cur.execute(cmd[:-1])\n",
    "    return to - fr\n",
    "\n",
    "\n",
    "def progress_report(done_now):\n",
    "    global done\n",
    "    done += done_now\n",
    "    pct = (done * 10000 // total) / 100.0\n",
    "    print(str(done) + \" of \" + str(total) + \" (\" + str(pct) + \"%) done     \\r\", end=\"\")\n",
    "\n",
    "\n",
    "print(\"Inserting conspiracy-id -> tweet-ids mapping to the conspiracy.tweets table...\")\n",
    "with Pool(THREADS) as p:\n",
    "    for c in range(len(conspiracies)):\n",
    "        cnt = len(conspiracy_twids[c])\n",
    "\n",
    "        # Bulk insert up to 10000 entries at a time\n",
    "        for i in range(0, cnt, 10000):\n",
    "            to = min(cnt, i + 10000)\n",
    "            p.apply_async(\n",
    "                insert_con_twids,\n",
    "                (c, i, to),\n",
    "                callback=progress_report,\n",
    "                error_callback=print_err,\n",
    "            )\n",
    "    p.close()\n",
    "    p.join()\n",
    "print(\"\\nDone\")\n",
    "\n",
    "sample_tables([\"conspiracy.tweets\"])"
   ]
  },
  {
   "cell_type": "markdown",
   "id": "96375f9d",
   "metadata": {},
   "source": [
    "## Task 4 - Calculate the ratio of tweets with extreme / neutral sentiment"
   ]
  },
  {
   "cell_type": "markdown",
   "id": "942892c8",
   "metadata": {},
   "source": [
    "#### Step 1: Fetch dates of tweet creations (multi-threaded)"
   ]
  },
  {
   "cell_type": "code",
   "execution_count": 22,
   "id": "421f6d08",
   "metadata": {},
   "outputs": [
    {
     "name": "stdout",
     "output_type": "stream",
     "text": [
      "Fetching the creation dates of tweets...\n",
      "Done\n"
     ]
    }
   ],
   "source": [
    "def fetch_tweet_dates(fr, to):\n",
    "    twdates = {}\n",
    "    with db() as cur:\n",
    "        cur.execute(\n",
    "            \"SELECT id,happened_at FROM tweets WHERE id IN (\"\n",
    "            + str(tweet_ids[fr:to])[1:-1]\n",
    "            + \")\"\n",
    "        )\n",
    "        rows = cur.fetchall()\n",
    "    for r in rows:\n",
    "        twdates[r[0]] = r[1]\n",
    "    return twdates\n",
    "\n",
    "\n",
    "tweetdates = {}\n",
    "\n",
    "print(\"Fetching the creation dates of tweets...\")\n",
    "with Pool(THREADS) as p:\n",
    "    for i in range(0, tweet_count, 100000):\n",
    "        to = min(tweet_count, i + 100000)\n",
    "        p.apply_async(\n",
    "            fetch_tweet_dates,\n",
    "            (i, to),\n",
    "            callback=tweetdates.update,\n",
    "            error_callback=print_err,\n",
    "        )\n",
    "    p.close()\n",
    "    p.join()\n",
    "print(\"Done\")"
   ]
  },
  {
   "cell_type": "markdown",
   "id": "18001d97",
   "metadata": {},
   "source": [
    "#### Step 2: Create conspiracy-theory -> week -> tweet-ids mappings"
   ]
  },
  {
   "cell_type": "code",
   "execution_count": 23,
   "id": "adbf7a8c",
   "metadata": {},
   "outputs": [],
   "source": [
    "# Converts the datetime value of the tweets creation to week number\n",
    "def weeknum(d):\n",
    "    cal = d.date().isocalendar()\n",
    "    return str(cal[0]) + \",\" + str(cal[1]).zfill(2)\n",
    "\n",
    "\n",
    "con_week_twids = []\n",
    "for c in range(len(conspiracies)):\n",
    "    twids = conspiracy_twids[c]\n",
    "    week_twids = {}\n",
    "    for twid in twids:\n",
    "        week = weeknum(tweetdates[twid])\n",
    "        week_data = week_twids.get(week)\n",
    "        if week_data == None:\n",
    "            week_twids[week] = [twid]\n",
    "        else:\n",
    "            week_data.append(twid)\n",
    "    con_week_twids.append(week_twids)"
   ]
  },
  {
   "cell_type": "markdown",
   "id": "e4ebc7ee",
   "metadata": {},
   "source": [
    "#### Step 3: Calculate per week extreme / neutral tweet sentiment ratios for each conspiracy theory"
   ]
  },
  {
   "cell_type": "code",
   "execution_count": 24,
   "id": "c2646d06",
   "metadata": {},
   "outputs": [
    {
     "name": "stdout",
     "output_type": "stream",
     "text": [
      "\n",
      "+---------------+---------+-------------+---------+---------+----------+\n",
      "| Conspiracy Id |  Week   | Tweet Count | Extreme | Neutral |  Ratio   |\n",
      "+---------------+---------+-------------+---------+---------+----------+\n",
      "|       1       | 2020,09 |      2      |    0    |    2    |   0.0    |\n",
      "+---------------+---------+-------------+---------+---------+----------+\n",
      "|       1       | 2020,14 |     128     |   71    |   57    | 1.245614 |\n",
      "+---------------+---------+-------------+---------+---------+----------+\n",
      "|       1       | 2020,15 |     231     |   57    |   174   | 0.327586 |\n",
      "+---------------+---------+-------------+---------+---------+----------+\n",
      "|       1       | 2020,16 |     213     |    3    |   210   | 0.014286 |\n",
      "+---------------+---------+-------------+---------+---------+----------+\n",
      "|       1       | 2020,17 |     32      |    4    |   28    | 0.142857 |\n",
      "+---------------+---------+-------------+---------+---------+----------+\n",
      "|       1       | 2020,18 |     38      |    9    |   29    | 0.310345 |\n",
      "+---------------+---------+-------------+---------+---------+----------+\n",
      "|       1       | 2020,19 |     15      |    0    |   15    |   0.0    |\n",
      "+---------------+---------+-------------+---------+---------+----------+\n",
      "|       1       | 2020,20 |     29      |    3    |   26    | 0.115385 |\n",
      "+---------------+---------+-------------+---------+---------+----------+\n",
      "|       1       | 2020,21 |      2      |    0    |    2    |   0.0    |\n",
      "+---------------+---------+-------------+---------+---------+----------+\n",
      "|       1       | 2020,22 |     11      |    7    |    4    |   1.75   |\n",
      "+---------------+---------+-------------+---------+---------+----------+\n",
      "|       2       | 2017,22 |      1      |    1    |    0    |   1.0    |\n",
      "+---------------+---------+-------------+---------+---------+----------+\n",
      "|       2       | 2018,13 |      1      |    0    |    1    |   0.0    |\n",
      "+---------------+---------+-------------+---------+---------+----------+\n",
      "|       2       | 2018,14 |      1      |    0    |    1    |   0.0    |\n",
      "+---------------+---------+-------------+---------+---------+----------+\n",
      "|       2       | 2018,20 |      1      |    0    |    1    |   0.0    |\n",
      "+---------------+---------+-------------+---------+---------+----------+\n",
      "|       2       | 2018,36 |      1      |    1    |    0    |   1.0    |\n",
      "+---------------+---------+-------------+---------+---------+----------+\n",
      "|       2       | 2018,38 |      1      |    0    |    1    |   0.0    |\n",
      "+---------------+---------+-------------+---------+---------+----------+\n",
      "|       2       | 2018,41 |      2      |    0    |    2    |   0.0    |\n",
      "+---------------+---------+-------------+---------+---------+----------+\n",
      "|       2       | 2018,51 |      1      |    0    |    1    |   0.0    |\n",
      "+---------------+---------+-------------+---------+---------+----------+\n",
      "|       2       | 2019,01 |      1      |    1    |    0    |   1.0    |\n",
      "+---------------+---------+-------------+---------+---------+----------+\n",
      "|       2       | 2019,02 |      1      |    0    |    1    |   0.0    |\n",
      "+---------------+---------+-------------+---------+---------+----------+\n",
      "|       2       | 2019,03 |      7      |    2    |    5    |   0.4    |\n",
      "+---------------+---------+-------------+---------+---------+----------+\n",
      "|       2       | 2019,04 |      1      |    0    |    1    |   0.0    |\n",
      "+---------------+---------+-------------+---------+---------+----------+\n",
      "|       2       | 2019,10 |      1      |    0    |    1    |   0.0    |\n",
      "+---------------+---------+-------------+---------+---------+----------+\n",
      "|       2       | 2019,11 |      1      |    0    |    1    |   0.0    |\n",
      "+---------------+---------+-------------+---------+---------+----------+\n",
      "|       2       | 2019,14 |      1      |    0    |    1    |   0.0    |\n",
      "+---------------+---------+-------------+---------+---------+----------+\n",
      "|       2       | 2019,18 |      2      |    1    |    1    |   1.0    |\n",
      "+---------------+---------+-------------+---------+---------+----------+\n",
      "|       2       | 2019,19 |      1      |    1    |    0    |   1.0    |\n",
      "+---------------+---------+-------------+---------+---------+----------+\n",
      "|       2       | 2019,20 |      2      |    2    |    0    |   2.0    |\n",
      "+---------------+---------+-------------+---------+---------+----------+\n",
      "|       2       | 2019,21 |      3      |    2    |    1    |   2.0    |\n",
      "+---------------+---------+-------------+---------+---------+----------+\n",
      "|       2       | 2019,22 |      1      |    1    |    0    |   1.0    |\n",
      "+---------------+---------+-------------+---------+---------+----------+\n",
      "|       2       | 2019,24 |      1      |    0    |    1    |   0.0    |\n",
      "+---------------+---------+-------------+---------+---------+----------+\n",
      "|       2       | 2019,27 |      1      |    1    |    0    |   1.0    |\n",
      "+---------------+---------+-------------+---------+---------+----------+\n",
      "|       2       | 2019,28 |      3      |    1    |    2    |   0.5    |\n",
      "+---------------+---------+-------------+---------+---------+----------+\n",
      "|       2       | 2019,29 |      2      |    1    |    1    |   1.0    |\n",
      "+---------------+---------+-------------+---------+---------+----------+\n",
      "|       2       | 2019,35 |      1      |    0    |    1    |   0.0    |\n",
      "+---------------+---------+-------------+---------+---------+----------+\n",
      "|       2       | 2019,36 |      1      |    1    |    0    |   1.0    |\n",
      "+---------------+---------+-------------+---------+---------+----------+\n",
      "|       2       | 2019,40 |      5      |    1    |    4    |   0.25   |\n",
      "+---------------+---------+-------------+---------+---------+----------+\n",
      "|       2       | 2019,41 |      1      |    0    |    1    |   0.0    |\n",
      "+---------------+---------+-------------+---------+---------+----------+\n",
      "|       2       | 2019,42 |      1      |    1    |    0    |   1.0    |\n",
      "+---------------+---------+-------------+---------+---------+----------+\n",
      "|       2       | 2019,44 |      4      |    3    |    1    |   3.0    |\n",
      "+---------------+---------+-------------+---------+---------+----------+\n",
      "|       2       | 2019,46 |      1      |    1    |    0    |   1.0    |\n",
      "+---------------+---------+-------------+---------+---------+----------+\n",
      "|       2       | 2019,48 |      1      |    1    |    0    |   1.0    |\n",
      "+---------------+---------+-------------+---------+---------+----------+\n",
      "|       2       | 2019,49 |      1      |    0    |    1    |   0.0    |\n",
      "+---------------+---------+-------------+---------+---------+----------+\n",
      "|       2       | 2019,51 |      3      |    3    |    0    |   3.0    |\n",
      "+---------------+---------+-------------+---------+---------+----------+\n",
      "|       2       | 2019,52 |      1      |    0    |    1    |   0.0    |\n",
      "+---------------+---------+-------------+---------+---------+----------+\n",
      "|       2       | 2020,01 |      1      |    1    |    0    |   1.0    |\n",
      "+---------------+---------+-------------+---------+---------+----------+\n",
      "|       2       | 2020,02 |      2      |    2    |    0    |   2.0    |\n",
      "+---------------+---------+-------------+---------+---------+----------+\n",
      "|       2       | 2020,03 |      8      |    4    |    4    |   1.0    |\n",
      "+---------------+---------+-------------+---------+---------+----------+\n",
      "|       2       | 2020,04 |    1032     |   427   |   605   | 0.705785 |\n",
      "+---------------+---------+-------------+---------+---------+----------+\n",
      "|       2       | 2020,05 |    2520     |   641   |  1879   | 0.341139 |\n",
      "+---------------+---------+-------------+---------+---------+----------+\n",
      "|       2       | 2020,06 |    1015     |   198   |   817   | 0.24235  |\n",
      "+---------------+---------+-------------+---------+---------+----------+\n",
      "|       2       | 2020,07 |    1277     |   288   |   989   | 0.291203 |\n",
      "+---------------+---------+-------------+---------+---------+----------+\n",
      "|       2       | 2020,08 |     557     |   142   |   415   | 0.342169 |\n",
      "+---------------+---------+-------------+---------+---------+----------+\n",
      "|       2       | 2020,09 |    1463     |   628   |   835   | 0.752096 |\n",
      "+---------------+---------+-------------+---------+---------+----------+\n",
      "|       2       | 2020,11 |      3      |    1    |    2    |   0.5    |\n",
      "+---------------+---------+-------------+---------+---------+----------+\n",
      "|       2       | 2020,12 |      8      |    4    |    4    |   1.0    |\n",
      "+---------------+---------+-------------+---------+---------+----------+\n",
      "|       2       | 2020,13 |     21      |    8    |   13    | 0.615385 |\n",
      "+---------------+---------+-------------+---------+---------+----------+\n",
      "|       2       | 2020,14 |   109332    |  37982  |  71350  | 0.532334 |\n",
      "+---------------+---------+-------------+---------+---------+----------+\n",
      "|       2       | 2020,15 |   329362    | 100845  | 228517  | 0.441302 |\n",
      "+---------------+---------+-------------+---------+---------+----------+\n",
      "|       2       | 2020,16 |   340379    | 111100  | 229279  | 0.484562 |\n",
      "+---------------+---------+-------------+---------+---------+----------+\n",
      "|       2       | 2020,17 |   120787    |  36514  |  84273  | 0.433282 |\n",
      "+---------------+---------+-------------+---------+---------+----------+\n",
      "|       2       | 2020,18 |   356803    | 101145  | 255658  | 0.395626 |\n",
      "+---------------+---------+-------------+---------+---------+----------+\n",
      "|       2       | 2020,19 |   227718    |  62297  | 165421  | 0.376597 |\n",
      "+---------------+---------+-------------+---------+---------+----------+\n",
      "|       2       | 2020,20 |   344915    |  95087  | 249828  | 0.38061  |\n",
      "+---------------+---------+-------------+---------+---------+----------+\n",
      "|       2       | 2020,21 |   114541    |  36532  |  78009  | 0.468305 |\n",
      "+---------------+---------+-------------+---------+---------+----------+\n",
      "|       2       | 2020,22 |   184612    |  80374  | 104238  | 0.771062 |\n",
      "+---------------+---------+-------------+---------+---------+----------+\n",
      "|       3       | 2020,04 |     173     |   70    |   103   | 0.679612 |\n",
      "+---------------+---------+-------------+---------+---------+----------+\n",
      "|       3       | 2020,05 |     492     |   278   |   214   | 1.299065 |\n",
      "+---------------+---------+-------------+---------+---------+----------+\n",
      "|       3       | 2020,06 |     33      |   18    |   15    |   1.2    |\n",
      "+---------------+---------+-------------+---------+---------+----------+\n",
      "|       3       | 2020,07 |     35      |   16    |   19    | 0.842105 |\n",
      "+---------------+---------+-------------+---------+---------+----------+\n",
      "|       3       | 2020,08 |     15      |    2    |   13    | 0.153846 |\n",
      "+---------------+---------+-------------+---------+---------+----------+\n",
      "|       3       | 2020,09 |     14      |    3    |   11    | 0.272727 |\n",
      "+---------------+---------+-------------+---------+---------+----------+\n",
      "|       3       | 2020,13 |      2      |    1    |    1    |   1.0    |\n",
      "+---------------+---------+-------------+---------+---------+----------+\n",
      "|       3       | 2020,14 |     50      |   16    |   34    | 0.470588 |\n",
      "+---------------+---------+-------------+---------+---------+----------+\n",
      "|       3       | 2020,15 |     230     |   23    |   207   | 0.111111 |\n",
      "+---------------+---------+-------------+---------+---------+----------+\n",
      "|       3       | 2020,16 |     419     |   27    |   392   | 0.068878 |\n",
      "+---------------+---------+-------------+---------+---------+----------+\n",
      "|       3       | 2020,17 |     73      |   17    |   56    | 0.303571 |\n",
      "+---------------+---------+-------------+---------+---------+----------+\n",
      "|       3       | 2020,18 |     244     |   119   |   125   |  0.952   |\n",
      "+---------------+---------+-------------+---------+---------+----------+\n",
      "|       3       | 2020,19 |     55      |   13    |   42    | 0.309524 |\n",
      "+---------------+---------+-------------+---------+---------+----------+\n",
      "|       3       | 2020,20 |     104     |   28    |   76    | 0.368421 |\n",
      "+---------------+---------+-------------+---------+---------+----------+\n",
      "|       3       | 2020,21 |     199     |   28    |   171   | 0.163743 |\n",
      "+---------------+---------+-------------+---------+---------+----------+\n",
      "|       3       | 2020,22 |     159     |   12    |   147   | 0.081633 |\n",
      "+---------------+---------+-------------+---------+---------+----------+\n",
      "|       4       | 2020,04 |      1      |    0    |    1    |   0.0    |\n",
      "+---------------+---------+-------------+---------+---------+----------+\n",
      "|       4       | 2020,05 |      6      |    2    |    4    |   0.5    |\n",
      "+---------------+---------+-------------+---------+---------+----------+\n",
      "|       4       | 2020,06 |      6      |    3    |    3    |   1.0    |\n",
      "+---------------+---------+-------------+---------+---------+----------+\n",
      "|       4       | 2020,07 |     27      |    2    |   25    |   0.08   |\n",
      "+---------------+---------+-------------+---------+---------+----------+\n",
      "|       4       | 2020,08 |      1      |    0    |    1    |   0.0    |\n",
      "+---------------+---------+-------------+---------+---------+----------+\n",
      "|       4       | 2020,09 |      4      |    0    |    4    |   0.0    |\n",
      "+---------------+---------+-------------+---------+---------+----------+\n",
      "|       4       | 2020,12 |     16      |    5    |   11    | 0.454545 |\n",
      "+---------------+---------+-------------+---------+---------+----------+\n",
      "|       4       | 2020,13 |     36      |   17    |   19    | 0.894737 |\n",
      "+---------------+---------+-------------+---------+---------+----------+\n",
      "|       4       | 2020,14 |    1280     |   435   |   845   | 0.514793 |\n",
      "+---------------+---------+-------------+---------+---------+----------+\n",
      "|       4       | 2020,15 |    1676     |   519   |  1157   | 0.448574 |\n",
      "+---------------+---------+-------------+---------+---------+----------+\n",
      "|       4       | 2020,16 |    1754     |   509   |  1245   | 0.408835 |\n",
      "+---------------+---------+-------------+---------+---------+----------+\n",
      "|       4       | 2020,17 |    1338     |   353   |   985   | 0.358376 |\n",
      "+---------------+---------+-------------+---------+---------+----------+\n",
      "|       4       | 2020,18 |     882     |   271   |   611   | 0.443535 |\n",
      "+---------------+---------+-------------+---------+---------+----------+\n",
      "|       4       | 2020,19 |     621     |   154   |   467   | 0.329764 |\n",
      "+---------------+---------+-------------+---------+---------+----------+\n",
      "|       4       | 2020,20 |     265     |   75    |   190   | 0.394737 |\n",
      "+---------------+---------+-------------+---------+---------+----------+\n",
      "|       4       | 2020,21 |     22      |   10    |   12    | 0.833333 |\n",
      "+---------------+---------+-------------+---------+---------+----------+\n",
      "|       4       | 2020,22 |     41      |   10    |   31    | 0.322581 |\n",
      "+---------------+---------+-------------+---------+---------+----------+\n",
      "|       5       | 2020,04 |      6      |    0    |    6    |   0.0    |\n",
      "+---------------+---------+-------------+---------+---------+----------+\n",
      "|       5       | 2020,05 |     15      |    7    |    8    |  0.875   |\n",
      "+---------------+---------+-------------+---------+---------+----------+\n",
      "|       5       | 2020,06 |      9      |    5    |    4    |   1.25   |\n",
      "+---------------+---------+-------------+---------+---------+----------+\n",
      "|       5       | 2020,07 |      5      |    0    |    5    |   0.0    |\n",
      "+---------------+---------+-------------+---------+---------+----------+\n",
      "|       5       | 2020,08 |      2      |    1    |    1    |   1.0    |\n",
      "+---------------+---------+-------------+---------+---------+----------+\n",
      "|       5       | 2020,09 |      3      |    1    |    2    |   0.5    |\n",
      "+---------------+---------+-------------+---------+---------+----------+\n",
      "|       5       | 2020,14 |      1      |    0    |    1    |   0.0    |\n",
      "+---------------+---------+-------------+---------+---------+----------+\n",
      "|       5       | 2020,16 |      1      |    0    |    1    |   0.0    |\n",
      "+---------------+---------+-------------+---------+---------+----------+\n",
      "|       5       | 2020,17 |      2      |    0    |    2    |   0.0    |\n",
      "+---------------+---------+-------------+---------+---------+----------+\n",
      "|       5       | 2020,18 |      7      |    0    |    7    |   0.0    |\n",
      "+---------------+---------+-------------+---------+---------+----------+\n",
      "|       5       | 2020,19 |      2      |    0    |    2    |   0.0    |\n",
      "+---------------+---------+-------------+---------+---------+----------+\n",
      "|       5       | 2020,20 |      3      |    3    |    0    |   3.0    |\n",
      "+---------------+---------+-------------+---------+---------+----------+\n",
      "|       5       | 2020,21 |      1      |    0    |    1    |   0.0    |\n",
      "+---------------+---------+-------------+---------+---------+----------+\n",
      "|       6       | 2020,05 |      1      |    0    |    1    |   0.0    |\n",
      "+---------------+---------+-------------+---------+---------+----------+\n",
      "|       6       | 2020,08 |      4      |    4    |    0    |   4.0    |\n",
      "+---------------+---------+-------------+---------+---------+----------+\n",
      "|       6       | 2020,22 |      2      |    0    |    2    |   0.0    |\n",
      "+---------------+---------+-------------+---------+---------+----------+\n",
      "|       7       | 2020,13 |      4      |    1    |    3    | 0.333333 |\n",
      "+---------------+---------+-------------+---------+---------+----------+\n",
      "|       7       | 2020,14 |     87      |   23    |   64    | 0.359375 |\n",
      "+---------------+---------+-------------+---------+---------+----------+\n",
      "|       7       | 2020,15 |     95      |   21    |   74    | 0.283784 |\n",
      "+---------------+---------+-------------+---------+---------+----------+\n",
      "|       7       | 2020,16 |     69      |   10    |   59    | 0.169492 |\n",
      "+---------------+---------+-------------+---------+---------+----------+\n",
      "|       7       | 2020,17 |     78      |   20    |   58    | 0.344828 |\n",
      "+---------------+---------+-------------+---------+---------+----------+\n",
      "|       7       | 2020,18 |     38      |    9    |   29    | 0.310345 |\n",
      "+---------------+---------+-------------+---------+---------+----------+\n",
      "|       7       | 2020,19 |     34      |    6    |   28    | 0.214286 |\n",
      "+---------------+---------+-------------+---------+---------+----------+\n",
      "|       7       | 2020,20 |      2      |    0    |    2    |   0.0    |\n",
      "+---------------+---------+-------------+---------+---------+----------+\n",
      "|       8       | 2020,16 |      1      |    1    |    0    |   1.0    |\n",
      "+---------------+---------+-------------+---------+---------+----------+\n",
      "|       8       | 2020,19 |      5      |    5    |    0    |   5.0    |\n",
      "+---------------+---------+-------------+---------+---------+----------+\n",
      "|       8       | 2020,20 |      8      |    8    |    0    |   8.0    |\n",
      "+---------------+---------+-------------+---------+---------+----------+\n",
      "|       8       | 2020,21 |      1      |    1    |    0    |   1.0    |\n",
      "+---------------+---------+-------------+---------+---------+----------+\n",
      "|       8       | 2020,22 |      2      |    2    |    0    |   2.0    |\n",
      "+---------------+---------+-------------+---------+---------+----------+\n",
      "|       9       | 2020,05 |      3      |    3    |    0    |   3.0    |\n",
      "+---------------+---------+-------------+---------+---------+----------+\n",
      "|       9       | 2020,07 |      1      |    0    |    1    |   0.0    |\n",
      "+---------------+---------+-------------+---------+---------+----------+\n",
      "|       9       | 2020,08 |      1      |    0    |    1    |   0.0    |\n",
      "+---------------+---------+-------------+---------+---------+----------+\n",
      "|       9       | 2020,09 |      1      |    0    |    1    |   0.0    |\n",
      "+---------------+---------+-------------+---------+---------+----------+\n",
      "|       9       | 2020,14 |      2      |    0    |    2    |   0.0    |\n",
      "+---------------+---------+-------------+---------+---------+----------+\n",
      "|       9       | 2020,15 |     55      |    7    |   48    | 0.145833 |\n",
      "+---------------+---------+-------------+---------+---------+----------+\n",
      "|       9       | 2020,16 |     13      |    3    |   10    |   0.3    |\n",
      "+---------------+---------+-------------+---------+---------+----------+\n",
      "|       9       | 2020,17 |      5      |    0    |    5    |   0.0    |\n",
      "+---------------+---------+-------------+---------+---------+----------+\n",
      "|       9       | 2020,18 |     13      |    4    |    9    | 0.444444 |\n",
      "+---------------+---------+-------------+---------+---------+----------+\n",
      "|       9       | 2020,19 |      9      |    2    |    7    | 0.285714 |\n",
      "+---------------+---------+-------------+---------+---------+----------+\n",
      "|       9       | 2020,20 |     11      |    0    |   11    |   0.0    |\n",
      "+---------------+---------+-------------+---------+---------+----------+\n",
      "|       9       | 2020,21 |      7      |    0    |    7    |   0.0    |\n",
      "+---------------+---------+-------------+---------+---------+----------+\n",
      "|       9       | 2020,22 |     22      |   14    |    8    |   1.75   |\n",
      "+---------------+---------+-------------+---------+---------+----------+\n",
      "|      10       | 2018,16 |      2      |    0    |    2    |   0.0    |\n",
      "+---------------+---------+-------------+---------+---------+----------+\n",
      "|      10       | 2018,35 |      1      |    1    |    0    |   1.0    |\n",
      "+---------------+---------+-------------+---------+---------+----------+\n",
      "|      10       | 2020,06 |      2      |    1    |    1    |   1.0    |\n",
      "+---------------+---------+-------------+---------+---------+----------+\n",
      "|      10       | 2020,08 |      1      |    0    |    1    |   0.0    |\n",
      "+---------------+---------+-------------+---------+---------+----------+\n",
      "|      10       | 2020,13 |      1      |    1    |    0    |   1.0    |\n",
      "+---------------+---------+-------------+---------+---------+----------+\n",
      "|      10       | 2020,14 |     196     |   34    |   162   | 0.209877 |\n",
      "+---------------+---------+-------------+---------+---------+----------+\n",
      "|      10       | 2020,15 |     556     |   114   |   442   | 0.257919 |\n",
      "+---------------+---------+-------------+---------+---------+----------+\n",
      "|      10       | 2020,16 |     692     |   152   |   540   | 0.281481 |\n",
      "+---------------+---------+-------------+---------+---------+----------+\n",
      "|      10       | 2020,17 |     257     |   41    |   216   | 0.189815 |\n",
      "+---------------+---------+-------------+---------+---------+----------+\n",
      "|      10       | 2020,18 |     794     |   177   |   617   | 0.286872 |\n",
      "+---------------+---------+-------------+---------+---------+----------+\n",
      "|      10       | 2020,19 |     140     |   28    |   112   |   0.25   |\n",
      "+---------------+---------+-------------+---------+---------+----------+\n",
      "|      10       | 2020,20 |     315     |   86    |   229   | 0.375546 |\n",
      "+---------------+---------+-------------+---------+---------+----------+\n",
      "|      10       | 2020,21 |     261     |   73    |   188   | 0.388298 |\n",
      "+---------------+---------+-------------+---------+---------+----------+\n",
      "|      10       | 2020,22 |     325     |   69    |   256   | 0.269531 |\n",
      "+---------------+---------+-------------+---------+---------+----------+\n",
      "|      11       | 2020,04 |     163     |    5    |   158   | 0.031646 |\n",
      "+---------------+---------+-------------+---------+---------+----------+\n",
      "|      11       | 2020,05 |     39      |    7    |   32    | 0.21875  |\n",
      "+---------------+---------+-------------+---------+---------+----------+\n",
      "|      11       | 2020,06 |     29      |    2    |   27    | 0.074074 |\n",
      "+---------------+---------+-------------+---------+---------+----------+\n",
      "|      11       | 2020,07 |     19      |    0    |   19    |   0.0    |\n",
      "+---------------+---------+-------------+---------+---------+----------+\n",
      "|      11       | 2020,08 |      7      |    0    |    7    |   0.0    |\n",
      "+---------------+---------+-------------+---------+---------+----------+\n",
      "|      11       | 2020,09 |     28      |    0    |   28    |   0.0    |\n",
      "+---------------+---------+-------------+---------+---------+----------+\n",
      "|      11       | 2020,13 |      1      |    0    |    1    |   0.0    |\n",
      "+---------------+---------+-------------+---------+---------+----------+\n",
      "|      11       | 2020,14 |     36      |   19    |   17    | 1.117647 |\n",
      "+---------------+---------+-------------+---------+---------+----------+\n",
      "|      11       | 2020,15 |     66      |   21    |   45    | 0.466667 |\n",
      "+---------------+---------+-------------+---------+---------+----------+\n",
      "|      11       | 2020,16 |     367     |   50    |   317   | 0.157729 |\n",
      "+---------------+---------+-------------+---------+---------+----------+\n",
      "|      11       | 2020,17 |     67      |   20    |   47    | 0.425532 |\n",
      "+---------------+---------+-------------+---------+---------+----------+\n",
      "|      11       | 2020,18 |     90      |   18    |   72    |   0.25   |\n",
      "+---------------+---------+-------------+---------+---------+----------+\n",
      "|      11       | 2020,19 |     40      |   14    |   26    | 0.538462 |\n",
      "+---------------+---------+-------------+---------+---------+----------+\n",
      "|      11       | 2020,20 |     48      |   11    |   37    | 0.297297 |\n",
      "+---------------+---------+-------------+---------+---------+----------+\n",
      "|      11       | 2020,21 |     27      |   24    |    3    |   8.0    |\n",
      "+---------------+---------+-------------+---------+---------+----------+\n",
      "|      11       | 2020,22 |     17      |   11    |    6    | 1.833333 |\n",
      "+---------------+---------+-------------+---------+---------+----------+\n",
      "|      12       | 2020,04 |      1      |    0    |    1    |   0.0    |\n",
      "+---------------+---------+-------------+---------+---------+----------+\n",
      "|      12       | 2020,05 |     13      |    7    |    6    | 1.166667 |\n",
      "+---------------+---------+-------------+---------+---------+----------+\n",
      "|      12       | 2020,06 |      3      |    1    |    2    |   0.5    |\n",
      "+---------------+---------+-------------+---------+---------+----------+\n",
      "|      12       | 2020,07 |      2      |    2    |    0    |   2.0    |\n",
      "+---------------+---------+-------------+---------+---------+----------+\n",
      "|      12       | 2020,08 |      5      |    0    |    5    |   0.0    |\n",
      "+---------------+---------+-------------+---------+---------+----------+\n",
      "|      12       | 2020,09 |      3      |    1    |    2    |   0.5    |\n",
      "+---------------+---------+-------------+---------+---------+----------+\n",
      "|      12       | 2020,14 |      5      |    5    |    0    |   5.0    |\n",
      "+---------------+---------+-------------+---------+---------+----------+\n",
      "|      12       | 2020,15 |     31      |    2    |   29    | 0.068966 |\n",
      "+---------------+---------+-------------+---------+---------+----------+\n",
      "|      12       | 2020,16 |     58      |   10    |   48    | 0.208333 |\n",
      "+---------------+---------+-------------+---------+---------+----------+\n",
      "|      12       | 2020,17 |     16      |    6    |   10    |   0.6    |\n",
      "+---------------+---------+-------------+---------+---------+----------+\n",
      "|      12       | 2020,18 |     40      |   14    |   26    | 0.538462 |\n",
      "+---------------+---------+-------------+---------+---------+----------+\n",
      "|      12       | 2020,19 |     48      |    6    |   42    | 0.142857 |\n",
      "+---------------+---------+-------------+---------+---------+----------+\n",
      "|      12       | 2020,20 |     37      |    5    |   32    | 0.15625  |\n",
      "+---------------+---------+-------------+---------+---------+----------+\n",
      "|      12       | 2020,21 |     62      |   15    |   47    | 0.319149 |\n",
      "+---------------+---------+-------------+---------+---------+----------+\n",
      "|      12       | 2020,22 |     16      |    3    |   13    | 0.230769 |\n",
      "+---------------+---------+-------------+---------+---------+----------+\n",
      "|      13       | 2020,04 |     10      |    4    |    6    | 0.666667 |\n",
      "+---------------+---------+-------------+---------+---------+----------+\n",
      "|      13       | 2020,05 |     40      |    5    |   35    | 0.142857 |\n",
      "+---------------+---------+-------------+---------+---------+----------+\n",
      "|      13       | 2020,06 |      2      |    2    |    0    |   2.0    |\n",
      "+---------------+---------+-------------+---------+---------+----------+\n",
      "|      13       | 2020,07 |      6      |    1    |    5    |   0.2    |\n",
      "+---------------+---------+-------------+---------+---------+----------+\n",
      "|      13       | 2020,08 |      5      |    0    |    5    |   0.0    |\n",
      "+---------------+---------+-------------+---------+---------+----------+\n",
      "|      13       | 2020,09 |     10      |    1    |    9    | 0.111111 |\n",
      "+---------------+---------+-------------+---------+---------+----------+\n",
      "|      13       | 2020,14 |     121     |   42    |   79    | 0.531646 |\n",
      "+---------------+---------+-------------+---------+---------+----------+\n",
      "|      13       | 2020,15 |     154     |   45    |   109   | 0.412844 |\n",
      "+---------------+---------+-------------+---------+---------+----------+\n",
      "|      13       | 2020,16 |     518     |   113   |   405   | 0.279012 |\n",
      "+---------------+---------+-------------+---------+---------+----------+\n",
      "|      13       | 2020,17 |     359     |   132   |   227   | 0.581498 |\n",
      "+---------------+---------+-------------+---------+---------+----------+\n",
      "|      13       | 2020,18 |     402     |   108   |   294   | 0.367347 |\n",
      "+---------------+---------+-------------+---------+---------+----------+\n",
      "|      13       | 2020,19 |     136     |   28    |   108   | 0.259259 |\n",
      "+---------------+---------+-------------+---------+---------+----------+\n",
      "|      13       | 2020,20 |     191     |   43    |   148   | 0.290541 |\n",
      "+---------------+---------+-------------+---------+---------+----------+\n",
      "|      13       | 2020,21 |     68      |   18    |   50    |   0.36   |\n",
      "+---------------+---------+-------------+---------+---------+----------+\n",
      "|      13       | 2020,22 |     150     |   19    |   131   | 0.145038 |\n",
      "+---------------+---------+-------------+---------+---------+----------+\n",
      "|      14       | 2020,14 |      2      |    0    |    2    |   0.0    |\n",
      "+---------------+---------+-------------+---------+---------+----------+\n",
      "|      14       | 2020,15 |     11      |    1    |   10    |   0.1    |\n",
      "+---------------+---------+-------------+---------+---------+----------+\n",
      "|      14       | 2020,16 |     20      |   13    |    7    | 1.857143 |\n",
      "+---------------+---------+-------------+---------+---------+----------+\n",
      "|      14       | 2020,17 |      9      |    7    |    2    |   3.5    |\n",
      "+---------------+---------+-------------+---------+---------+----------+\n",
      "|      14       | 2020,18 |     15      |    4    |   11    | 0.363636 |\n",
      "+---------------+---------+-------------+---------+---------+----------+\n",
      "|      14       | 2020,19 |      1      |    0    |    1    |   0.0    |\n",
      "+---------------+---------+-------------+---------+---------+----------+\n",
      "|      14       | 2020,20 |      5      |    0    |    5    |   0.0    |\n",
      "+---------------+---------+-------------+---------+---------+----------+\n",
      "|      14       | 2020,22 |      1      |    0    |    1    |   0.0    |\n",
      "+---------------+---------+-------------+---------+---------+----------+\n",
      "\n"
     ]
    }
   ],
   "source": [
    "rows = [[\"Conspiracy Id\", \"Week\", \"Tweet Count\", \"Extreme\", \"Neutral\", \"Ratio\"]]\n",
    "for c in range(len(conspiracies)):\n",
    "    week_twids = con_week_twids[c]\n",
    "    week_nums = list(week_twids.keys())\n",
    "    week_nums.sort()\n",
    "    for week in week_nums:\n",
    "        week_data = week_twids[week]\n",
    "        extreme = sum([abs(tweet_sen[twid][\"compound\"]) > 0.5 for twid in week_data])\n",
    "        neutral = len(week_data) - extreme\n",
    "        rows.append(\n",
    "            (\n",
    "                c + 1,\n",
    "                week,\n",
    "                len(week_data),\n",
    "                extreme,\n",
    "                neutral,\n",
    "                round(extreme / max(1, neutral), 6),\n",
    "            )\n",
    "        )\n",
    "# Print the calculated rows & remove the first row, because it won't be used in the future\n",
    "print_2d(rows)\n",
    "del rows[0]"
   ]
  },
  {
   "cell_type": "markdown",
   "id": "f719ff8c",
   "metadata": {},
   "source": [
    "#### Step 4: Create conspiracy.weekly_sentiment table"
   ]
  },
  {
   "cell_type": "code",
   "execution_count": 25,
   "id": "dff7b536",
   "metadata": {},
   "outputs": [
    {
     "name": "stdout",
     "output_type": "stream",
     "text": [
      "Table conspiracy.weekly_sentiment:\n",
      "\n",
      "+---------------------+-----------+--------------+---------------------------------------------------------+----------+\n",
      "|     Column Name     | Data Type | Max Char Len |                      Default Value                      | Nullable |\n",
      "+---------------------+-----------+--------------+---------------------------------------------------------+----------+\n",
      "|         id          |  integer  |     None     | nextval('conspiracy.weekly_sentiment_id_seq'::regclass) |    NO    |\n",
      "+---------------------+-----------+--------------+---------------------------------------------------------+----------+\n",
      "|    conspiracy_id    | smallint  |     None     |                          None                           |    NO    |\n",
      "+---------------------+-----------+--------------+---------------------------------------------------------+----------+\n",
      "|        week         | character |      7       |                          None                           |    NO    |\n",
      "+---------------------+-----------+--------------+---------------------------------------------------------+----------+\n",
      "|     tweet_count     |  integer  |     None     |                          None                           |    NO    |\n",
      "+---------------------+-----------+--------------+---------------------------------------------------------+----------+\n",
      "| tweet_extreme_count |  integer  |     None     |                          None                           |    NO    |\n",
      "+---------------------+-----------+--------------+---------------------------------------------------------+----------+\n",
      "| tweet_neutral_count |  integer  |     None     |                          None                           |    NO    |\n",
      "+---------------------+-----------+--------------+---------------------------------------------------------+----------+\n",
      "|     tweet_ratio     |  numeric  |     None     |                          None                           |    NO    |\n",
      "+---------------------+-----------+--------------+---------------------------------------------------------+----------+\n",
      "\n",
      "\n"
     ]
    }
   ],
   "source": [
    "# Drop table created by previous executions of this jupyter notebook\n",
    "cur.execute(\"DROP TABLE IF EXISTS conspiracy.weekly_sentiment\")\n",
    "\n",
    "# Create table for weekly_sentiment\n",
    "cur.execute(\n",
    "    \"CREATE TABLE conspiracy.weekly_sentiment (\"\n",
    "    \"id SERIAL PRIMARY KEY NOT NULL,\"\n",
    "    + \"conspiracy_id SMALLINT NOT NULL,\"\n",
    "    + \"week CHAR(7) NOT NULL,\"\n",
    "    + \"tweet_count INT NOT NULL,\"\n",
    "    + \"tweet_extreme_count INT NOT NULL,\"\n",
    "    + \"tweet_neutral_count INT NOT NULL,\"\n",
    "    + \"tweet_ratio NUMERIC(7,6) NOT NULL\"\n",
    "    + \")\"\n",
    ")\n",
    "\n",
    "# Describe the newly created table\n",
    "describe_tables([\"conspiracy.weekly_sentiment\"])"
   ]
  },
  {
   "cell_type": "markdown",
   "id": "6dc8fbac",
   "metadata": {},
   "source": [
    "#### Step 5: Insert the calculated weekly sentiment ratios to the conspiracy.weekly_sentiment table"
   ]
  },
  {
   "cell_type": "code",
   "execution_count": 26,
   "id": "723f9649",
   "metadata": {},
   "outputs": [
    {
     "name": "stdout",
     "output_type": "stream",
     "text": [
      "Table conspiracy.weekly_sentiment:\n",
      "\n",
      "+----+---+---------+-----+----+-----+----------+\n",
      "| 1  | 1 | 2020,09 |  2  | 0  |  2  | 0.000000 |\n",
      "+----+---+---------+-----+----+-----+----------+\n",
      "| 2  | 1 | 2020,14 | 128 | 71 | 57  | 1.245614 |\n",
      "+----+---+---------+-----+----+-----+----------+\n",
      "| 3  | 1 | 2020,15 | 231 | 57 | 174 | 0.327586 |\n",
      "+----+---+---------+-----+----+-----+----------+\n",
      "| 4  | 1 | 2020,16 | 213 | 3  | 210 | 0.014286 |\n",
      "+----+---+---------+-----+----+-----+----------+\n",
      "| 5  | 1 | 2020,17 | 32  | 4  | 28  | 0.142857 |\n",
      "+----+---+---------+-----+----+-----+----------+\n",
      "| 6  | 1 | 2020,18 | 38  | 9  | 29  | 0.310345 |\n",
      "+----+---+---------+-----+----+-----+----------+\n",
      "| 7  | 1 | 2020,19 | 15  | 0  | 15  | 0.000000 |\n",
      "+----+---+---------+-----+----+-----+----------+\n",
      "| 8  | 1 | 2020,20 | 29  | 3  | 26  | 0.115385 |\n",
      "+----+---+---------+-----+----+-----+----------+\n",
      "| 9  | 1 | 2020,21 |  2  | 0  |  2  | 0.000000 |\n",
      "+----+---+---------+-----+----+-----+----------+\n",
      "| 10 | 1 | 2020,22 | 11  | 7  |  4  | 1.750000 |\n",
      "+----+---+---------+-----+----+-----+----------+\n",
      "| 11 | 2 | 2017,22 |  1  | 1  |  0  | 1.000000 |\n",
      "+----+---+---------+-----+----+-----+----------+\n",
      "| 12 | 2 | 2018,13 |  1  | 0  |  1  | 0.000000 |\n",
      "+----+---+---------+-----+----+-----+----------+\n",
      "| 13 | 2 | 2018,14 |  1  | 0  |  1  | 0.000000 |\n",
      "+----+---+---------+-----+----+-----+----------+\n",
      "| 14 | 2 | 2018,20 |  1  | 0  |  1  | 0.000000 |\n",
      "+----+---+---------+-----+----+-----+----------+\n",
      "| 15 | 2 | 2018,36 |  1  | 1  |  0  | 1.000000 |\n",
      "+----+---+---------+-----+----+-----+----------+\n",
      "\n",
      "\n"
     ]
    }
   ],
   "source": [
    "cur.execute(\n",
    "    \"INSERT INTO conspiracy.weekly_sentiment \"\n",
    "    + \"(conspiracy_id,week,tweet_count,tweet_extreme_count,tweet_neutral_count,tweet_ratio) VALUES \"\n",
    "    + str(rows)[1:-1]\n",
    ")\n",
    "sample_tables([\"conspiracy.weekly_sentiment\"], 15)"
   ]
  },
  {
   "cell_type": "markdown",
   "id": "b61dc203",
   "metadata": {},
   "source": [
    "#### Step 6: Find the week of the first & last tweet of each conspiracy theory"
   ]
  },
  {
   "cell_type": "code",
   "execution_count": 27,
   "id": "5e74fb30",
   "metadata": {},
   "outputs": [],
   "source": [
    "charts_from_to = []\n",
    "for r in rows[1:]:\n",
    "    if r[0] is not len(charts_from_to):\n",
    "        charts_from_to.append([r[1], r[1]])\n",
    "    else:\n",
    "        charts_from_to[-1][1] = r[1]"
   ]
  },
  {
   "cell_type": "markdown",
   "id": "1edc0033",
   "metadata": {},
   "source": [
    "#### Step 7: Calculate the visualizable weeks for each conspiracy theory"
   ]
  },
  {
   "cell_type": "code",
   "execution_count": 29,
   "id": "f5047efd",
   "metadata": {},
   "outputs": [],
   "source": [
    "from datetime import date\n",
    "\n",
    "# Properly increment week numbers, taking into account years with 53 weeks as well\n",
    "def next_week(week):\n",
    "    # The last week of a year can be 1 (first week of next year), 52 or 53 according to ISO calendar standards\n",
    "    last_week = 53 if date(week[0], 12, 31).isocalendar()[1] == 53 else 52\n",
    "\n",
    "    # Increment week count if we are not at last week of the year, otherwise return next year, week 1\n",
    "    return (week[0], week[1] + 1) if week[1] < last_week else (week[0] + 1, 1)\n",
    "\n",
    "\n",
    "# Variable used for storing the lists of visualizable weeks for each conspiracy\n",
    "charts_weeks = []\n",
    "\n",
    "# Loop through all the conspiracies\n",
    "for c in range(len(conspiracies)):\n",
    "    # Convert back the week string to (year, week) tuple format\n",
    "    from_to = charts_from_to[len(charts_weeks)]\n",
    "    week = tuple(int(e) for e in from_to[0].split(\",\"))\n",
    "    to = tuple(int(e) for e in from_to[1].split(\",\"))\n",
    "\n",
    "    # Add all weeks in the given interval to the list of visualizable weeks\n",
    "    weeks = []\n",
    "    while week <= to:\n",
    "        weeks.append(week)\n",
    "        week = next_week(week)\n",
    "    charts_weeks.append(weeks)"
   ]
  },
  {
   "cell_type": "markdown",
   "id": "bc2beab7",
   "metadata": {},
   "source": [
    "#### Step 8: Convert sentiment ratios to list of sentiment ratio value for each visualizable week"
   ]
  },
  {
   "cell_type": "code",
   "execution_count": 30,
   "id": "04e2006d",
   "metadata": {},
   "outputs": [],
   "source": [
    "# Index sentiment rows to dictionaries for faster and easier search later\n",
    "sentiment_index=tuple(dict() for c in range(len(conspiracies)))\n",
    "for r in rows:\n",
    "    sentiment_index[r[0]-1][tuple(int(e) for e in r[1].split(','))] = r[-1]\n",
    "\n",
    "# Create lists of sentiment ratios\n",
    "charts_sentiments=tuple([] for c in range(len(conspiracies)))\n",
    "for c in range(len(conspiracies)):\n",
    "    for week in charts_weeks[c]:\n",
    "        el=sentiment_index[c].get(week,0.0)\n",
    "        charts_sentiments[c].append(el)"
   ]
  },
  {
   "cell_type": "markdown",
   "id": "561382b3",
   "metadata": {},
   "source": [
    "#### Step 9: Visualize sentiment ratios for each conspiracy theory"
   ]
  },
  {
   "cell_type": "code",
   "execution_count": 31,
   "id": "af7b8c40",
   "metadata": {
    "scrolled": false
   },
   "outputs": [
    {
     "data": {
      "image/png": "[encoded data removed]",
      "text/plain": [
       "<Figure size 1120x320 with 1 Axes>"
      ]
     },
     "metadata": {
      "needs_background": "light"
     },
     "output_type": "display_data"
    },
    {
     "data": {
      "image/png": "[encoded data removed]",
      "text/plain": [
       "<Figure size 1120x320 with 1 Axes>"
      ]
     },
     "metadata": {
      "needs_background": "light"
     },
     "output_type": "display_data"
    },
    {
     "data": {
      "image/png": "[encoded data removed]",
      "text/plain": [
       "<Figure size 1120x320 with 1 Axes>"
      ]
     },
     "metadata": {
      "needs_background": "light"
     },
     "output_type": "display_data"
    },
    {
     "data": {
      "image/png": "[encoded data removed]",
      "text/plain": [
       "<Figure size 1120x320 with 1 Axes>"
      ]
     },
     "metadata": {
      "needs_background": "light"
     },
     "output_type": "display_data"
    },
    {
     "data": {
      "image/png": "[encoded data removed]",
      "text/plain": [
       "<Figure size 1120x320 with 1 Axes>"
      ]
     },
     "metadata": {
      "needs_background": "light"
     },
     "output_type": "display_data"
    },
    {
     "data": {
      "image/png": "[encoded data removed]",
      "text/plain": [
       "<Figure size 1120x320 with 1 Axes>"
      ]
     },
     "metadata": {
      "needs_background": "light"
     },
     "output_type": "display_data"
    },
    {
     "data": {
      "image/png": "[encoded data removed]",
      "text/plain": [
       "<Figure size 1120x320 with 1 Axes>"
      ]
     },
     "metadata": {
      "needs_background": "light"
     },
     "output_type": "display_data"
    },
    {
     "data": {
      "image/png": "[encoded data removed]",
      "text/plain": [
       "<Figure size 1120x320 with 1 Axes>"
      ]
     },
     "metadata": {
      "needs_background": "light"
     },
     "output_type": "display_data"
    },
    {
     "data": {
      "image/png": "[encoded data removed]",
      "text/plain": [
       "<Figure size 1120x320 with 1 Axes>"
      ]
     },
     "metadata": {
      "needs_background": "light"
     },
     "output_type": "display_data"
    },
    {
     "data": {
      "image/png": "[encoded data removed]",
      "text/plain": [
       "<Figure size 1120x320 with 1 Axes>"
      ]
     },
     "metadata": {
      "needs_background": "light"
     },
     "output_type": "display_data"
    },
    {
     "data": {
      "image/png": "[encoded data removed]",
      "text/plain": [
       "<Figure size 1120x320 with 1 Axes>"
      ]
     },
     "metadata": {
      "needs_background": "light"
     },
     "output_type": "display_data"
    },
    {
     "data": {
      "image/png": "[encoded data removed]",
      "text/plain": [
       "<Figure size 1120x320 with 1 Axes>"
      ]
     },
     "metadata": {
      "needs_background": "light"
     },
     "output_type": "display_data"
    },
    {
     "data": {
      "image/png": "[encoded data removed]",
      "text/plain": [
       "<Figure size 1120x320 with 1 Axes>"
      ]
     },
     "metadata": {
      "needs_background": "light"
     },
     "output_type": "display_data"
    },
    {
     "data": {
      "image/png": "[encoded data removed]",
      "text/plain": [
       "<Figure size 1120x320 with 1 Axes>"
      ]
     },
     "metadata": {
      "needs_background": "light"
     },
     "output_type": "display_data"
    }
   ],
   "source": [
    "import matplotlib.pyplot as plt\n",
    "\n",
    "# For some conspiracies we have too many weeks of sentiment data.\n",
    "# For displaying the labels of x-axis properly we need to reduce\n",
    "# the amount of displayed xticks manually by using this function\n",
    "def reduce_xticks(xticks, xtick_names, limit):\n",
    "    if len(xticks)<=limit:\n",
    "        return xticks, xtick_names\n",
    "    reduced_xticks = []\n",
    "    reduced_xtick_names = []\n",
    "    count=len(xticks)\n",
    "    for i in range(0,count,round(count/limit)):\n",
    "        reduced_xticks.append(xticks[i])\n",
    "        reduced_xtick_names.append(xtick_names[i])\n",
    "    \n",
    "    return reduced_xticks, reduced_xtick_names\n",
    "        \n",
    "# Loop through all the conspiracies\n",
    "for c in range(len(conspiracies)):\n",
    "    # Increase figure sizes\n",
    "    plt.figure(figsize=(14, 4), dpi=80)\n",
    "    \n",
    "    # Generate and reduce xticks, xtick names\n",
    "    xticks=range(len(charts_weeks[c]))\n",
    "    xtick_names=tuple('  '+str(e[0])+', '+str(e[1]).zfill(2) for e in charts_weeks[c])\n",
    "    reduced_xticks, reduced_xtick_names = reduce_xticks(xticks, xtick_names, 20)\n",
    "    \n",
    "    # Plot all xticks, label reduced xticks\n",
    "    plt.plot(xticks,charts_sentiments[c])\n",
    "    plt.xticks(reduced_xticks,reduced_xtick_names,rotation='vertical')\n",
    "    \n",
    "    # Set chart title & axis labels\n",
    "    plt.title(conspiracies[c])\n",
    "    plt.xlabel('week')\n",
    "    plt.ylabel('sentiment')\n",
    "    \n",
    "    # Render the chart\n",
    "    plt.show()"
   ]
  },
  {
   "cell_type": "markdown",
   "id": "9e4cfda5",
   "metadata": {},
   "source": [
    "## Task 5 - Find Top 10 most active accounts in all extreme sentiment conspiracy theories"
   ]
  },
  {
   "cell_type": "markdown",
   "id": "5111277a",
   "metadata": {},
   "source": [
    "## Task 6 - Find Top 10 most used hashtags for each exteme sentiment conspiracy theories "
   ]
  }
 ],
 "metadata": {
  "kernelspec": {
   "display_name": "Python 3",
   "language": "python",
   "name": "python3"
  },
  "language_info": {
   "codemirror_mode": {
    "name": "ipython",
    "version": 3
   },
   "file_extension": ".py",
   "mimetype": "text/x-python",
   "name": "python",
   "nbconvert_exporter": "python",
   "pygments_lexer": "ipython3",
   "version": "3.8.8"
  }
 },
 "nbformat": 4,
 "nbformat_minor": 5
}
