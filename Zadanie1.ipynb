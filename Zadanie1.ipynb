{
 "cells": [
  {
   "cell_type": "markdown",
   "id": "b437beb8",
   "metadata": {},
   "source": [
    "# Zadanie 1 – analýza tweetov  \n",
    "Odovzdanie do 10.10.2021 23:59 – máte na to presne 2 týždne – dostanete za to 7,5 boda. \n",
    " \n",
    "Prvé zadanie je zamerané na roztriedenie tweetov medzi rôzne konšpiračné teórie uvedené \n",
    "pod zadaním. Programovať môžete v hocijakom jazyku a váš zdroják sa odovzdáva to IS, no \n",
    "rovnako MUSÍ byť zavesený na vašom githube – v dokumente na začiatku uveďte vždy linku \n",
    "na projekt. Ak nebude GitHub, nebudú body. Okrem zdrojáku odovzdávate aj dokument kde \n",
    "budú screenshoty vašich výsledkov, výsledky ako text a grafy. Môžete napísať aj nejaké teplé \n",
    "slovko k tomu, nech sa pobavíme. \n",
    " \n",
    "Vašou úlohou je teda: \n",
    " \n",
    "1. Importovať dataset do PostgreSQL 13+: \n",
    "https://drive.google.com/drive/folders/1_crPerzWU2Nzc4mR5k6xuGqbp0fJDvsY?usp=sharing \n",
    " \n",
    "2. Vypočítať sentiment pomocou VADER lexikónu \n",
    "https://towardsdatascience.com/sentimental-analysis-using-vader-a3415fef7664 pre \n",
    "tweety, ktoré obsahujú nasledovné hashtagy: #DeepstateVirus #DeepStateVaccine \n",
    "#DeepStateFauci #QAnon #Agenda21 #CCPVirus #ClimateChangeHoax \n",
    "#GlobalWarmingHoax #ChinaLiedPeopleDied #SorosVirus #5GCoronavirus #MAGA \n",
    "#WWG1WGA #Chemtrails #flatEarth #MoonLandingHoax #moonhoax #illuminati \n",
    "#pizzaGateIsReal #PedoGateIsReal #911truth #911insidejob #reptilians \n",
    "Pri výpočte nezohľadňujte (ignorujte) emotikony ani hashtagy ani mentiony v texte. \n",
    " \n",
    "3. Roztriediť vyfiltrované tweety z predošlého zadania medzi konšpiračné teórie – \n",
    "spravte si na to novú tabuľku a mapovanie – nech je jasné ktorý tweet patrí ktorej \n",
    "konšpiračnej teórii.  \n",
    " \n",
    "4. Vypočítajte pomer extrémnych a neutrálnych sentimentov tweetov pre konšpiračné \n",
    "teórie po týždňoch a zistite, či daná konšpiračná teória rastie alebo upadá v čase. \n",
    "Výstup vizualizujte v grafe. Rovnako uveďte aj absolútne čísla: tweet_count, \n",
    "tweet_extreme_count, tweet_neutral_count v tabuľke pre každý týždeň. Za extrém \n",
    "považujeme keď je compound väčší ako 0,5 alebo menší ako -0,5. \n",
    " \n",
    "5. Nájdite TOP10 account-ov ktoré sú najaktívnejšie v každej konšpiračnej teórii \n",
    "s extrémnym sentimentom a ukážte ich v tabuľke: id, name, screen_name a \n",
    "tweet_count. \n",
    " \n",
    "6. Nájdite TOP10 najčastejšie používaných hashtagov pre každú konšpiračnú teóriu \n",
    "z tweetov s extrémnym sentimentom, vypíšte aj počet. \n",
    " \n",
    "V úvahu berte nasledovné konšpiračné teórie a ich hashtagy."
   ]
  },
  {
   "cell_type": "markdown",
   "id": "a0e5e7cc",
   "metadata": {},
   "source": [
    "## Database structure\n",
    "\n",
    "![DB structure](Zadanie1-TweetsDB.jpeg)"
   ]
  },
  {
   "cell_type": "markdown",
   "id": "d5b55661",
   "metadata": {},
   "source": [
    "# === Solution ===\n",
    "## by Bc. Juraj Baráth"
   ]
  },
  {
   "cell_type": "markdown",
   "id": "6a763c39",
   "metadata": {},
   "source": [
    "## Task 1 - Import dataset to PostgreSQL 13+\n",
    "\n",
    "#### Step 1: Install postgis extension\n",
    "`apt install -y postgis postgresql-postgis`\n",
    "\n",
    "#### Step 2: Create new empty database\n",
    "`su postgres`\n",
    "\n",
    "`psql`\n",
    "```\n",
    "CREATE DATABASE tweets;\n",
    "quit;\n",
    "```\n",
    "`logout`\n",
    "\n",
    "#### Step 3: Import the database \n",
    "`screen -dmS pdt pg_restore -v -d tweets tweets.backup`"
   ]
  },
  {
   "cell_type": "markdown",
   "id": "594aad8f",
   "metadata": {},
   "source": [
    "## Task 2 - Sentiment Calculation using VADER"
   ]
  },
  {
   "cell_type": "markdown",
   "id": "19d37d49",
   "metadata": {},
   "source": [
    "#### Step 1: Grant read only access to a new database user\n",
    "`su postgres`\n",
    "\n",
    "`psql -d tweets`\n",
    "\n",
    "```\n",
    "CREATE USER pdt with password '9kRoaGZN5EcgTeDM';\n",
    "GRANT CONNECT ON DATABASE tweets TO pdt;\n",
    "GRANT USAGE ON SCHEMA public TO pdt;\n",
    "GRANT SELECT ON ALL TABLES IN SCHEMA public TO pdt;\n",
    "quit;\n",
    "```\n",
    "\n",
    "`logout`\n",
    "\n",
    "#### Step 2: Install pip\n",
    "`apt install -y python3-pip`\n",
    "\n",
    "#### Step 3: Install postgresql connector (psycopg2) dependencies\n",
    "`apt-get install -y libpq-dev`\n",
    "\n",
    "#### Step 4: Install postgresql connector (psycopg2)\n",
    "`pip install psycopg2`"
   ]
  },
  {
   "cell_type": "markdown",
   "id": "f6b7e124",
   "metadata": {},
   "source": [
    "#### Step 5: Initialize Vader"
   ]
  },
  {
   "cell_type": "code",
   "execution_count": 4,
   "id": "f3753281",
   "metadata": {},
   "outputs": [
    {
     "name": "stderr",
     "output_type": "stream",
     "text": [
      "[nltk_data] Downloading package vader_lexicon to /root/nltk_data...\n"
     ]
    },
    {
     "data": {
      "text/plain": [
       "True"
      ]
     },
     "execution_count": 4,
     "metadata": {},
     "output_type": "execute_result"
    }
   ],
   "source": [
    "# Download vader_lexicon\n",
    "import nltk\n",
    "nltk.download('vader_lexicon')"
   ]
  },
  {
   "cell_type": "code",
   "execution_count": 6,
   "id": "32f1b867",
   "metadata": {},
   "outputs": [],
   "source": [
    "# Create Sentiment Intensity Analyzer\n",
    "from nltk.sentiment.vader import SentimentIntensityAnalyzer\n",
    "sid = SentimentIntensityAnalyzer()"
   ]
  },
  {
   "cell_type": "markdown",
   "id": "c8c4df69",
   "metadata": {},
   "source": [
    "#### Step 6: Initialize database connection"
   ]
  },
  {
   "cell_type": "code",
   "execution_count": 60,
   "id": "df63060a",
   "metadata": {},
   "outputs": [],
   "source": [
    "# Connect to database\n",
    "import psycopg2\n",
    "conn = psycopg2.connect(\n",
    "    host=\"localhost\",\n",
    "    database=\"tweets\",\n",
    "    user=\"pdt\",\n",
    "    password=\"9kRoaGZN5EcgTeDM\")\n",
    "\n",
    "# Open a cursor to execute querries\n",
    "cur = conn.cursor()"
   ]
  },
  {
   "cell_type": "markdown",
   "id": "92a6b83a",
   "metadata": {},
   "source": [
    "#### Step 7: Describe available tables"
   ]
  },
  {
   "cell_type": "code",
   "execution_count": 61,
   "id": "fd8685ee",
   "metadata": {},
   "outputs": [
    {
     "name": "stdout",
     "output_type": "stream",
     "text": [
      "Available tables: ['accounts', 'countries', 'hashtags', 'spatial_ref_sys', 'tweet_hashtags', 'tweet_mentions', 'tweets']\n"
     ]
    }
   ],
   "source": [
    "# List available tables\n",
    "cur.execute(\"select tablename from pg_tables where schemaname='public'\")\n",
    "tables = [a[0] for a in cur.fetchall()]\n",
    "tables.sort()\n",
    "print('Available tables:',tables)"
   ]
  },
  {
   "cell_type": "code",
   "execution_count": 62,
   "id": "61912d93",
   "metadata": {
    "scrolled": true
   },
   "outputs": [
    {
     "name": "stdout",
     "output_type": "stream",
     "text": [
      "Table accounts:\n",
      "('id', 'bigint', None, \"nextval('accounts_id_seq'::regclass)\", 'NO')\n",
      "('screen_name', 'character varying', 200, None, 'YES')\n",
      "('name', 'character varying', 200, None, 'YES')\n",
      "('description', 'text', None, None, 'YES')\n",
      "('followers_count', 'integer', None, None, 'YES')\n",
      "('friends_count', 'integer', None, None, 'YES')\n",
      "('statuses_count', 'integer', None, None, 'YES')\n",
      "\n",
      "Table countries:\n",
      "('id', 'integer', None, \"nextval('countries_id_seq'::regclass)\", 'NO')\n",
      "('code', 'character varying', 2, None, 'YES')\n",
      "('name', 'character varying', 200, None, 'YES')\n",
      "\n",
      "Table hashtags:\n",
      "('id', 'integer', None, \"nextval('hashtags_id_seq'::regclass)\", 'NO')\n",
      "('value', 'text', None, None, 'NO')\n",
      "\n",
      "Table spatial_ref_sys:\n",
      "('srid', 'integer', None, None, 'NO')\n",
      "('auth_name', 'character varying', 256, None, 'YES')\n",
      "('auth_srid', 'integer', None, None, 'YES')\n",
      "('srtext', 'character varying', 2048, None, 'YES')\n",
      "('proj4text', 'character varying', 2048, None, 'YES')\n",
      "\n",
      "Table tweet_hashtags:\n",
      "('id', 'integer', None, \"nextval('tweet_hashtags_id_seq'::regclass)\", 'NO')\n",
      "('hashtag_id', 'integer', None, None, 'NO')\n",
      "('tweet_id', 'character varying', 20, None, 'NO')\n",
      "\n",
      "Table tweet_mentions:\n",
      "('id', 'integer', None, \"nextval('tweet_mentions_id_seq'::regclass)\", 'NO')\n",
      "('account_id', 'bigint', None, None, 'NO')\n",
      "('tweet_id', 'character varying', 20, None, 'NO')\n",
      "\n",
      "Table tweets:\n",
      "('id', 'character varying', 20, None, 'NO')\n",
      "('content', 'text', None, None, 'YES')\n",
      "('location', 'USER-DEFINED', None, None, 'YES')\n",
      "('retweet_count', 'integer', None, None, 'YES')\n",
      "('favorite_count', 'integer', None, None, 'YES')\n",
      "('happened_at', 'timestamp with time zone', None, None, 'YES')\n",
      "('author_id', 'bigint', None, None, 'YES')\n",
      "('country_id', 'integer', None, None, 'YES')\n",
      "('parent_id', 'character varying', 20, None, 'YES')\n",
      "\n"
     ]
    }
   ],
   "source": [
    "# Describe tables\n",
    "for t in tables:\n",
    "    print('Table '+t+':')\n",
    "    cur.execute(\"select column_name, data_type, character_maximum_length, column_default, is_nullable \" +\n",
    "            \"from INFORMATION_SCHEMA.COLUMNS where table_name = '\" + t + \"'\")\n",
    "    for r in cur.fetchall():\n",
    "        print(r)\n",
    "    print('')\n",
    "    "
   ]
  },
  {
   "cell_type": "code",
   "execution_count": 85,
   "id": "1cc3c40a",
   "metadata": {
    "scrolled": true
   },
   "outputs": [
    {
     "name": "stdout",
     "output_type": "stream",
     "text": [
      "Table accounts:\n",
      "(280887543, 'carol_cabural', 'Caroline Cabural ♔', \"Always look at things from the other person's perspective.\\n-Dale Carnegie \\nGarde Manger Chef| Hospitality Industry | Filipino\", 657, 1482, 4650)\n",
      "\n",
      "(519245371, 'strong_sue', 'Sue Strong 🇺🇸🇦🇺🇨🇦🇳🇿🇬🇧 #BidenHarris2020', '#HearHim, #ChurchOfJesusChrist, #StandUpRepublic, #TeamPatriot, #CountryOverParty, #ETTD, #Cats, #MS, TSB, GTT, #PAM, #PAMFAM #TeamJoe', 1469, 2636, 53614)\n",
      "\n",
      "(761224507, 'Chn_analysis', 'Paul Harding', '', 150, 357, 4993)\n",
      "\n",
      "(905154964829462528, 'thespybrief', 'The Spy Brief', None, None, None, None)\n",
      "\n",
      "(707774148072882176, 'hiemakene', 'GoneFishing', None, None, None, None)\n",
      "\n",
      "(1133475349285691393, 'KtyWise', 'Kty Wise', '', 161, 241, 21786)\n",
      "\n",
      "(532977876, 'Adrienne711', 'NeverGiveUp ⭐⭐⭐ 🐸', 'Trump2020 WWG1WGA  1A 2A AMERICA FIRST -  I ♥ God Country  & our President Donald J Trump   UnitedNotDivided WWG1WGA\\nShadilay!', 7335, 7033, 132331)\n",
      "\n",
      "(949056207448432640, 'MBJ8388', \"MBJ👩\\u200d💻NoFilters💥Q'Nited✨\", None, None, None, None)\n",
      "\n",
      "(479031878, 'FederalistNo78', 'Nova', None, None, None, None)\n",
      "\n",
      "(939182810417520640, 'Agortitz', 'Grumpy 😆 says Fauxciland is as cool as Disneyland', None, None, None, None)\n",
      "\n",
      "\n",
      "Table countries:\n",
      "(3477, 'VU', 'Vanuatu')\n",
      "(229941, 'JE', 'Jersey')\n",
      "(460, 'EE', 'Estonia')\n",
      "(21055, 'AI', 'Anguilla')\n",
      "(106359, 'CX', 'Christmas Island')\n",
      "(41381, 'HU', 'Hungary')\n",
      "(11486, 'CI', 'Ivory Coast')\n",
      "(365, 'FJ', 'Fiji')\n",
      "(60661, 'VA', 'Vatican City')\n",
      "(196641, 'TG', 'Togo')\n",
      "\n",
      "Table hashtags:\n",
      "(69906, 'fuckingsavages')\n",
      "(9255, 'rawsewage')\n",
      "(91904, 'ShehbaazOnFire')\n",
      "(1308, 'SARS2020')\n",
      "(69994, 'safetofly')\n",
      "(91886, 'SITREP')\n",
      "(77990, 'thanksChina')\n",
      "(78516, 'January25')\n",
      "(901, 'Xianning')\n",
      "(11066317, 'maskerTwins')\n",
      "\n",
      "Table spatial_ref_sys:\n",
      "(3819, 'EPSG', 3819, 'GEOGCS[\"HD1909\",DATUM[\"Hungarian_Datum_1909\",SPHEROID[\"Bessel 1841\",6377397.155,299.1528128,AUTHORITY[\"EPSG\",\"7004\"]],TOWGS84[595.48,121.69,515.35,4.115,-2.9383,0.853,-3.408],AUTHORITY[\"EPSG\",\"1024\"]],PRIMEM[\"Greenwich\",0,AUTHORITY[\"EPSG\",\"8901\"]],UNIT[\"degree\",0.0174532925199433,AUTHORITY[\"EPSG\",\"9122\"]],AUTHORITY[\"EPSG\",\"3819\"]]', '+proj=longlat +ellps=bessel +towgs84=595.48,121.69,515.35,4.115,-2.9383,0.853,-3.408 +no_defs ')\n",
      "\n",
      "(3821, 'EPSG', 3821, 'GEOGCS[\"TWD67\",DATUM[\"Taiwan_Datum_1967\",SPHEROID[\"GRS 1967 Modified\",6378160,298.25,AUTHORITY[\"EPSG\",\"7050\"]],AUTHORITY[\"EPSG\",\"1025\"]],PRIMEM[\"Greenwich\",0,AUTHORITY[\"EPSG\",\"8901\"]],UNIT[\"degree\",0.0174532925199433,AUTHORITY[\"EPSG\",\"9122\"]],AUTHORITY[\"EPSG\",\"3821\"]]', '+proj=longlat +ellps=aust_SA +no_defs ')\n",
      "\n",
      "(3824, 'EPSG', 3824, 'GEOGCS[\"TWD97\",DATUM[\"Taiwan_Datum_1997\",SPHEROID[\"GRS 1980\",6378137,298.257222101,AUTHORITY[\"EPSG\",\"7019\"]],TOWGS84[0,0,0,0,0,0,0],AUTHORITY[\"EPSG\",\"1026\"]],PRIMEM[\"Greenwich\",0,AUTHORITY[\"EPSG\",\"8901\"]],UNIT[\"degree\",0.0174532925199433,AUTHORITY[\"EPSG\",\"9122\"]],AUTHORITY[\"EPSG\",\"3824\"]]', '+proj=longlat +ellps=GRS80 +towgs84=0,0,0,0,0,0,0 +no_defs ')\n",
      "\n",
      "(3889, 'EPSG', 3889, 'GEOGCS[\"IGRS\",DATUM[\"Iraqi_Geospatial_Reference_System\",SPHEROID[\"GRS 1980\",6378137,298.257222101,AUTHORITY[\"EPSG\",\"7019\"]],TOWGS84[0,0,0,0,0,0,0],AUTHORITY[\"EPSG\",\"1029\"]],PRIMEM[\"Greenwich\",0,AUTHORITY[\"EPSG\",\"8901\"]],UNIT[\"degree\",0.0174532925199433,AUTHORITY[\"EPSG\",\"9122\"]],AUTHORITY[\"EPSG\",\"3889\"]]', '+proj=longlat +ellps=GRS80 +towgs84=0,0,0,0,0,0,0 +no_defs ')\n",
      "\n",
      "(3906, 'EPSG', 3906, 'GEOGCS[\"MGI 1901\",DATUM[\"MGI_1901\",SPHEROID[\"Bessel 1841\",6377397.155,299.1528128,AUTHORITY[\"EPSG\",\"7004\"]],TOWGS84[682,-203,480,0,0,0,0],AUTHORITY[\"EPSG\",\"1031\"]],PRIMEM[\"Greenwich\",0,AUTHORITY[\"EPSG\",\"8901\"]],UNIT[\"degree\",0.0174532925199433,AUTHORITY[\"EPSG\",\"9122\"]],AUTHORITY[\"EPSG\",\"3906\"]]', '+proj=longlat +ellps=bessel +towgs84=682,-203,480,0,0,0,0 +no_defs ')\n",
      "\n",
      "(4001, 'EPSG', 4001, 'GEOGCS[\"Unknown datum based upon the Airy 1830 ellipsoid\",DATUM[\"Not_specified_based_on_Airy_1830_ellipsoid\",SPHEROID[\"Airy 1830\",6377563.396,299.3249646,AUTHORITY[\"EPSG\",\"7001\"]],AUTHORITY[\"EPSG\",\"6001\"]],PRIMEM[\"Greenwich\",0,AUTHORITY[\"EPSG\",\"8901\"]],UNIT[\"degree\",0.0174532925199433,AUTHORITY[\"EPSG\",\"9122\"]],AUTHORITY[\"EPSG\",\"4001\"]]', '+proj=longlat +ellps=airy +no_defs ')\n",
      "\n",
      "(4002, 'EPSG', 4002, 'GEOGCS[\"Unknown datum based upon the Airy Modified 1849 ellipsoid\",DATUM[\"Not_specified_based_on_Airy_Modified_1849_ellipsoid\",SPHEROID[\"Airy Modified 1849\",6377340.189,299.3249646,AUTHORITY[\"EPSG\",\"7002\"]],AUTHORITY[\"EPSG\",\"6002\"]],PRIMEM[\"Greenwich\",0,AUTHORITY[\"EPSG\",\"8901\"]],UNIT[\"degree\",0.0174532925199433,AUTHORITY[\"EPSG\",\"9122\"]],AUTHORITY[\"EPSG\",\"4002\"]]', '+proj=longlat +ellps=mod_airy +no_defs ')\n",
      "\n",
      "(4003, 'EPSG', 4003, 'GEOGCS[\"Unknown datum based upon the Australian National Spheroid\",DATUM[\"Not_specified_based_on_Australian_National_Spheroid\",SPHEROID[\"Australian National Spheroid\",6378160,298.25,AUTHORITY[\"EPSG\",\"7003\"]],AUTHORITY[\"EPSG\",\"6003\"]],PRIMEM[\"Greenwich\",0,AUTHORITY[\"EPSG\",\"8901\"]],UNIT[\"degree\",0.0174532925199433,AUTHORITY[\"EPSG\",\"9122\"]],AUTHORITY[\"EPSG\",\"4003\"]]', '+proj=longlat +ellps=aust_SA +no_defs ')\n",
      "\n",
      "(4004, 'EPSG', 4004, 'GEOGCS[\"Unknown datum based upon the Bessel 1841 ellipsoid\",DATUM[\"Not_specified_based_on_Bessel_1841_ellipsoid\",SPHEROID[\"Bessel 1841\",6377397.155,299.1528128,AUTHORITY[\"EPSG\",\"7004\"]],AUTHORITY[\"EPSG\",\"6004\"]],PRIMEM[\"Greenwich\",0,AUTHORITY[\"EPSG\",\"8901\"]],UNIT[\"degree\",0.0174532925199433,AUTHORITY[\"EPSG\",\"9122\"]],AUTHORITY[\"EPSG\",\"4004\"]]', '+proj=longlat +ellps=bessel +no_defs ')\n",
      "\n",
      "(4005, 'EPSG', 4005, 'GEOGCS[\"Unknown datum based upon the Bessel Modified ellipsoid\",DATUM[\"Not_specified_based_on_Bessel_Modified_ellipsoid\",SPHEROID[\"Bessel Modified\",6377492.018,299.1528128,AUTHORITY[\"EPSG\",\"7005\"]],AUTHORITY[\"EPSG\",\"6005\"]],PRIMEM[\"Greenwich\",0,AUTHORITY[\"EPSG\",\"8901\"]],UNIT[\"degree\",0.0174532925199433,AUTHORITY[\"EPSG\",\"9122\"]],AUTHORITY[\"EPSG\",\"4005\"]]', '+proj=longlat +a=6377492.018 +b=6356173.508712696 +no_defs ')\n",
      "\n",
      "\n",
      "Table tweet_hashtags:\n",
      "(1, 1, '1220777199734792192')\n",
      "(2, 2, '1220777199734792192')\n",
      "(3, 3, '1220777199734792192')\n",
      "(4, 4, '1220777199734792192')\n",
      "(5, 5, '1220777199734792192')\n",
      "(6, 6, '1220777199734792192')\n",
      "(7, 7, '1220777199734792192')\n",
      "(8, 8, '1220777199734792192')\n",
      "(9, 9, '1220777199734792192')\n",
      "(10, 5, '1220729469461127168')\n",
      "\n",
      "Table tweet_mentions:\n",
      "(1, 905154964829462528, '1220786987143192578')\n",
      "(2, 707774148072882176, '1220786987143192578')\n",
      "(3, 761224507, '1220798255098777601')\n",
      "(4, 905154964829462528, '1220798255098777601')\n",
      "(5, 707774148072882176, '1220798255098777601')\n",
      "(6, 949056207448432640, '1220796312565796865')\n",
      "(7, 479031878, '1220796312565796865')\n",
      "(8, 939182810417520640, '1220796312565796865')\n",
      "(9, 938321745882202113, '1220796312565796865')\n",
      "(10, 1149479951617253376, '1220796312565796865')\n",
      "\n",
      "Table tweets:\n",
      "('1220798251919536128', 'Virologist Who Helped Fight SARS Says Wuhan Coronavirus Is 10x Worse https://t.co/3KD5dMYrsj', None, 0, 0, datetime.datetime(2020, 1, 24, 19, 59, 19, tzinfo=datetime.timezone.utc), 280887543, None, None)\n",
      "\n",
      "('1220798255098777601', 'RT @Chn_analysis: @thespybrief @hiemakene Daily Mail (yes I know!!) thickens a potential plot https://t.co/TNTF03RXz2', None, 15, 0, datetime.datetime(2020, 1, 24, 19, 59, 20, tzinfo=datetime.timezone.utc), 519245371, None, '1220786987143192578')\n",
      "\n",
      "('1220790544009519104', 'RT @badiucao: Another video showing medics from #wuhan completely burn out &amp; melt down.\\nreally sad and angry to see this happening\\nthey nee…', None, 6784, 0, datetime.datetime(2020, 1, 24, 19, 28, 41, tzinfo=datetime.timezone.utc), 1036627006962720768, None, '1220729514000633858')\n",
      "\n",
      "('1220798255992201217', 'RT @Adrienne711: @MBJ8388 @FederalistNo78 @jaimec729 @AnJillOfLight @Agortitz @Deepstate6969 @MissesJ3 @RockyShorz @1GigiSims @BabeReflex_8…', None, 4, 0, datetime.datetime(2020, 1, 24, 19, 59, 20, tzinfo=datetime.timezone.utc), 1133475349285691393, None, '1220796312565796865')\n",
      "\n",
      "('1220798256608878598', 'RT @Gadi3232: The Chinese government has blocked internet traffic to prevent and hide the dimensions of the spread, this video was sent usi…', None, 438, 0, datetime.datetime(2020, 1, 24, 19, 59, 20, tzinfo=datetime.timezone.utc), 3278713214, None, '1220777199734792192')\n",
      "\n",
      "('1220798259431645185', 'RT @ianbremmer: Scene from #Wuhan right before the lockdown. https://t.co/pkks4u6KrA', None, 113, 0, datetime.datetime(2020, 1, 24, 19, 59, 21, tzinfo=datetime.timezone.utc), 3231948358, None, '1220729469461127168')\n",
      "\n",
      "('1220798259599462400', \"RT @cnni: Impeachment news is dominating Washington this week, but @bianca_nobilo is tracking today's other headlines:\\n\\n- China seeking to…\", None, 41, 0, datetime.datetime(2020, 1, 24, 19, 59, 21, tzinfo=datetime.timezone.utc), 894312170, None, '1220771151481311234')\n",
      "\n",
      "('1220798259893022720', 'RT @nytimes: The latest on the Wuhan coronavirus outbreak: France has become the first country in Europe to report infections. Authorities…', None, 387, 0, datetime.datetime(2020, 1, 24, 19, 59, 21, tzinfo=datetime.timezone.utc), 51081214, None, '1220795757156012032')\n",
      "\n",
      "('1220798261197340672', 'RT @CBCNews: NEW: France confirms two cases of #coronavirus — the first in Europe. https://t.co/Orvg5qlkIR', None, 27, 0, datetime.datetime(2020, 1, 24, 19, 59, 21, tzinfo=datetime.timezone.utc), 2905873432, None, '1220798187902029824')\n",
      "\n",
      "('1220790545431375872', 'RT @ladbible: Extraordinary footage shows the project underway in the outbreak city of Wuhan', None, 31, 0, datetime.datetime(2020, 1, 24, 19, 28, 41, tzinfo=datetime.timezone.utc), 2467965137, None, '1220753999349067776')\n",
      "\n",
      "\n"
     ]
    }
   ],
   "source": [
    "# Show sample data\n",
    "for t in tables:\n",
    "    print('Table '+t+':')\n",
    "    cur.execute('SELECT * FROM '+t+' LIMIT 10')\n",
    "    for r in cur.fetchall():\n",
    "        print(r)\n",
    "        if len(str(r)) > 50:\n",
    "            print('')\n",
    "    print('')"
   ]
  },
  {
   "cell_type": "markdown",
   "id": "9d89f51b",
   "metadata": {},
   "source": [
    "#### Step 8: Create categories for analysable data"
   ]
  },
  {
   "cell_type": "code",
   "execution_count": 80,
   "id": "21cf6373",
   "metadata": {},
   "outputs": [
    {
     "name": "stdout",
     "output_type": "stream",
     "text": [
      "#5GCoronavirus  -  COVID19 is preaded by 5G\n",
      "#911insidejob  -  9/11 was inside job\n",
      "#911truth  -  9/11 was inside job\n",
      "#Agenda21  -  New world order\n",
      "#CCPVirus  -  The virus escaped from a Chinese lab\n",
      "#Chemtrails  -  Chemtrails\n",
      "#ChinaLiedPeopleDied  -  The virus escaped from a Chinese lab\n",
      "#ClimateChangeHoax  -  Global Warming is HOAX\n",
      "#DeepStateFauci  -  Deep State\n",
      "#DeepStateVaccine  -  Deep State\n",
      "#DeepstateVirus  -  Deep State\n",
      "#flatEarth  -  Flat Earth\n",
      "#GlobalWarmingHoax  -  Global Warming is HOAX\n",
      "#illuminati  -  Illuminati\n",
      "#MAGA  -  Qanon\n",
      "#moonhoax  -  Moon landing is fake\n",
      "#MoonLandingHoax  -  Moon landing is fake\n",
      "#PedoGateIsReal  -  Pizzagate conspiracy theory\n",
      "#pizzaGateIsReal  -  Pizzagate conspiracy theory\n",
      "#QAnon  -  Qanon\n",
      "#reptilians  -  Reptilian conspiracy theory\n",
      "#SorosVirus  -  COVID19 and microchipping\n",
      "#WWG1WGA  -  Qanon\n"
     ]
    }
   ],
   "source": [
    "# Create list of conspiracy theories\n",
    "conspiracies=('Deep State','Qanon','New world order','The virus escaped from a Chinese lab','Global Warming is HOAX','COVID19 and microchipping',\n",
    "              'COVID19 is preaded by 5G','Moon landing is fake','9/11 was inside job',\n",
    "              'Pizzagate conspiracy theory','Chemtrails',\n",
    "              'Flat Earth','Illuminati','Reptilian conspiracy theory')\n",
    "\n",
    "# Map hashtags to the list of conspiracy theories\n",
    "hashtags={'#DeepstateVirus':0,'#DeepStateVaccine':0,'#DeepStateFauci':0,\n",
    "          '#QAnon':1,'#MAGA':1,'#WWG1WGA':1,\n",
    "          '#Agenda21':2,\n",
    "          '#ChinaLiedPeopleDied':3,'#CCPVirus':3,\n",
    "          '#ClimateChangeHoax':4, '#GlobalWarmingHoax':4,\n",
    "          '#SorosVirus':5, # '#BillGAtes':5\n",
    "          '#5GCoronavirus':6,\n",
    "          '#MoonLandingHoax':7,'#moonhoax':7,\n",
    "          '#911truth':8,'#911insidejob':8,\n",
    "          '#pizzaGateIsReal':9,'#PedoGateIsReal':9,\n",
    "          '#Chemtrails':10,\n",
    "          '#flatEarth':11,\n",
    "          '#illuminati':12,\n",
    "          '#reptilians':13}\n",
    "\n",
    "# Print the generated mappings in alphabetical order\n",
    "l = list(hashtags.keys())\n",
    "l.sort(key = lambda e: e.upper())\n",
    "for t in l:\n",
    "    print(t,' - ',conspiracies[hashtags[t]])"
   ]
  },
  {
   "cell_type": "markdown",
   "id": "6b212086",
   "metadata": {},
   "source": [
    "## Task 3 - Sort tweets by conspiracy theories"
   ]
  },
  {
   "cell_type": "markdown",
   "id": "972cc12c",
   "metadata": {},
   "source": [
    "## Task 4 - Calculate the ratio of tweets with extreme / neutral sentiment"
   ]
  },
  {
   "cell_type": "markdown",
   "id": "6fa2a63c",
   "metadata": {},
   "source": [
    "## Task 5 - Find Top 10 most active accounts in all extreme sentiment conspiracy theories"
   ]
  },
  {
   "cell_type": "markdown",
   "id": "2437dcb4",
   "metadata": {},
   "source": [
    "## Task 6 - Find Top 10 most used hashtags for each exteme sentiment conspiracy theories "
   ]
  },
  {
   "cell_type": "markdown",
   "id": "a2f39bfd",
   "metadata": {},
   "source": [
    "## Deep State  \n",
    " \n",
    "https://en.wikipedia.org/wiki/Deep_state \n",
    " \n",
    "A deep state is a type of governance made up of potentially secret and unauthorised \n",
    "networks of power operating independently of a state's political leadership in pursuit of \n",
    "their own agenda and goals. In popular usage, the term carries overwhelmingly negative \n",
    "connotations. The range of possible uses of the term is similar to that for shadow \n",
    "government. The expression state within a state is an older and similar concept. Historically, \n",
    "it designated a well-defined organization which seeks to function independently, whereas \n",
    "the deep state refers more to a hidden organization seeking to manipulate the public state. \n",
    " \n",
    "`#DeepstateVirus #DeepStateVaccine #DeepStateFauci`"
   ]
  },
  {
   "cell_type": "code",
   "execution_count": null,
   "id": "5701c482",
   "metadata": {},
   "outputs": [],
   "source": []
  },
  {
   "cell_type": "code",
   "execution_count": null,
   "id": "655888a0",
   "metadata": {},
   "outputs": [],
   "source": []
  },
  {
   "cell_type": "markdown",
   "id": "2c99c946",
   "metadata": {},
   "source": [
    "## Qanon  \n",
    " \n",
    "https://dennikn.sk/2474994/pripraveni-na-velke-prebudenie-zo-zakulisia-hnutia-qanon/ \n",
    " \n",
    "“The [QAnon] conspiracy involves a range of batshit theories but very basically, many \n",
    "QAnon supporters believe in a global conspiracy involving a ring of Satan-worshipping, child-\n",
    "molesting criminals led by prominent Democrats that includes everyone from Hillary Clinton \n",
    "to Tom Hanks to a Mexican cement company [Cemex]. They also believe information about \n",
    "it is being leaked via cryptic posts on the internet by someone with very high Q-level \n",
    "security clearance—which sounds just as made-up as it definitely is.” \n",
    " \n",
    "`#QAnon #MAGA #WWG1WGA`"
   ]
  },
  {
   "cell_type": "code",
   "execution_count": null,
   "id": "41b60c7b",
   "metadata": {},
   "outputs": [],
   "source": []
  },
  {
   "cell_type": "code",
   "execution_count": null,
   "id": "3bc17a1b",
   "metadata": {},
   "outputs": [],
   "source": []
  },
  {
   "cell_type": "markdown",
   "id": "00eddbc0",
   "metadata": {},
   "source": [
    "## New world order  \n",
    " \n",
    "https://www.buzzfeed.com/joeydurso/coronavirus-agenda-21-5g\n",
    "\n",
    "An Old Conspiracy Theory Known As \"Agenda 21\" Has Been Rebooted By The Coronavirus \n",
    "Pandemic. New World Order is here again. \n",
    " \n",
    "`#Agenda21`"
   ]
  },
  {
   "cell_type": "code",
   "execution_count": null,
   "id": "ddfe6ba0",
   "metadata": {},
   "outputs": [],
   "source": []
  },
  {
   "cell_type": "code",
   "execution_count": null,
   "id": "5181b808",
   "metadata": {},
   "outputs": [],
   "source": []
  },
  {
   "cell_type": "markdown",
   "id": "f1422c1c",
   "metadata": {},
   "source": [
    "## The virus escaped from a Chinese lab  \n",
    " \n",
    "https://www.vox.com/22453571/lab-leak-covid-19-coronavirus-hypothesis-wuhan-virology-china \n",
    " \n",
    "Where did the virus that causes Covid-19 come from? It’s one of the most persistent \n",
    "mysteries of the pandemic. The debate about it among scientists, policymakers, journalists, \n",
    "amateur internet sleuths, and the general public has reignited with new revelations and \n",
    "new voices in the mix. We may never know for sure if the virus that causes Covid-19 leaked \n",
    "from a lab. But that won’t stop the debate. \n",
    " \n",
    "`#CCPVirus #ChinaLiedPeopleDied`"
   ]
  },
  {
   "cell_type": "code",
   "execution_count": null,
   "id": "7c8d405e",
   "metadata": {},
   "outputs": [],
   "source": []
  },
  {
   "cell_type": "code",
   "execution_count": null,
   "id": "bac2f562",
   "metadata": {},
   "outputs": [],
   "source": []
  },
  {
   "cell_type": "markdown",
   "id": "c5212886",
   "metadata": {},
   "source": [
    "## Global Warming is HOAX  \n",
    " \n",
    "https://www.hull.ac.uk/special/blog/why-people-still-believe-climate-change-is-fake-and-\n",
    "why-we-know-theyre-wrong \n",
    " \n",
    "Why people still believe climate change is fake...\n",
    "\n",
    "`#ClimateChangeHoax #GlobalWarmingHoax`"
   ]
  },
  {
   "cell_type": "code",
   "execution_count": null,
   "id": "0e46348b",
   "metadata": {},
   "outputs": [],
   "source": []
  },
  {
   "cell_type": "code",
   "execution_count": null,
   "id": "4f020154",
   "metadata": {},
   "outputs": [],
   "source": []
  },
  {
   "cell_type": "markdown",
   "id": "14ed4fbe",
   "metadata": {},
   "source": [
    "## COVID19 and microchipping  \n",
    " \n",
    "https://www.politifact.com/factchecks/2020/may/28/facebook-posts/theres-no-plot-\n",
    "microchip-people-during-covid-19-te/ \n",
    " \n",
    "There’s no evidence that Bill Gates and George Soros plan to microchip people being tested \n",
    "for coronavirus. \n",
    " \n",
    "`#SorosVirus #BillGAtes`"
   ]
  },
  {
   "cell_type": "code",
   "execution_count": null,
   "id": "4c017731",
   "metadata": {},
   "outputs": [],
   "source": []
  },
  {
   "cell_type": "code",
   "execution_count": null,
   "id": "912cd5f8",
   "metadata": {},
   "outputs": [],
   "source": []
  },
  {
   "cell_type": "markdown",
   "id": "0fd7e527",
   "metadata": {},
   "source": [
    "## COVID19 is preaded by 5G  \n",
    " \n",
    "https://www.vox.com/recode/2020/4/24/21231085/coronavirus-5g-conspiracy-theory-\n",
    "covid-facebook-youtube \n",
    " \n",
    "The first link John Gregory saw pushing a connection between 5G and the coronavirus \n",
    "pandemic was on a French conspiracy website called Les moutons enragés, which loosely \n",
    "translates as “The rabid sheep.” A January 20 post floated that the millimeter wave \n",
    "spectrum used by 5G technology and Covid-19, the disease caused by the novel coronavirus, \n",
    "could be related, pointing to reports about Wuhan installing 5G towers before the outbreak. \n",
    "Three months later, conspiracy theorists making similar claims were setting cellphone \n",
    "towers on fire in Europe. \n",
    " \n",
    "`#5GCoronavirus`"
   ]
  },
  {
   "cell_type": "code",
   "execution_count": null,
   "id": "7fba51ea",
   "metadata": {},
   "outputs": [],
   "source": []
  },
  {
   "cell_type": "code",
   "execution_count": null,
   "id": "fd47aaaa",
   "metadata": {},
   "outputs": [],
   "source": []
  },
  {
   "cell_type": "markdown",
   "id": "d24c7e29",
   "metadata": {},
   "source": [
    "## Moon landing is fake  \n",
    " \n",
    "https://www.space.com/apollo-11-moon-landing-hoax-believers.html \n",
    " \n",
    "Moon-Landing Hoax Still Lives On, 50 Years After Apollo 11. \n",
    " \n",
    "`#MoonLandingHoax #moonhoax`"
   ]
  },
  {
   "cell_type": "code",
   "execution_count": null,
   "id": "c4090a36",
   "metadata": {},
   "outputs": [],
   "source": []
  },
  {
   "cell_type": "code",
   "execution_count": null,
   "id": "85b4e713",
   "metadata": {},
   "outputs": [],
   "source": []
  },
  {
   "cell_type": "markdown",
   "id": "da9dab42",
   "metadata": {},
   "source": [
    "## 9/11 was inside job  \n",
    " \n",
    "https://www.bbc.com/news/58469600 \n",
    " \n",
    "11 September 2001: The conspiracy theories still spreading after 20 years \n",
    " \n",
    "`#911truth #911insidejob`"
   ]
  },
  {
   "cell_type": "code",
   "execution_count": null,
   "id": "90386cdb",
   "metadata": {},
   "outputs": [],
   "source": []
  },
  {
   "cell_type": "code",
   "execution_count": null,
   "id": "119c0c1d",
   "metadata": {},
   "outputs": [],
   "source": []
  },
  {
   "cell_type": "markdown",
   "id": "69e716e3",
   "metadata": {},
   "source": [
    "## Pizzagate conspiracy theory \n",
    " \n",
    "(https://en.wikipedia.org/wiki/Pizzagate_conspiracy_theory \n",
    " \n",
    "In March 2016, the personal email account of John Podesta, Hillary Clinton's campaign chair, \n",
    "was hacked in a spear-phishing attack. WikiLeaks published his emails in November 2016. \n",
    "Proponents of the Pizzagate conspiracy theory falsely claimed the emails contained coded \n",
    "messages that connected several high-ranking Democratic Party officials and U.S. \n",
    "restaurants with an alleged human trafficking and child sex ring. One of the establishments \n",
    "allegedly involved was the Comet Ping Pong pizzeria in Washington, D.C.[6][7] \n",
    " \n",
    "`#pizzaGateIsReal #PedoGateIsReal`"
   ]
  },
  {
   "cell_type": "code",
   "execution_count": null,
   "id": "20247ba8",
   "metadata": {},
   "outputs": [],
   "source": []
  },
  {
   "cell_type": "code",
   "execution_count": null,
   "id": "043fb2d4",
   "metadata": {},
   "outputs": [],
   "source": []
  },
  {
   "cell_type": "markdown",
   "id": "da5e1ef6",
   "metadata": {},
   "source": [
    "## Chemtrails  \n",
    " \n",
    "https://keith.seas.harvard.edu/chemtrails-conspiracy-theory \n",
    " \n",
    "Chemtrails refers to the theory that governments or other parties are engaged in a secret \n",
    "program to add toxic chemicals to the atmosphere from aircraft in a way that forms visible \n",
    "plumes in the sky, somewhat similar to contrails. Various different motivations for this \n",
    "alleged spraying are speculated, including sterilization, reduction of life expectancy, mind \n",
    "control or weather control. \n",
    " \n",
    "`#Chemtrails`"
   ]
  },
  {
   "cell_type": "code",
   "execution_count": null,
   "id": "4981e122",
   "metadata": {},
   "outputs": [],
   "source": []
  },
  {
   "cell_type": "code",
   "execution_count": null,
   "id": "cf437156",
   "metadata": {},
   "outputs": [],
   "source": []
  },
  {
   "cell_type": "markdown",
   "id": "7ab0cdd7",
   "metadata": {},
   "source": [
    "## Flat Earth  \n",
    " \n",
    "https://edition.cnn.com/2019/11/16/us/flat-earth-conference-conspiracy-theories-scli-intl/index.html \n",
    " \n",
    "(CNN)\"I don't want to be a flat Earther,\" David Weiss says, his voice weary as he reflects on \n",
    "his personal awakening. \"Would you wake up in the morning and want everyone to think \n",
    "you're an idiot?\" But Weiss is a flat Earther. Ever since he tried and failed to find proof of the \n",
    "Earth's curve four years ago, he's believed with an evident passion that our planet is both \n",
    "flat and stationary -- and it's turned his world upside down. \n",
    " \n",
    "`#flatEarth`"
   ]
  },
  {
   "cell_type": "code",
   "execution_count": null,
   "id": "b7f06499",
   "metadata": {},
   "outputs": [],
   "source": []
  },
  {
   "cell_type": "code",
   "execution_count": null,
   "id": "1d8fc741",
   "metadata": {},
   "outputs": [],
   "source": []
  },
  {
   "cell_type": "markdown",
   "id": "24a1b3b9",
   "metadata": {},
   "source": [
    "## Illuminati  \n",
    " \n",
    "https://www.bbc.com/future/article/20170809-the-accidental-invention-of-the-illuminati-\n",
    "conspiracy \n",
    "It’s the conspiracy theory to dwarf all conspiracy theories. A smorgasbord of every other \n",
    "intrigue under the sun, the Illuminati are the supposed overlords controlling the world’s \n",
    "affairs, operating secretly as they seek to establish a New World Order. \n",
    " \n",
    "`#illuminati`"
   ]
  },
  {
   "cell_type": "code",
   "execution_count": null,
   "id": "9726165c",
   "metadata": {},
   "outputs": [],
   "source": []
  },
  {
   "cell_type": "code",
   "execution_count": null,
   "id": "14a5727d",
   "metadata": {},
   "outputs": [],
   "source": []
  },
  {
   "cell_type": "markdown",
   "id": "59e5ba3f",
   "metadata": {},
   "source": [
    "## Reptilian conspiracy theory  \n",
    " \n",
    "https://en.wikipedia.org/wiki/Reptilian_conspiracy_theory \n",
    " \n",
    "Reptilians – also called reptoids, lizard people, reptiloids, saurians, or draconians – are \n",
    "supposed reptilian humanoids, which play a prominent role in fantasy, science fiction, \n",
    "ufology, and conspiracy theories. The idea of reptilians was popularised by David Icke, a \n",
    "conspiracy theorist who claims shapeshifting reptilian aliens control Earth by taking on \n",
    "human form and gaining political power to manipulate human societies. Icke has stated on \n",
    "multiple occasions that many world leaders are, or are possessed by, so-called reptilians. \n",
    " \n",
    "`#reptilians`"
   ]
  },
  {
   "cell_type": "code",
   "execution_count": null,
   "id": "ab3c72ef",
   "metadata": {},
   "outputs": [],
   "source": []
  },
  {
   "cell_type": "code",
   "execution_count": null,
   "id": "60cb8bf9",
   "metadata": {},
   "outputs": [],
   "source": []
  }
 ],
 "metadata": {
  "kernelspec": {
   "display_name": "Python 3",
   "language": "python",
   "name": "python3"
  },
  "language_info": {
   "codemirror_mode": {
    "name": "ipython",
    "version": 3
   },
   "file_extension": ".py",
   "mimetype": "text/x-python",
   "name": "python",
   "nbconvert_exporter": "python",
   "pygments_lexer": "ipython3",
   "version": "3.8.8"
  }
 },
 "nbformat": 4,
 "nbformat_minor": 5
}
